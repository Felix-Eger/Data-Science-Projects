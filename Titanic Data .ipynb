{
 "cells": [
  {
   "cell_type": "markdown",
   "metadata": {},
   "source": [
    "# Homework 10\n",
    "\n",
    "* **Build the best model on the kaggle [Housing Data](https://www.kaggle.com/c/house-prices-advanced-regression-techniques) that you can !**\n",
    "\n",
    "* **Use only Ridge or lasso or elastic net.**\n",
    "\n",
    "* **Upload a screenshot of your leaderboard ranking**\n",
    "\n",
    "**import libraries**"
   ]
  },
  {
   "cell_type": "code",
   "execution_count": 221,
   "metadata": {},
   "outputs": [],
   "source": [
    "import pandas as pd\n",
    "import numpy as np\n",
    "import matplotlib as mpl\n",
    "import matplotlib.pyplot as plt\n",
    "from sklearn.preprocessing import OneHotEncoder\n",
    "from sklearn.impute import SimpleImputer\n",
    "import numpy as np\n",
    "from sklearn.compose import ColumnTransformer\n",
    "from sklearn.compose import make_column_selector\n",
    "from sklearn.pipeline import Pipeline\n",
    "from sklearn.linear_model import ElasticNet\n",
    "from sklearn.model_selection import GridSearchCV\n",
    "\n",
    "\n",
    "from sklearn.model_selection import train_test_split"
   ]
  },
  {
   "cell_type": "code",
   "execution_count": 222,
   "metadata": {},
   "outputs": [],
   "source": [
    "df_train = pd.read_csv(\"train.csv\")\n",
    "df_test = pd.read_csv(\"test.csv\")\n",
    "y_train = df_train.SalePrice\n",
    "X_train_unclean = df_train.drop(columns=[\"SalePrice\"])\n",
    "X_test_unclean = df_test"
   ]
  },
  {
   "cell_type": "code",
   "execution_count": 223,
   "metadata": {},
   "outputs": [
    {
     "name": "stdout",
     "output_type": "stream",
     "text": [
      "(1460, 81) (1459, 80)\n"
     ]
    }
   ],
   "source": [
    "print(df_train.shape, df_test.shape)"
   ]
  },
  {
   "cell_type": "code",
   "execution_count": 224,
   "metadata": {},
   "outputs": [],
   "source": [
    "#get all categorical columns\n",
    "categories_train = X_train_unclean.select_dtypes(include=['object'])\n",
    "\n",
    "categories_test = X_test_unclean.select_dtypes(include=['object'])"
   ]
  },
  {
   "cell_type": "code",
   "execution_count": 225,
   "metadata": {},
   "outputs": [
    {
     "name": "stdout",
     "output_type": "stream",
     "text": [
      "(1459, 43)\n"
     ]
    }
   ],
   "source": [
    "print(categories_test.shape)"
   ]
  },
  {
   "cell_type": "markdown",
   "metadata": {},
   "source": [
    "Alley: NA = \"none\"  \n",
    "MasVnrType: NA = \"none\"  \n",
    "BsmtQual: NA = \"none\"  \n",
    "BsmtCond: NA = \"none\"  \n",
    "BsmtExposure: NA = \"none\"  \n",
    "BsmtFinType1: NA = \"none\"  \n",
    "BsmtFinType2: NA = \"none\"  \n",
    "Electrical: NA = \"SBrkr\" (weil häufigste)    \n",
    "FireplaceQu: NA = \"none\"  \n",
    "GarageType: NA = \"none\"  \n",
    "GarageFinish: NA = \"none\"  \n",
    "GarageQual: NA = \"none\"  \n",
    "GarageCond: NA = \"none\"  \n",
    "PoolQC: NA = \"none\"  \n",
    "Fence: NA = \"none\"  \n",
    "MiscFeature: NA = \"none\"  "
   ]
  },
  {
   "cell_type": "code",
   "execution_count": 226,
   "metadata": {},
   "outputs": [],
   "source": [
    "# clean the training data\n",
    "cats_train = categories_train.drop(columns = \"Electrical\").fillna(\"None\")\n",
    "elec_train = pd.DataFrame(categories.Electrical.fillna(\"Sbrkr\"))\n",
    "rest_train = X_train_unclean.select_dtypes(exclude=['object'])\n",
    "X_train = pd.concat([cats_train, elec_train, rest_train], axis = 1) "
   ]
  },
  {
   "cell_type": "code",
   "execution_count": 227,
   "metadata": {},
   "outputs": [],
   "source": [
    "# clean the test data\n",
    "cats_test = categories_test.drop(columns = \"Electrical\").fillna(\"None\")\n",
    "elec_test = pd.DataFrame(categories_test.Electrical.fillna(\"Sbrkr\"))\n",
    "rest_test = X_test_unclean.select_dtypes(exclude=['object'])\n",
    "X_test = pd.concat([cats_test, elec_test, rest_test], axis = 1) "
   ]
  },
  {
   "cell_type": "code",
   "execution_count": 228,
   "metadata": {},
   "outputs": [
    {
     "name": "stdout",
     "output_type": "stream",
     "text": [
      "(1459, 80)\n"
     ]
    }
   ],
   "source": [
    "print(X_test.shape)"
   ]
  },
  {
   "cell_type": "code",
   "execution_count": 229,
   "metadata": {},
   "outputs": [
    {
     "name": "stdout",
     "output_type": "stream",
     "text": [
      "(1460, 1) (1460, 36) (1460, 42)\n",
      "MSZoning         0\n",
      "Street           0\n",
      "Alley            0\n",
      "LotShape         0\n",
      "LandContour      0\n",
      "Utilities        0\n",
      "LotConfig        0\n",
      "LandSlope        0\n",
      "Neighborhood     0\n",
      "Condition1       0\n",
      "Condition2       0\n",
      "BldgType         0\n",
      "HouseStyle       0\n",
      "RoofStyle        0\n",
      "RoofMatl         0\n",
      "Exterior1st      0\n",
      "Exterior2nd      0\n",
      "MasVnrType       0\n",
      "ExterQual        0\n",
      "ExterCond        0\n",
      "Foundation       0\n",
      "BsmtQual         0\n",
      "BsmtCond         0\n",
      "BsmtExposure     0\n",
      "BsmtFinType1     0\n",
      "BsmtFinType2     0\n",
      "Heating          0\n",
      "HeatingQC        0\n",
      "CentralAir       0\n",
      "KitchenQual      0\n",
      "Functional       0\n",
      "FireplaceQu      0\n",
      "GarageType       0\n",
      "GarageFinish     0\n",
      "GarageQual       0\n",
      "GarageCond       0\n",
      "PavedDrive       0\n",
      "PoolQC           0\n",
      "Fence            0\n",
      "MiscFeature      0\n",
      "SaleType         0\n",
      "SaleCondition    0\n",
      "dtype: int64 Electrical    0\n",
      "dtype: int64 MSSubClass         0\n",
      "LotFrontage      259\n",
      "LotArea            0\n",
      "OverallQual        0\n",
      "OverallCond        0\n",
      "YearBuilt          0\n",
      "YearRemodAdd       0\n",
      "MasVnrArea         8\n",
      "BsmtFinSF1         0\n",
      "BsmtFinSF2         0\n",
      "BsmtUnfSF          0\n",
      "TotalBsmtSF        0\n",
      "1stFlrSF           0\n",
      "2ndFlrSF           0\n",
      "LowQualFinSF       0\n",
      "GrLivArea          0\n",
      "BsmtFullBath       0\n",
      "BsmtHalfBath       0\n",
      "FullBath           0\n",
      "HalfBath           0\n",
      "BedroomAbvGr       0\n",
      "KitchenAbvGr       0\n",
      "TotRmsAbvGrd       0\n",
      "Fireplaces         0\n",
      "GarageYrBlt       81\n",
      "GarageCars         0\n",
      "GarageArea         0\n",
      "WoodDeckSF         0\n",
      "OpenPorchSF        0\n",
      "EnclosedPorch      0\n",
      "3SsnPorch          0\n",
      "ScreenPorch        0\n",
      "PoolArea           0\n",
      "MiscVal            0\n",
      "MoSold             0\n",
      "YrSold             0\n",
      "dtype: int64\n"
     ]
    }
   ],
   "source": [
    "print(elec.shape, rest.shape, cats.shape)\n",
    "print(cats.isna().sum(), elec.isna().sum(), rest.isna().sum())"
   ]
  },
  {
   "cell_type": "code",
   "execution_count": 230,
   "metadata": {},
   "outputs": [],
   "source": [
    "# instantiate the encoder and imputer\n",
    "\n",
    "enc = OneHotEncoder(handle_unknown='ignore')\n",
    "\n",
    "imp_num = SimpleImputer(missing_values = np.nan)\n",
    "\n",
    "# define the columns on which operation to perform\n",
    "\n",
    "num_cols = make_column_selector(dtype_include='number')\n",
    "cat_cols = make_column_selector(dtype_exclude='number')"
   ]
  },
  {
   "cell_type": "code",
   "execution_count": 231,
   "metadata": {},
   "outputs": [
    {
     "data": {
      "text/plain": [
       "GridSearchCV(cv=10,\n",
       "             estimator=Pipeline(steps=[('preprocessor',\n",
       "                                        ColumnTransformer(transformers=[('num',\n",
       "                                                                         SimpleImputer(strategy='median'),\n",
       "                                                                         <sklearn.compose._column_transformer.make_column_selector object at 0x000001FF2E7B0370>),\n",
       "                                                                        ('cat',\n",
       "                                                                         OneHotEncoder(handle_unknown='ignore'),\n",
       "                                                                         <sklearn.compose._column_transformer.make_column_selector object at 0x000001FF2E0A1FA0>)...\n",
       "       0.34, 0.35, 0.36, 0.37, 0.38, 0.39, 0.4 , 0.41, 0.42, 0.43, 0.44,\n",
       "       0.45, 0.46, 0.47, 0.48, 0.49, 0.5 , 0.51, 0.52, 0.53, 0.54, 0.55,\n",
       "       0.56, 0.57, 0.58, 0.59, 0.6 , 0.61, 0.62, 0.63, 0.64, 0.65, 0.66,\n",
       "       0.67, 0.68, 0.69, 0.7 , 0.71, 0.72, 0.73, 0.74, 0.75, 0.76, 0.77,\n",
       "       0.78, 0.79, 0.8 , 0.81, 0.82, 0.83, 0.84, 0.85, 0.86, 0.87, 0.88,\n",
       "       0.89, 0.9 , 0.91, 0.92, 0.93, 0.94, 0.95, 0.96, 0.97, 0.98, 0.99]),\n",
       "                         'preprocessor__num__strategy': ['most_frequent',\n",
       "                                                         'mean', 'median']})"
      ]
     },
     "execution_count": 231,
     "metadata": {},
     "output_type": "execute_result"
    }
   ],
   "source": [
    "#create preprocessing step\n",
    "preprocessor = ColumnTransformer(transformers =[(\"num\", imp, num_cols),\n",
    "                                                (\"cat\", enc, cat_cols),\n",
    "                                               ], \n",
    "                                 \n",
    "                                 remainder = \"drop\")\n",
    "\n",
    "#create classifier\n",
    "enet = ElasticNet(tol = 1e-2, random_state = 42, normalize = True)\n",
    "\n",
    "#Create pipeline of preprocessor + lasso\n",
    "clf = Pipeline(steps=[(\"preprocessor\", preprocessor), (\"classifier\", enet)])\n",
    "\n",
    "#Define lasso_parameters searched to optimize\n",
    "elas_param = {\"classifier__alpha\":np.arange(0.01,1,0.01), \"classifier__l1_ratio\":np.arange(0.01,1,0.01), \"preprocessor__num__strategy\":[\"most_frequent\",\"mean\",\"median\"]}\n",
    "\n",
    "clf = GridSearchCV(clf, elas_param, cv=10)\n",
    "\n",
    "#clf.fit(X_train, y_train)"
   ]
  },
  {
   "cell_type": "code",
   "execution_count": 232,
   "metadata": {},
   "outputs": [
    {
     "name": "stdout",
     "output_type": "stream",
     "text": [
      "The optimal parameters for the elastic net are: (0.05, 0.99, 'median')\n"
     ]
    }
   ],
   "source": [
    "alpha_opt = clf.best_params_['classifier__alpha']\n",
    "l1_opt = clf.best_params_['classifier__l1_ratio']\n",
    "strat_opt = clf.best_params_['preprocessor__num__strategy']\n",
    "\n",
    "print(f\"The optimal parameters for the elastic net are: {alpha_opt, l1_opt, strat_opt}\")"
   ]
  },
  {
   "cell_type": "code",
   "execution_count": 233,
   "metadata": {},
   "outputs": [],
   "source": [
    "# implementing the fit using the best parameter\n",
    "\n",
    "# preprocessing instantiation\n",
    "enc = OneHotEncoder(handle_unknown='ignore')\n",
    "\n",
    "imp = SimpleImputer(missing_values = np.nan, strategy = strat_opt)\n",
    "\n",
    "#create preprocessing step\n",
    "preprocessor = ColumnTransformer(transformers =[(\"num\", imp, num_cols),(\"cat\", enc, cat_cols)], remainder = \"drop\")\n",
    "\n",
    "#create classifier\n",
    "enet_opt = ElasticNet(alpha = alpha_opt, l1_ratio=l1_opt ,tol = 1e-2, random_state = 42, normalize = True)\n",
    "\n",
    "# creating the pipe \n",
    "pipe = Pipeline(steps=[(\"preprocessor\", preprocessor), (\"classifier\", enet_opt)])\n",
    "\n",
    "# calculating the fit\n",
    "pipe.fit(X_train, y_train)\n",
    "\n",
    "# calculating the prediction \n",
    "y_pred = pipe.predict(X_test)"
   ]
  },
  {
   "cell_type": "code",
   "execution_count": 234,
   "metadata": {},
   "outputs": [
    {
     "name": "stdout",
     "output_type": "stream",
     "text": [
      "          SalePrice\n",
      "1461  113019.284058\n",
      "1462  158446.670992\n",
      "1463  185306.250794\n",
      "1464  201183.925089\n",
      "1465  196780.283603\n",
      "...             ...\n",
      "2915   77316.367122\n",
      "2916   81327.966936\n",
      "2917  170619.734951\n",
      "2918  111596.296735\n",
      "2919  219968.944023\n",
      "\n",
      "[1459 rows x 1 columns]\n"
     ]
    }
   ],
   "source": [
    "pred_df = pd.DataFrame(y_pred, index=df_test.index, columns=[\"SalePrice\"])\n",
    "pred_df.index += 1461\n",
    "pred_df.to_csv('kaggle-submission-houseprice.csv', header=True, index_label='Id')\n",
    "print(pred_df)"
   ]
  },
  {
   "cell_type": "code",
   "execution_count": null,
   "metadata": {},
   "outputs": [],
   "source": []
  }
 ],
 "metadata": {
  "hide_input": false,
  "kernelspec": {
   "display_name": "Python 3 (ipykernel)",
   "language": "python",
   "name": "python3"
  },
  "language_info": {
   "codemirror_mode": {
    "name": "ipython",
    "version": 3
   },
   "file_extension": ".py",
   "mimetype": "text/x-python",
   "name": "python",
   "nbconvert_exporter": "python",
   "pygments_lexer": "ipython3",
   "version": "3.9.7"
  },
  "varInspector": {
   "cols": {
    "lenName": 16,
    "lenType": 16,
    "lenVar": 40
   },
   "kernels_config": {
    "python": {
     "delete_cmd_postfix": "",
     "delete_cmd_prefix": "del ",
     "library": "var_list.py",
     "varRefreshCmd": "print(var_dic_list())"
    },
    "r": {
     "delete_cmd_postfix": ") ",
     "delete_cmd_prefix": "rm(",
     "library": "var_list.r",
     "varRefreshCmd": "cat(var_dic_list()) "
    }
   },
   "types_to_exclude": [
    "module",
    "function",
    "builtin_function_or_method",
    "instance",
    "_Feature"
   ],
   "window_display": false
  }
 },
 "nbformat": 4,
 "nbformat_minor": 4
}
