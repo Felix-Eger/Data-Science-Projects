{
 "cells": [
  {
   "cell_type": "markdown",
   "id": "410d82fe-2b96-43e4-ba8d-a05cfa0b96b5",
   "metadata": {
    "tags": []
   },
   "source": [
    "# Project Data Science"
   ]
  },
  {
   "cell_type": "markdown",
   "id": "7ae8758f-e407-4757-98cc-a99b4daa5467",
   "metadata": {},
   "source": [
    "This first notebook contains the data exploration, preprocessing and feature engineering of the data for our final project in data science. We chose to do a classification to model recidivism directly. <br>\n",
    "The participants of this project were:\n",
    "- Felix Eger\n",
    "- Minh Anh Hoang\n",
    "- Eric Schley\n",
    "- Rukniya Gurung\n",
    "\n",
    "Following this notebook, the following notebooks should be read in sequence to understand our conclusions:\n",
    "- Predict Recidivism - Linear Models\n",
    "- Predict Recidivism - Random Forests\n",
    "- Predict Recidivism - Boosting"
   ]
  },
  {
   "cell_type": "markdown",
   "id": "622cbfa4-36b9-45c2-be76-fda38019707b",
   "metadata": {},
   "source": [
    "## Outline\n",
    "\n",
    "* [Packages](#packages)\n",
    "* [Functions](#functions)\n",
    "* [Data Import](#Data-Import)\n",
    "* [Explanation & Exploration - Visualization](#expl-explor)\n",
    "* [Explanation & Exploration - Charge Degrees](#charge-deg)\n",
    "* [Data Aggregation and Feature Engineering](#agg)\n",
    "* [Final Data Cleaning before modeling](#clean)"
   ]
  },
  {
   "cell_type": "markdown",
   "id": "de616f18-5912-4c16-bd15-c0ff3fe339b9",
   "metadata": {
    "jp-MarkdownHeadingCollapsed": true,
    "tags": []
   },
   "source": [
    "### <a name=\"packages\"></a>Packages "
   ]
  },
  {
   "cell_type": "code",
   "execution_count": 216,
   "id": "b565e5b8-4576-424d-9c29-17a1251d005f",
   "metadata": {},
   "outputs": [],
   "source": [
    "import pandas as pd\n",
    "import numpy as np \n",
    "import sqlite3\n",
    "import matplotlib.pyplot as plt\n",
    "import seaborn as sns"
   ]
  },
  {
   "cell_type": "code",
   "execution_count": 217,
   "id": "4957370c-c26f-4668-862c-d474f734c35c",
   "metadata": {},
   "outputs": [],
   "source": [
    "pd.set_option('display.max_columns', None)"
   ]
  },
  {
   "cell_type": "markdown",
   "id": "1f84409e-9bc8-4be1-8adf-604c80c3ca06",
   "metadata": {
    "jp-MarkdownHeadingCollapsed": true,
    "tags": []
   },
   "source": [
    "### <a name=\"functions\"></a>Functions"
   ]
  },
  {
   "cell_type": "code",
   "execution_count": 218,
   "id": "f164c9c6-5451-43f1-8e13-ea12fb6c5c6a",
   "metadata": {},
   "outputs": [],
   "source": [
    "def db_dataframe_conversion(path):\n",
    "    '''Function to create connection and extract all tables as a list consisting of separate dataframes'''\n",
    "    db = path\n",
    "    \n",
    "    conn = sqlite3.connect(db)\n",
    "    \n",
    "    cur = conn.cursor()\n",
    "    \n",
    "    tables = cur.execute(\"SELECT name FROM sqlite_master WHERE type = 'table'\")\n",
    "    \n",
    "    cursor = conn.cursor()\n",
    "    \n",
    "    cursor.execute(\"SELECT name FROM sqlite_master WHERE type='table';\")\n",
    "    \n",
    "    tables_list = cursor.fetchall()\n",
    "    \n",
    "    print(tables_list)\n",
    "    \n",
    "    tables_names = [table[0] for table in tables_list]\n",
    "    \n",
    "    table_contents = [pd.read_sql_query(f'SELECT * FROM {table}', conn) for table in tables_names]\n",
    "    \n",
    "    return table_contents\n",
    "    "
   ]
  },
  {
   "cell_type": "markdown",
   "id": "3870e4c3-468c-48d9-8bbd-6c97746abf4f",
   "metadata": {
    "jp-MarkdownHeadingCollapsed": true,
    "tags": []
   },
   "source": [
    "### <a name=\"Data Import\"></a>Data Import"
   ]
  },
  {
   "cell_type": "code",
   "execution_count": 219,
   "id": "a8e70ab0-cc32-41de-8733-d6ef461b7931",
   "metadata": {},
   "outputs": [
    {
     "name": "stdout",
     "output_type": "stream",
     "text": [
      "[('casearrest',), ('prisonhistory',), ('jailhistory',), ('compas',), ('summary',), ('charge',), ('people',)]\n"
     ]
    }
   ],
   "source": [
    "# raw data from the compas database\n",
    "\n",
    "path = r\"C:\\Users\\felix\\OneDrive\\Documents\\Uni HWR\\Data Science\\compas-analysis-master\\compas.db\"\n",
    "\n",
    "data_listed = db_dataframe_conversion(path)\n",
    "\n",
    "# processed data by propublica\n",
    "\n",
    "path_propublica = r\"C:\\Users\\felix\\OneDrive\\Documents\\Uni HWR\\Data Science\\compas-analysis-master\\compas-scores-two-years.csv\"\n",
    "\n",
    "two_years = pd.read_csv(path_propublica)\n",
    "\n",
    "# assignment of individual tables to dataframes\n",
    "\n",
    "case_arrest = data_listed[0]\n",
    "prison_history = data_listed[1]\n",
    "jail_history = data_listed[2]\n",
    "compas = data_listed[3]\n",
    "summary = data_listed[4]\n",
    "charge = data_listed[5]\n",
    "people = data_listed[6]"
   ]
  },
  {
   "cell_type": "markdown",
   "id": "560e5447-6d9e-4f36-ac43-64e1c34fcaea",
   "metadata": {
    "jp-MarkdownHeadingCollapsed": true,
    "tags": []
   },
   "source": [
    "### <a name=\"expl-explor\"></a>Explanation & Exploration - Visualization"
   ]
  },
  {
   "cell_type": "markdown",
   "id": "64da440a-4771-4a10-a3d8-2ffd16829b75",
   "metadata": {},
   "source": [
    "At first we explore the different features given by the charge table and processed table of ProPublica"
   ]
  },
  {
   "cell_type": "code",
   "execution_count": 220,
   "id": "6da44c8b-1d0c-44eb-82b9-04e7baa3249f",
   "metadata": {},
   "outputs": [
    {
     "data": {
      "text/plain": [
       "<seaborn.axisgrid.FacetGrid at 0x1c59082c8b0>"
      ]
     },
     "execution_count": 220,
     "metadata": {},
     "output_type": "execute_result"
    },
    {
     "data": {
      "image/png": "[encoded data removed]",
      "text/plain": [
       "<Figure size 416.825x360 with 1 Axes>"
      ]
     },
     "metadata": {},
     "output_type": "display_data"
    }
   ],
   "source": [
    "# plotting the distribution of race in the propublica data\n",
    "\n",
    "sns.set(font_scale = .75)\n",
    "\n",
    "sns.catplot(x=\"race\", y=\"two_year_recid\", kind=\"bar\",hue=\"sex\" ,data=two_years)\n"
   ]
  },
  {
   "cell_type": "markdown",
   "id": "7c0c5d3f-da7c-4122-bd5f-d2db20ce327b",
   "metadata": {},
   "source": [
    "We can see that Native Americans and African-american have a higher likelihood to recidivate"
   ]
  },
  {
   "cell_type": "code",
   "execution_count": 221,
   "id": "bf9e1b88-5231-4387-b56b-ab5fa1b6cd39",
   "metadata": {},
   "outputs": [
    {
     "data": {
      "text/plain": [
       "<AxesSubplot:xlabel='race', ylabel='count'>"
      ]
     },
     "execution_count": 221,
     "metadata": {},
     "output_type": "execute_result"
    },
    {
     "data": {
      "image/png": "[encoded data removed]",
      "text/plain": [
       "<Figure size 432x288 with 1 Axes>"
      ]
     },
     "metadata": {},
     "output_type": "display_data"
    }
   ],
   "source": [
    "sns.set(font_scale = .75)\n",
    "\n",
    "sns.countplot(x=\"race\",hue=\"sex\",  data=two_years)"
   ]
  },
  {
   "cell_type": "markdown",
   "id": "20c5e4af-b2af-4ae7-b2b1-273ec81b1b2b",
   "metadata": {},
   "source": [
    "We can also observe that there are many more males in the dataset"
   ]
  },
  {
   "cell_type": "code",
   "execution_count": 222,
   "id": "213e5ac6-14af-4f54-8e10-926d7179c6e9",
   "metadata": {},
   "outputs": [
    {
     "data": {
      "text/plain": [
       "<seaborn.axisgrid.FacetGrid at 0x1c58182e100>"
      ]
     },
     "execution_count": 222,
     "metadata": {},
     "output_type": "execute_result"
    },
    {
     "data": {
      "image/png": "[encoded data removed]",
      "text/plain": [
       "<Figure size 360x360 with 1 Axes>"
      ]
     },
     "metadata": {},
     "output_type": "display_data"
    }
   ],
   "source": [
    "sns.set(font_scale = .75)\n",
    "\n",
    "sns.catplot(x=\"juv_fel_count\", y=\"two_year_recid\", kind=\"bar\" ,data=two_years)"
   ]
  },
  {
   "cell_type": "markdown",
   "id": "d2d7b741-d97e-4064-95de-6fa3d7b7451d",
   "metadata": {},
   "source": [
    "The juvenile felony counts seem to have an impact on recidivism as well."
   ]
  },
  {
   "cell_type": "code",
   "execution_count": 223,
   "id": "f9ffd2c2-4daa-48fc-a0c7-b222925a5625",
   "metadata": {},
   "outputs": [
    {
     "data": {
      "text/plain": [
       "<AxesSubplot:xlabel='juv_fel_count', ylabel='count'>"
      ]
     },
     "execution_count": 223,
     "metadata": {},
     "output_type": "execute_result"
    },
    {
     "data": {
      "image/png": "[encoded data removed]",
      "text/plain": [
       "<Figure size 432x288 with 1 Axes>"
      ]
     },
     "metadata": {},
     "output_type": "display_data"
    }
   ],
   "source": [
    "sns.set(font_scale = .75)\n",
    "\n",
    "sns.countplot(x=\"juv_fel_count\",data=two_years)"
   ]
  },
  {
   "cell_type": "markdown",
   "id": "21b40df1-ba67-4a45-92a7-ad6e740b47ca",
   "metadata": {},
   "source": [
    "Overall, however, we can observe that there exist very few poeple with juvenile felony counts."
   ]
  },
  {
   "cell_type": "code",
   "execution_count": 224,
   "id": "5616c1fe-24ef-4d25-a0a8-7c3c124d76a4",
   "metadata": {},
   "outputs": [
    {
     "data": {
      "text/plain": [
       "<AxesSubplot:xlabel='charge_degree', ylabel='count'>"
      ]
     },
     "execution_count": 224,
     "metadata": {},
     "output_type": "execute_result"
    },
    {
     "data": {
      "image/png": "[encoded data removed]",
      "text/plain": [
       "<Figure size 432x288 with 1 Axes>"
      ]
     },
     "metadata": {},
     "output_type": "display_data"
    }
   ],
   "source": [
    "sns.set(font_scale =.5)\n",
    "\n",
    "sns.countplot(x=\"charge_degree\",data=charge)"
   ]
  },
  {
   "cell_type": "markdown",
   "id": "7dbfb912-6e24-4014-834b-30ac1ef33c14",
   "metadata": {},
   "source": [
    "As we can see there are many charging degrees present in the raw data"
   ]
  },
  {
   "cell_type": "code",
   "execution_count": 225,
   "id": "1a131b7c-a15d-4664-ad82-faacfaf62b1f",
   "metadata": {},
   "outputs": [
    {
     "data": {
      "text/plain": [
       "<AxesSubplot:xlabel='c_charge_degree', ylabel='count'>"
      ]
     },
     "execution_count": 225,
     "metadata": {},
     "output_type": "execute_result"
    },
    {
     "data": {
      "image/png": "[encoded data removed]",
      "text/plain": [
       "<Figure size 432x288 with 1 Axes>"
      ]
     },
     "metadata": {},
     "output_type": "display_data"
    }
   ],
   "source": [
    "sns.countplot(x= \"c_charge_degree\", data = two_years)"
   ]
  },
  {
   "cell_type": "markdown",
   "id": "2dc0656c-73b6-4466-9e15-03e3652fae09",
   "metadata": {},
   "source": [
    "However, comparing to the data used by ProPublica there exist only two charge degrees. As such we will try to re-classify the charge degrees to not over-generalize our data but also to have a less detailed view than as given through the charge degrees in the raw data."
   ]
  },
  {
   "cell_type": "markdown",
   "id": "29b65a95-ed0d-49df-be54-f906bb0450e6",
   "metadata": {},
   "source": [
    "- We use the following 7 charge degrees: (F1)\", \"(F2)\", \"(F3)\", \"(M1)\", \"(M2)\", \"(0) for our model, which in total make up for 96% of the data\n",
    "- The remaining charge degrees are: `'(MO3)', '(TCX)', '(F7)', '(NI0)', '(TC4)', '(X)', '(CO3)', '(F5)', 'XXXXXXXXXX', '(CT)', '(F6)', '(M3)'` which we will try to group into the 6 chosen charge degrees"
   ]
  },
  {
   "cell_type": "markdown",
   "id": "42d2f510-7650-4493-8874-79514c6d3db9",
   "metadata": {},
   "source": [
    "Since the charge degrees are categorized based on the severity of the charges (therefore, it is normal to find the same charge type in 2 different charge degrees) and the information regarding the severity of the charges are not available to us, we decide that we will NOT go in favor of the defendants. \n",
    "This means that: <b> If the degree can be grouped into 2 charge degrees, we will decide for the more severve group <b> (if no further argument is available)"
   ]
  },
  {
   "cell_type": "markdown",
   "id": "fd394d83-edbc-4165-8ddb-5b30fc9e2761",
   "metadata": {
    "jp-MarkdownHeadingCollapsed": true,
    "tags": []
   },
   "source": [
    "### <a name=\"charge-deg\"></a>Explanation & Exploration - Charge Degrees"
   ]
  },
  {
   "cell_type": "markdown",
   "id": "a3df5f2a-ed08-4bca-934b-7461806d8a26",
   "metadata": {},
   "source": [
    "<b> 4.1 Charge Degree: M03 <b>"
   ]
  },
  {
   "cell_type": "code",
   "execution_count": 226,
   "id": "5999f7bc-7f36-4cc9-86da-518cf70ae7b9",
   "metadata": {
    "tags": []
   },
   "outputs": [
    {
     "name": "stdout",
     "output_type": "stream",
     "text": [
      "['Public Consumption Of Alcohol' 'Sleeping On Municipal Beaches'\n",
      " 'Open Container-FL' 'Petit Theft' 'Trespass' 'Battery' 'Public Indecency'\n",
      " 'Alcoholic Beverage Violation-FL' 'Intoxicating Beverages'\n",
      " 'Tresps Privt Prop/Notice By Mgr' 'Municipal Ord/Criminal/Charge'\n",
      " 'Animals Proh on Beach/Brdwlk' 'Poss Of Controlled Substance'\n",
      " 'Loud Music Between 9 pm- 7 am' 'Disorderly Conduct'\n",
      " 'Resisting W/O Violence' 'Loiter Or Prowl' 'Trespass Private Property'\n",
      " 'Possession Of Paraphernalia' 'Prostitution/Lewdness/Assign'\n",
      " 'Public Indecency/Exposing' 'Lewd/Assignation/Prostitution'\n",
      " 'Soliciting For Prostitution' 'Criminal Attempt' 'Loitering/Prowling'\n",
      " 'Loitering' 'DOC/Engage In Fighting' 'Battery Spouse Or Girlfriend'\n",
      " 'Alcohol Consumption Violation' 'Sell/Disp Merch W/O Permit'\n",
      " 'Municipal Ord/System Charge' 'Drinking Alcohol In Public'\n",
      " 'Lodge In Open/ Park Closed' 'Sleep On Municipal Beaches'\n",
      " 'Possession Of  Paraphernalia' 'Consume Alcoholic Bev Pub'\n",
      " 'Unlaw Conduct Business W/O Lic' 'Loiter Where Sign is Posted'\n",
      " 'Carry Open/Uncov Bev In Pub' 'Open Container Alcohol/Prohib'\n",
      " 'Declared Emerg Curfew Viol' 'Open Container Of Alcoholic Bev'\n",
      " 'Trespassing' 'Allow Dog To Roam W/O Leash' 'Obstruction By False Name'\n",
      " 'Alcohol Bev Under Age Of 21' 'DOC/Fighting/Threatening Words'\n",
      " 'Prowl/ Warrant Alarm For Safety' 'Poss Alcohol Bev On Beach/ Brdwlk'\n",
      " 'Soliciting' 'Consump/Alcohol/Open Cont Pub' 'DOC/Breach Of Peace'\n",
      " 'Indecent Behavior' 'DOC/Beg/Panhandle/Obtain Money'\n",
      " 'Resist/Obstruct An Officer' 'Intoxicated/Safety Of Another'\n",
      " 'DOC/Hinder Person In Public Way' 'Pollution Violation'\n",
      " 'Solicit Public W/O Perform Permt' 'Failure To Pay Taxi Cab Charge'\n",
      " 'Prostitution' 'Pub Indecency/Urinate In Public'\n",
      " 'Curfew Violation/ Person <17' 'Public Consumption Poss Prohib' None\n",
      " 'DOC Profane Language' 'No Lodge On City Owned Prop'\n",
      " 'Poss Alch Beach/Public Area' 'Unlicensed Dog At Large'\n",
      " 'Solicitation and Display on Public Right of Way' 'Noise Ordinance'\n",
      " 'Pub Consumption Of Alcohol' 'Loud Noises Prohibited'\n",
      " 'Unlawful Noise violation' 'Indecent Behavior Prohibited'\n",
      " 'Obstructing An Officer' 'No Solicit/Obstruct Veh Traffic'\n",
      " 'Solicitor or Panhandler in/on Prohibited roadway'\n",
      " 'Loiter Solicit Act Prostitute' 'Open Cont Alcohol/ Prohib'\n",
      " 'Aggress/Panhandle/Beg/Solict' 'Dog Unrestrained In Public'\n",
      " 'Sales Of Food From Mobile Unit'\n",
      " 'Act in the capacity of a contractor without proper license'\n",
      " 'Possession Marijuana' 'Fail To Register Bike' 'DOC/Cause Public Danger'\n",
      " 'Littering' 'Trespass Structure/Conveyance'\n",
      " 'No County License For Animal' 'Sleep On Pub/Street/Sidewlk/Bch'\n",
      " 'Failure To Vaccinate Animals' 'Identification Tag Violation'\n",
      " 'Outdoor Pen Requirements' 'Failed To Provide Plumbing Fix' 'Panhandling'\n",
      " 'Solicit Charble Don W/O Permit' 'Discard Litter Upon Property'\n",
      " 'Tether/Chain Dog Violation' 'System Mischief' 'Alcohol Violation'\n",
      " 'Resisting Merchant' 'Criminal Mischief' 'Trespass On Private Property'\n",
      " 'Poss Of Controlled  Substance' 'Unlawful Assemblies'\n",
      " 'DOC Panhandle Or Beg' 'Drinking In Public' 'Loitering Or Prowling'\n",
      " 'Lodge Upon Property W/O Cons' 'Urinate/ Public Bldg Open Place'\n",
      " 'Delay Free Movement/ Any Person'\n",
      " 'Unlawful Panhandling, Begging or Soliciting' 'No Occupational License'\n",
      " 'Animals Prohibited on Public Beaches' 'Remove Cart/Retail Estab'\n",
      " 'Trespass In Closed Park' 'Unlaw Consumption Alcohol Bev'\n",
      " 'Municipal Violation' 'Dog Running At Large Within City'\n",
      " 'Own/ Control Dog W/O Vaccines' 'Owner Liable For Their Dogs'\n",
      " 'Alcoholic Beverage Violation' 'Trespassing-DN' 'Littering-DR'\n",
      " 'Animal Running At Large' 'Open Cont Alcohol Bev-HW' 'Indecent Exposure'\n",
      " 'Skateboard Prohibited On Beachwalk' 'Disturb Peace Of Others'\n",
      " 'Drink Alcoholic Beverage' 'Dog At Large-DV'\n",
      " 'Loiter/For Prostittution-HW' 'Loiter After Warning'\n",
      " 'Sex Violator Residency Viol' 'Retail Theft'\n",
      " 'Poss Prescrip Drug W/O Presc' 'Open Container Prohibited'\n",
      " 'Operating Taxi Without Permit' 'Adopt Chapt 316/Florida Stats'\n",
      " 'Littering Water Pollution Prohib' 'Drinking Alcohol Bev In Open'\n",
      " 'Disagrmnt To Busn Classifacatn' 'Open Container'\n",
      " 'Loitering Under Bridge' 'Sex Offender Residence Prohib'\n",
      " 'Sleep Outdoor/Veh/Temp Shelt' 'Disorderly Person-DN'\n",
      " 'Unlawful Solicit Without ID Card' 'Use Of Roadways/ Entrances'\n",
      " 'Soliciting Without Permit' 'Dogs Running At Large-LS'\n",
      " 'Disturbing The Peace' 'Fail To Maintain Electrical'\n",
      " 'Possession Of Shopping Cart' 'DOC/Disturb Peace'\n",
      " 'Fail Provide Animal Sanitary Cond' 'Fail Provide Shelter Animal'\n",
      " 'Occupying Condemned Stucture'\n",
      " 'Panhandling Obstrucion of Traffic Prohibited'\n",
      " 'Enter City Park/ Prohibited Hrs' 'Possess Narcotic Drug'\n",
      " 'Open Container/Prohibited-LS' 'Willful Destruc Of City Prop'\n",
      " 'In Park After Hours' 'Dumping Littering Prohibited'\n",
      " 'Beach Close 11PM/6AM Violation' 'Indecent Behavior Nudity Prohib'\n",
      " 'Poss Of Alcohol In City Park' 'Street Solicitation'\n",
      " 'Sexual Offen/Predator Res Prob' 'Disturb Trash Can/Dumpster'\n",
      " 'Prohibited On Certain Streets' 'DOC/Resist/Obstruct Officer'\n",
      " 'Rollerblade Sidewalk/Public Bch' 'Public Drunkeness'\n",
      " 'Dist Alcohol Bev After 12 am' 'Public Indecency/Sex Intercourse'\n",
      " 'DOC/Fight/Brawl/Riot' 'Skatebord Prohibited On Beachwalk'\n",
      " 'Munic Occup License Req' 'Fail Provide Animal Medical Att'\n",
      " 'Sleeping In Park Pavillion-FL' 'Unlawful Car Noise'\n",
      " 'In Park After Desig Hours' 'Keeping Of Numerous Dogs/Cats'\n",
      " 'Drinking In Public-TM' 'Del or Poss of Sythetic Marajuana or Bath Salts'\n",
      " 'Loitering/Prowling-DN' 'Flagging Vehicles On Street' 'Vagrants-DN'\n",
      " 'Solicitation Where Prohibited' 'Transit Fare Evasion'\n",
      " 'Did Lodge Underneath Bridge' 'Trespass/Private Property'\n",
      " 'Create A Disturbance' 'Dog Bite/ Ofc While Conduct Inv'\n",
      " 'Selling Flowers W/I City Limits' 'Operation of Veh on Public Beach'\n",
      " 'Prowling' 'DOC/Trespass Private Property' 'Consume Alcohol In Public'\n",
      " 'DOC Obstruct Justice' 'Sleeping On Beach' 'Disorderly Intoxication'\n",
      " 'Drink Alcoholic Bev In Public' 'Sleep On Beach/Prohibited'\n",
      " 'Carry Open/Uncov  Bev In Pub' 'Municipal Beach/Pk Hours Permit'\n",
      " 'Animal Committing A Nuisance' 'Enforce Violation'\n",
      " 'Reckless Display Of Weapon' 'Gambling/Gamb Paraphernalia'\n",
      " 'Improp Oper Bicycle On Roadwy' 'Open Contain/Restricted Area-OP'\n",
      " 'Trespass At A School' 'Sleeping On Beach Prohibited'\n",
      " 'Defraud To Obtain Food/Lodg' 'Drink/Consume Alch Pub Place'\n",
      " 'Carrying Concealed Weapon' 'Alcoholic Beverages Public Place'\n",
      " 'Adopt State Misdemeanors' 'Operate Bike W/O Lights'\n",
      " 'Interfer With City Emp Performace of Duties'\n",
      " 'Compliance Prking Cont Dev Req' 'Obstruct Traffic'\n",
      " 'Operating W/O A License' 'Unlawful Repair/Vessel'\n",
      " 'Animal Rabies Vaccine Viol' 'Secondry Metal/Record Keep'\n",
      " 'Dog Shall Be Restrained' 'Dogs Running At Large-HD' 'Prohibited Animals'\n",
      " 'Possess Cannabis' 'Litter In A Public Place' 'Carry Weapon In Open'\n",
      " 'Viol Of Park Operating Policies' 'Pub Intoxication/Disorderly'\n",
      " 'Consume Alcohol Bev In Park' 'Vicious Dog Running At Large-FL'\n",
      " 'Trespass City Owned Property' 'State/Misd/County Violation'\n",
      " 'Sexual Violator Resid Prohib' 'Disorderly Conduct-DR'\n",
      " 'Posting Advertisment W/O Lic' 'Tobacco Sale/Person Undr 18'\n",
      " 'Disturbing The Peace/Noise' 'Dog Running Loose-FL'\n",
      " 'Unaltered Dog/Cat at Large/1st' 'Diving From Pier' 'Drinking/Open-FL'\n",
      " 'Smoking Violation' 'Municipal/City Ordinance'\n",
      " 'Fail Provide Water for Animal' 'Unlawful/ Tether Animal Restr Hrs'\n",
      " 'Soliciting Without A Permit' 'Disorderly By Fighting'\n",
      " 'Bathing In Nude Condition' 'Alcoholic Bev Under Age Of 21' 'Litter'\n",
      " 'System Attempt' 'No Local Business Tax Receipt'\n",
      " 'Open Cont Alch Prohib Public' 'In Park After Hours Prohibited'\n",
      " 'Alcoholic Beverages' 'Dog At Large Prohibited-MG' 'Noise Violation'\n",
      " 'Manage Busn W/O City Occup Lic' 'Resist/ Obstruct Police Officer'\n",
      " 'Consume Alcohol Bev In Open' 'Disorderly Houses' 'Noise Disturbance'\n",
      " 'Hitchhiking/Stand' 'Curfew Violation' 'Electrical Alteration W/O Permit'\n",
      " 'Exposing Genitals In Pub Place']\n"
     ]
    }
   ],
   "source": [
    "# List of all the charge types in M03\n",
    "print(charge[charge[\"charge_degree\"] == \"(MO3)\"][\"charge\"].unique())"
   ]
  },
  {
   "cell_type": "code",
   "execution_count": 227,
   "id": "10e211ae-32b1-4e89-8061-7eb300724931",
   "metadata": {
    "tags": []
   },
   "outputs": [
    {
     "name": "stdout",
     "output_type": "stream",
     "text": [
      "The total number of charges in MO3: 3520\n",
      "The total number of charges that are related to Alcohol: 860 which makes up for 24.43 percent\n"
     ]
    }
   ],
   "source": [
    "MO3 = charge[charge[\"charge_degree\"] == \"(MO3)\"][\"charge\"]\n",
    "\n",
    "print(\"The total number of charges in MO3:\", MO3.count())\n",
    "print(\"The total number of charges that are related to Alcohol:\", MO3.str.contains(\"Drink|Alcohol|Intoxicat|Bev|Drunk|DOC\", regex=True).sum(), \"which makes up for\", np.round((MO3.str.contains(\"Drink|Alcohol|Intoxicat|Bev|Drunk|DOC\", regex=True).sum() / MO3.count())*100,2),\"percent\")"
   ]
  },
  {
   "cell_type": "code",
   "execution_count": 228,
   "id": "06d45908-2900-4a57-a35d-39473912914d",
   "metadata": {},
   "outputs": [
    {
     "name": "stdout",
     "output_type": "stream",
     "text": [
      "The total number of charges that are related to Alcohol in M1: 103\n",
      "The total number of charges that are related to Alcohol in M2: 297\n"
     ]
    }
   ],
   "source": [
    "M1 = charge[charge[\"charge_degree\"] == \"(M1)\"][\"charge\"]\n",
    "M2 = charge[charge[\"charge_degree\"] == \"(M2)\"][\"charge\"]\n",
    "\n",
    "print(\"The total number of charges that are related to Alcohol in M1:\", M1.str.contains(\"Drink|Alcohol|Intoxicat|Bev|Drunk|DOC\", regex=True).sum())\n",
    "print(\"The total number of charges that are related to Alcohol in M2:\", M2.str.contains(\"Drink|Alcohol|Intoxicat|Bev|Drunk|DOC\", regex=True).sum())"
   ]
  },
  {
   "cell_type": "markdown",
   "id": "a9bf2971-7633-4090-8719-ae52c358ea2b",
   "metadata": {},
   "source": [
    "MO3 contains different types of charges, where one significant pattern we found is charges related to Drinking/Alcohol (25%). With the same keywords, we check M1, M2 and 0 and saw that the degree that has the most instances related to Alcohol is M2. The rest of the charge types (includung:  can be categorized under M2 or 0, but because we are going against the defendants, we will group MO3 under M2 "
   ]
  },
  {
   "cell_type": "markdown",
   "id": "83f19334-552d-45e3-87bc-1f0528a8de5c",
   "metadata": {},
   "source": [
    "<b> 4.2 Charge Degree: TCX <b>"
   ]
  },
  {
   "cell_type": "code",
   "execution_count": 229,
   "id": "4327ae66-2841-44ed-9f95-a1b5707d4a7c",
   "metadata": {
    "tags": []
   },
   "outputs": [
    {
     "name": "stdout",
     "output_type": "stream",
     "text": [
      "['Expired DL/More than 4 Months' 'License Suspended Revoked'\n",
      " 'Reckless Driving' 'Driving License Suspended' 'Expired Tag'\n",
      " 'Driving Under The Influence' 'License Not Carried'\n",
      " 'Operating W/O License' 'Fail Register Motor Vehicle' None\n",
      " 'Flee/ Elude Off/ Not Revkd Court' 'Unregistered Tag Not On'\n",
      " 'Operate Against Lic/Restriction' 'No Valid License'\n",
      " 'Transporter License Plate Viol' 'Traffic'\n",
      " 'Posses/Disply Susp/Revk/Frd DL' 'Fail Apply Lost/Stole Tag/ Decl'\n",
      " 'Operate Against Lic/Restric' 'DUI Property Damage/Injury'\n",
      " 'Leave Acc/Attended Veh' 'No Valid Florida DL' 'Fail Disp Registration'\n",
      " 'Failure Display Registration' 'Unlaw LicTag/Sticker Attach'\n",
      " 'Registration not Carried' 'Opert With Susp DL 2nd Offens'\n",
      " 'Financial Responsibility' 'Opert With Susp DL 2nd Offense'\n",
      " 'Unlaw Use Temporary Tag' 'Racing On Highway'\n",
      " 'Improper Tags/Out of State' 'No Valid Drivers License'\n",
      " 'Use Mot Veh In Comm Of Felony' 'Driving Unregistered Moped'\n",
      " 'Fail Obey Pol Off//Flee' 'Unlawful Lic Use/Display'\n",
      " 'Present Proof of Invalid Insur' 'Susp Drivers Lic 1st Offense'\n",
      " 'Operating W/O Valid License' 'DUI Bood Alcohol Level Above 0.20'\n",
      " 'DUI Accd Liquor/Drugs' 'Misue of Dealer Tag' 'Expired Tag (Temporary)'\n",
      " 'Expired Tag/Infraction' 'Fail Disp Tag Truck/ Tracker'\n",
      " 'Out Of State Lic Use When Susp' 'Leave Acc: Unattended Veh'\n",
      " 'Oper Lic Rest/W/O Adult' 'Give False Acc Report'\n",
      " 'Fail Secure Load Injury/ Death']\n"
     ]
    }
   ],
   "source": [
    "# List of all the charge types in TCX\n",
    "print(charge[charge[\"charge_degree\"] == \"(TCX)\"][\"charge\"].unique())"
   ]
  },
  {
   "cell_type": "code",
   "execution_count": 230,
   "id": "ddbd97fd-7cf6-4b64-ae9e-3288ff441c21",
   "metadata": {},
   "outputs": [
    {
     "name": "stdout",
     "output_type": "stream",
     "text": [
      "The total number of charges in TCX: 880\n",
      "The total number of charges that are related to Road Traffic: 711 which makes up for 80.8 percent\n"
     ]
    }
   ],
   "source": [
    "TCX = charge[charge[\"charge_degree\"] == \"(TCX)\"][\"charge\"]\n",
    "\n",
    "print(\"The total number of charges in TCX:\", TCX.count())\n",
    "print(\"The total number of charges that are related to Road Traffic:\", TCX.str.contains(\"License|Driv|Vehicle|Racing|DL\", regex=True).sum(), \"which makes up for\", np.round((TCX.str.contains(\"License|Driv|Vehicle|Racing|DL\", regex=True).sum() / TCX.count())*100,2),\"percent\")"
   ]
  },
  {
   "cell_type": "code",
   "execution_count": 231,
   "id": "2ff4bdd9-bce1-4273-9fe7-1ca688cbaa79",
   "metadata": {},
   "outputs": [
    {
     "name": "stdout",
     "output_type": "stream",
     "text": [
      "The total number of charges that are related to Road Traffic in M1: 1767\n",
      "The total number of charges that are related to Road Traffic in M2: 13247\n",
      "The total number of charges that are related to Road Traffic in 0: 11113\n"
     ]
    }
   ],
   "source": [
    "c0 = charge[charge[\"charge_degree\"] == \"(0)\"][\"charge\"]\n",
    "\n",
    "print(\"The total number of charges that are related to Road Traffic in M1:\", M1.str.contains(\"License|Driv|Vehicle|Racing|DL\", regex=True).sum())\n",
    "print(\"The total number of charges that are related to Road Traffic in M2:\", M2.str.contains(\"License|Driv|Vehicle|Racing|DL\", regex=True).sum())\n",
    "print(\"The total number of charges that are related to Road Traffic in 0:\", c0.str.contains(\"License|Driv|Vehicle|Racing|DL\", regex=True).sum())"
   ]
  },
  {
   "cell_type": "markdown",
   "id": "78c6e21c-c2a0-4530-a808-1047ee4a9a0a",
   "metadata": {},
   "source": [
    "TCX is strongly leaning toward the category \"Road Traffic\" and when checking with the same keywords (License|Driv|Vehicle|Racing|DL), we see that M2 and 0 have the most instances for charges related to Road Traffic. Therefore, we decide for M2. "
   ]
  },
  {
   "cell_type": "markdown",
   "id": "5a0e2f39-64a1-472d-93e5-4c7e1c74919d",
   "metadata": {},
   "source": [
    "<b> 4.3 Charge Degree: NI0 <b>"
   ]
  },
  {
   "cell_type": "code",
   "execution_count": 232,
   "id": "64802ce9-7c91-4af7-bf07-95e6d1f0ab36",
   "metadata": {
    "tags": []
   },
   "outputs": [
    {
     "name": "stdout",
     "output_type": "stream",
     "text": [
      "['Possess Tobacco Product Under 18' 'Violation Of Boater Safety Id'\n",
      " 'Ride Tri-Rail Without Paying' 'Operate W/O Valid Registration'\n",
      " 'Careless Operation Of Vessel' 'Vessel Prohibited Activity'\n",
      " 'Fail To Secure Load' 'Violation Of Navigation Rules'\n",
      " 'Fish/Hunt/Trap W/O License/Stamp' 'Vessel Safety Equip Violation'\n",
      " 'Under 18/Smoke On School Grounds'\n",
      " 'Litter Pub Hghwy/Mot Veh less than 15LBs'\n",
      " 'Fish/Hunt/Trap W/O License Stamp' 'Excess Speed in Manatee Zone'\n",
      " 'Fish/Hunt/Trap W/O License' 'Vessel Viol In Restricted Area'\n",
      " 'Litter On The Highway' 'Fail Disp Proper Light/Shape'\n",
      " 'Vessel Decal Violation' 'Excess Speed Manatee Zone'\n",
      " 'Water Ski/Aquaplane Violation' 'Fail Produce Lic/Permit'\n",
      " 'Damage Park Plant Life' 'Oper Craf 1/2 Hr Prior/Aft Dark'\n",
      " 'Improperly Registered Vessel' 'Too Fast For Conditions State Park'\n",
      " 'Violation Of Diver Down Flag' 'Vessel Reg/Number/Decal Viol']\n"
     ]
    }
   ],
   "source": [
    "# List of all the charge types in NI0\n",
    "print(charge[charge[\"charge_degree\"] == \"(NI0)\"][\"charge\"].unique())"
   ]
  },
  {
   "cell_type": "code",
   "execution_count": 233,
   "id": "78d8479a-922e-445f-a602-e0e7ff09dffa",
   "metadata": {},
   "outputs": [
    {
     "name": "stdout",
     "output_type": "stream",
     "text": [
      "The total number of charges in NI0: 496\n",
      "The total number of charges that are related to Tobacco: 179 which makes up for 36.09 percent\n",
      "The total number of charges that are related to Under 18: 179 which makes up for 36.09 percent\n"
     ]
    }
   ],
   "source": [
    "NI0 = charge[charge[\"charge_degree\"] == \"(NI0)\"][\"charge\"]\n",
    "\n",
    "print(\"The total number of charges in NI0:\", NI0.count())\n",
    "print(\"The total number of charges that are related to Tobacco:\", NI0.str.contains(\"Tobacco|Smoke\", regex=True).sum(), \"which makes up for\", np.round((NI0.str.contains(\"Tobacco|Smoke\", regex=True).sum() / NI0.count())*100,2),\"percent\")\n",
    "print(\"The total number of charges that are related to Under 18:\", NI0.str.contains(\"(?=.*Under)(?=.*18)\", regex=True).sum(), \"which makes up for\", np.round((NI0.str.contains(\"(?=.*Under)(?=.*18)\", regex=True).sum() / NI0.count())*100,2),\"percent\")"
   ]
  },
  {
   "cell_type": "markdown",
   "id": "5fda3110-5129-48f0-89c9-1ab4d0eb6b24",
   "metadata": {},
   "source": [
    "The patterns we found in NI0 is, one dominant type is charges related to using Tobacco/Smoking and also one-third of the charges concerns defendants under 18. Therefore, we feel like the severity of this degree is not so significant and choose to categorize it under 0"
   ]
  },
  {
   "cell_type": "markdown",
   "id": "10effbe4-f944-4709-8d57-9e3c3f7c98ff",
   "metadata": {},
   "source": [
    "<b> 4.4 Charge Degree: TC4 <b>"
   ]
  },
  {
   "cell_type": "code",
   "execution_count": 234,
   "id": "85ce7dd3-beba-4a50-8606-a0fc443ee54f",
   "metadata": {},
   "outputs": [
    {
     "name": "stdout",
     "output_type": "stream",
     "text": [
      "['Driving Under The Influence' 'DWI Injury Persons Property'\n",
      " 'Refuse To Submit To Breathalyzer' 'Driving Under the Influence'\n",
      " 'Unlawful Blood Alcohol Level']\n"
     ]
    }
   ],
   "source": [
    "# List of all the charge types in TC4\n",
    "print(charge[charge[\"charge_degree\"] == \"(TC4)\"][\"charge\"].unique())"
   ]
  },
  {
   "cell_type": "code",
   "execution_count": 235,
   "id": "e88fe1af-bacd-43c0-8189-bf94669f646f",
   "metadata": {},
   "outputs": [
    {
     "name": "stdout",
     "output_type": "stream",
     "text": [
      "The total number of charges that are related to DUI in F3: 57\n",
      "The total number of charges that are related to DWI in F3: 4\n",
      "The total number of charges that are related to DUI in M1: 1131\n",
      "The total number of charges that are related to DWI in M1: 0\n",
      "The total number of charges that are related to DUI in M2: 67\n",
      "The total number of charges that are related to DWI in M2: 0\n"
     ]
    }
   ],
   "source": [
    "F3 = charge[charge[\"charge_degree\"] == \"(F3)\"][\"charge\"]\n",
    "\n",
    "print(\"The total number of charges that are related to DUI in F3:\", F3.str.contains(\"(?=.*Driving)(?=.*Influence)\").sum())\n",
    "print(\"The total number of charges that are related to DWI in F3:\", F3.str.contains(\"DWI\", regex=True).sum())\n",
    "print(\"The total number of charges that are related to DUI in M1:\", M1.str.contains(\"(?=.*Driving)(?=.*Influence)\").sum())\n",
    "print(\"The total number of charges that are related to DWI in M1:\", M1.str.contains(\"DWI\", regex=True).sum())\n",
    "print(\"The total number of charges that are related to DUI in M2:\", M2.str.contains(\"(?=.*Driving)(?=.*Influence)\").sum())\n",
    "print(\"The total number of charges that are related to DWI in M2:\", M2.str.contains(\"DWI\", regex=True).sum())"
   ]
  },
  {
   "cell_type": "markdown",
   "id": "9206866c-4587-4b49-be82-32ad3e7a8582",
   "metadata": {},
   "source": [
    "Looking at the list, it can be said that TC4 only concerns Driving Under the Influence (DUI) and Driving While Intoxicated (DWI). Checking this criteria in F3, M1 and M2 we see the most instances related to DUI/DWI are found under M1. Therefore, we categorize TC4 under M1 "
   ]
  },
  {
   "cell_type": "markdown",
   "id": "127ddc48-a51d-4b86-af37-6b294ff87bc5",
   "metadata": {},
   "source": [
    "<b> 4.5 Charge Degree: X <b>"
   ]
  },
  {
   "cell_type": "code",
   "execution_count": 236,
   "id": "29546755-5909-46ea-8b34-02ccad94afa2",
   "metadata": {},
   "outputs": [
    {
     "name": "stdout",
     "output_type": "stream",
     "text": [
      "[None 'Reckless Driving' 'Booked']\n"
     ]
    }
   ],
   "source": [
    "# List of all the charge types in X\n",
    "print(charge[charge[\"charge_degree\"] == \"(X)\"][\"charge\"].unique())"
   ]
  },
  {
   "cell_type": "code",
   "execution_count": 237,
   "id": "e680afeb-e7c4-4020-bdd8-75064c0f55f9",
   "metadata": {},
   "outputs": [
    {
     "name": "stdout",
     "output_type": "stream",
     "text": [
      "The total number of charges that are related to Reckless Driving in F3: 4\n",
      "The total number of charges that are related to Reckless Driving in M1: 24\n",
      "The total number of charges that are related to Reckless Driving in M2: 311\n",
      "The total number of charges that are related to Reckless Driving in 0: 5\n"
     ]
    }
   ],
   "source": [
    "print(\"The total number of charges that are related to Reckless Driving in F3:\", F3.str.contains(\"(?=.*Reckles)(?=.*Driving)\").sum())\n",
    "print(\"The total number of charges that are related to Reckless Driving in M1:\", M1.str.contains(\"(?=.*Reckles)(?=.*Driving)\").sum())\n",
    "print(\"The total number of charges that are related to Reckless Driving in M2:\", M2.str.contains(\"(?=.*Reckles)(?=.*Driving)\").sum())\n",
    "print(\"The total number of charges that are related to Reckless Driving in 0:\", c0.str.contains(\"(?=.*Reckles)(?=.*Driving)\").sum())"
   ]
  },
  {
   "cell_type": "markdown",
   "id": "91e687f2-b563-4a3b-8e65-9bb0264fe999",
   "metadata": {},
   "source": [
    "We checked for Reckless Driving in F3, M1, M2 and 0 and found that most charges related to Reckless Driving are under M2. Therfore, we categorize X under M2"
   ]
  },
  {
   "cell_type": "markdown",
   "id": "1e927683-9c36-4c1d-ae3e-c7e763d5ba43",
   "metadata": {},
   "source": [
    "<b> 4.6 Charge Degree: CO3 <b>"
   ]
  },
  {
   "cell_type": "code",
   "execution_count": 238,
   "id": "264bdeab-9d10-4335-b5a9-b416199d2f60",
   "metadata": {},
   "outputs": [
    {
     "name": "stdout",
     "output_type": "stream",
     "text": [
      "['Drink/Licensed/Establisment' 'DOC/Sleep In Prohibited Area'\n",
      " 'DOC/Open Container/Bus Facility' 'Violation Broward Co Ordinance'\n",
      " 'Drink Near Licensed Establishm' 'DOC/Alcoholic Bev/Bus Facility'\n",
      " 'Drink/Premises Licensed Estab' 'DOC At Main Bus Facility'\n",
      " 'Consume Alcoh Bev Where Prohib' 'Open Container Alcohol - MV'\n",
      " 'Loitering/Prowling' 'Littering In A Public Place' None\n",
      " 'Consume Alcohol In Public' 'Disorderly Conduct' 'Urinating In Public'\n",
      " 'Oper CMV W/O Distinct Lettering' 'Loitering' 'Misuse Of Bus Transfers']\n"
     ]
    }
   ],
   "source": [
    "# List of all the charge types in CO3\n",
    "print(charge[charge[\"charge_degree\"] == \"(CO3)\"][\"charge\"].unique())"
   ]
  },
  {
   "cell_type": "code",
   "execution_count": 239,
   "id": "5286e401-9f45-4444-9a20-0dfed995b58c",
   "metadata": {},
   "outputs": [
    {
     "name": "stdout",
     "output_type": "stream",
     "text": [
      "The total number of charges in CO3: 125\n",
      "The total number of charges that are related to Alcohol: 105 which makes up for 50.4 percent\n"
     ]
    }
   ],
   "source": [
    "CO3 = charge[charge[\"charge_degree\"] == \"(CO3)\"][\"charge\"]\n",
    "\n",
    "print(\"The total number of charges in CO3:\", CO3.count())\n",
    "print(\"The total number of charges that are related to Alcohol:\", CO3.str.contains(\"Drink|Alcohol|DOC|Bev|Drunk\", regex=True).sum(), \"which makes up for\", np.round((CO3.str.contains(\"Drink|Alcohol|Intoxicat|Bev|Drunk\", regex=True).sum() / CO3.count())*100,2),\"percent\")"
   ]
  },
  {
   "cell_type": "markdown",
   "id": "341a7c94-c074-41a4-a4ea-3e0f7ce3ceb0",
   "metadata": {},
   "source": [
    "More than half of the charges in CO3 are related to Drinking/Alcohol and therefore CO3 can be put under M2 (see explanation under 4.1). The other ones (including: Loitering, Littering, Urinating, Disorderly Conduct etc.) could be in 0, but because of our decision of going unfavored of the defendants, we will decide for M2. "
   ]
  },
  {
   "cell_type": "markdown",
   "id": "32370144-02a3-43f0-9a8d-5cf37e9efe4f",
   "metadata": {},
   "source": [
    "<b> 4.7 Charge Degree: M3"
   ]
  },
  {
   "cell_type": "code",
   "execution_count": 240,
   "id": "740b40eb-7d94-4660-8cb4-1f756ed49719",
   "metadata": {},
   "outputs": [
    {
     "name": "stdout",
     "output_type": "stream",
     "text": [
      "['Poss Of RX Without RX']\n"
     ]
    }
   ],
   "source": [
    "# List of all the charge types in M3\n",
    "print(charge[charge[\"charge_degree\"] == \"(M3)\"][\"charge\"].unique())"
   ]
  },
  {
   "cell_type": "markdown",
   "id": "3f1fe756-af00-457e-910e-08a6d7312731",
   "metadata": {},
   "source": [
    "M3 can be grouped into M2 since both are considered misdemeanors but the severity is not as significant as charges in M1."
   ]
  },
  {
   "cell_type": "markdown",
   "id": "ed4b8df2-d696-4ad9-8ff4-5c29ae87257f",
   "metadata": {},
   "source": [
    "<b> 4.8 Charge Degree: F7 <b>"
   ]
  },
  {
   "cell_type": "code",
   "execution_count": 241,
   "id": "c49c86d0-d43f-428d-8621-52e35412a843",
   "metadata": {},
   "outputs": [
    {
     "name": "stdout",
     "output_type": "stream",
     "text": [
      "['Burglary Struc/dwel/conv Armed' 'Burglary Dwelling Armed'\n",
      " 'Burglary Structure Armed' 'Possess/Use Weapon 1 Deg Felon'\n",
      " 'Burglary Assault/battery Armed' 'Burglary Dwelling Assault/Batt'\n",
      " 'Burglary Struct/conv Asslt/bat' 'Armed Burglary'\n",
      " 'Burglary Conveyance Armed' 'Burglary With Assault/battery'\n",
      " 'Burglary Conveyance Assault/Bat' 'Burglary Structure Assault/Batt'\n",
      " 'Murder 2nd Degree W/Deadly Wep' 'Sexual Battery / Vict 12 Yrs +'\n",
      " 'Possess Weapon 1 Deg Felon' 'Armed Kidnapping'\n",
      " 'Armed Sex Batt/vict 12 Yrs +' 'Tampering/Felony Life/Capital Proc'\n",
      " 'Burglary Dwelling Assault/batt' None 'Kidnapping / Domestic Violence'\n",
      " 'Sex Battery Deft 17-/Vict 11-' \"Armed Del Cocaine 1000' School\"\n",
      " 'Sexual Battery - Great Force' 'Armed Trafficking In Cocaine'\n",
      " 'Burglary Conveyance Assault/bat' 'Burglary Struc/Dwel/Conv Armed'\n",
      " 'Burglary Assault/Battery Armed']\n"
     ]
    }
   ],
   "source": [
    "# List of all the charge types in F7\n",
    "print(charge[charge[\"charge_degree\"] == \"(F7)\"][\"charge\"].unique())"
   ]
  },
  {
   "cell_type": "code",
   "execution_count": 242,
   "id": "9f0be796-3906-4129-b2b1-2bb45714d779",
   "metadata": {},
   "outputs": [
    {
     "name": "stdout",
     "output_type": "stream",
     "text": [
      "The total number of charges in F7: 429\n",
      "The total number of charges that are related to Burglary: 356 which makes up for 82.98 percent\n",
      "The total number of charges that are related to Armed Burglary: 162 which makes up for 37.76 percent\n",
      "The total number of charges that are related to Assault Burglary: 142 which makes up for 33.1 percent\n",
      "The total number of charges that are related to Dwelling Burglary: 127 which makes up for 29.6 percent\n"
     ]
    }
   ],
   "source": [
    "F7 = charge[charge[\"charge_degree\"] == \"(F7)\"][\"charge\"]\n",
    "\n",
    "print(\"The total number of charges in F7:\", F7.count())\n",
    "print(\"The total number of charges that are related to Burglary:\", F7.str.contains(\"Burglary\", regex=True).sum(), \"which makes up for\", np.round((F7.str.contains(\"Burglary\", regex=True).sum() / F7.count())*100,2),\"percent\")\n",
    "print(\"The total number of charges that are related to Armed Burglary:\", F7.str.contains(\"(?=.*Burglary)(?=.*Armed)\").sum(), \"which makes up for\", np.round((F7.str.contains(\"(?=.*Burglary)(?=.*Armed)\").sum() / F7.count())*100,2),\"percent\")\n",
    "print(\"The total number of charges that are related to Assault Burglary:\", F7.str.contains(\"(?=.*Burglary)(?=.*Assault)\").sum(), \"which makes up for\", np.round((F7.str.contains(\"(?=.*Burglary)(?=.*Assault)\").sum() / F7.count())*100,2),\"percent\")\n",
    "print(\"The total number of charges that are related to Dwelling Burglary:\", F7.str.contains(\"(?=.*Burglary)(?=.*Dwelling)\").sum(), \"which makes up for\", np.round((F7.str.contains(\"(?=.*Burglary)(?=.*Dwelling)\").sum() / F7.count())*100,2),\"percent\")"
   ]
  },
  {
   "cell_type": "markdown",
   "id": "4f81df71-d319-4af1-8cef-f3322807359d",
   "metadata": {},
   "source": [
    "Burglary is both listed under F1 and F2. We check the types of charges related to \"Burglary\" in these 2 degrees and found that more instances are found in F2. Also, F2 covers charge types that more similar to the ones in F7. Therefore, we categorize F7 under F2"
   ]
  },
  {
   "cell_type": "code",
   "execution_count": 243,
   "id": "3954b320-e952-4a67-9d13-576c496a8afb",
   "metadata": {},
   "outputs": [
    {
     "name": "stdout",
     "output_type": "stream",
     "text": [
      "The total number of charges that are related to Burglaryin F1: 88\n",
      "The total number of charges that are related to Burglaryin F2: 1875\n"
     ]
    }
   ],
   "source": [
    "F1 = charge[charge[\"charge_degree\"] == \"(F1)\"][\"charge\"]\n",
    "F2 = charge[charge[\"charge_degree\"] == \"(F2)\"][\"charge\"]\n",
    "\n",
    "print(\"The total number of charges that are related to Burglaryin F1:\", F1.str.contains('Burglary.*').sum())\n",
    "print(\"The total number of charges that are related to Burglaryin F2:\", F2.str.contains('Burglary.*').sum())"
   ]
  },
  {
   "cell_type": "code",
   "execution_count": 244,
   "id": "f13dfae7-b594-4c18-b245-51bd95b7a1b2",
   "metadata": {},
   "outputs": [
    {
     "data": {
      "text/plain": [
       "array(['Burglary With Assault/battery', 'Burglary Damage Property>$1000',\n",
       "       'Burglary Use Vehicle as Instru', 'Burglary With Assault/Battery'],\n",
       "      dtype=object)"
      ]
     },
     "execution_count": 244,
     "metadata": {},
     "output_type": "execute_result"
    }
   ],
   "source": [
    "F1[F1.str.match(r'(Burglary.*)')==True].unique()"
   ]
  },
  {
   "cell_type": "code",
   "execution_count": 245,
   "id": "3318c7ef-7585-46bd-b00e-9674dde9f45a",
   "metadata": {},
   "outputs": [
    {
     "data": {
      "text/plain": [
       "array(['Burglary Unoccupied Dwelling', 'Burglary Dwelling Occupied',\n",
       "       'Burglary Structure Occupied', 'Burglary Struct/conv Dwel/occp',\n",
       "       'Burglary Dwelling Assault/Batt', 'Burglary Of A Dwelling',\n",
       "       'Burglary Conveyance Occupied', 'Burglary With Battery',\n",
       "       'Burglary Dwelling Armed', 'Burglary Struct/conv Asslt/bat',\n",
       "       'Burglary Structure Assault/Batt',\n",
       "       'Burglary Damage Property>$1000', 'Burglary Struct Unoccup Mask',\n",
       "       'Burglary Dwell/Stealthy Manner', 'Burglary Dwelling Assault/batt',\n",
       "       'Burglary Of Motor Vehicle', 'Burglary Dwelling Unoccup',\n",
       "       'Burglary Struct/Conv Dwel/Occp'], dtype=object)"
      ]
     },
     "execution_count": 245,
     "metadata": {},
     "output_type": "execute_result"
    }
   ],
   "source": [
    "F2[F2.str.match(r'(Burglary.*)')==True].unique()"
   ]
  },
  {
   "cell_type": "markdown",
   "id": "6190a2ec-8842-471b-ba3f-960fbbef7ad5",
   "metadata": {},
   "source": [
    "<b> 4.9 Charge Degree: F5 <b>"
   ]
  },
  {
   "cell_type": "code",
   "execution_count": 246,
   "id": "fec52b1e-19b5-45b4-8a2f-c47767736154",
   "metadata": {},
   "outputs": [
    {
     "name": "stdout",
     "output_type": "stream",
     "text": [
      "['Sex Battery Deft 18+/Vict 11-' 'Armed Sexual Battery']\n"
     ]
    }
   ],
   "source": [
    "# List of all the charge types in F5\n",
    "print(charge[charge[\"charge_degree\"] == \"(F5)\"][\"charge\"].unique())"
   ]
  },
  {
   "cell_type": "code",
   "execution_count": 247,
   "id": "3e84f088-5868-4210-a8fe-5c2252a5a498",
   "metadata": {},
   "outputs": [
    {
     "name": "stdout",
     "output_type": "stream",
     "text": [
      "The total number of charges that are related to Sexual Battery in F1: 52\n",
      "The total number of charges that are related to Sexual Battery in F2: 81\n"
     ]
    }
   ],
   "source": [
    "print(\"The total number of charges that are related to Sexual Battery in F1:\", F1.str.contains(\"(?=.*Sex)(?=.*Battery)\").sum())\n",
    "print(\"The total number of charges that are related to Sexual Battery in F2:\", F2.str.contains(\"(?=.*Sex)(?=.*Battery)\").sum())"
   ]
  },
  {
   "cell_type": "code",
   "execution_count": 248,
   "id": "cb46629c-7fba-4d76-a231-21660f44163d",
   "metadata": {},
   "outputs": [
    {
     "data": {
      "text/plain": [
       "array(['Sex Battery Deft 17-/Vict 11-', 'Sex Battery Deft 18+/Vict 11-',\n",
       "       'Sexual Battery Victim 12 Yrs +', 'Sexual Battery Victim Coerced',\n",
       "       'Sex Battery Vict Incapacitated', 'Attempted Sexual Battery',\n",
       "       'Sexual Battery / Vict 12 Yrs +', 'Sex Battery Vict Mental Defect',\n",
       "       'Sexual Battery Victim Helpless'], dtype=object)"
      ]
     },
     "execution_count": 248,
     "metadata": {},
     "output_type": "execute_result"
    }
   ],
   "source": [
    "F1[F1.str.match(r'(?=.*Sex)(?=.*Battery)')==True].unique()"
   ]
  },
  {
   "cell_type": "code",
   "execution_count": 249,
   "id": "7c27b0af-d625-4b5f-a5c7-ef6d27730126",
   "metadata": {},
   "outputs": [
    {
     "data": {
      "text/plain": [
       "array(['Armed Sexual Battery', 'Sexual Battery / Vict 12 Yrs +',\n",
       "       'Sex Battery Deft 18+/Vict 11-', 'Sexual Battery Victim Helpless'],\n",
       "      dtype=object)"
      ]
     },
     "execution_count": 249,
     "metadata": {},
     "output_type": "execute_result"
    }
   ],
   "source": [
    "F2[F2.str.match(r'(?=.*Sex)(?=.*Battery)')==True].unique()"
   ]
  },
  {
   "cell_type": "markdown",
   "id": "e4dfca8e-f973-491a-ae89-020442435206",
   "metadata": {},
   "source": [
    "Both F1 and F2 have charges related to Sex Battery but F2 have more cases (81 vs. 52) and also F2 includes both types that are in F5. Therefore, we categorize F5 under F2"
   ]
  },
  {
   "cell_type": "markdown",
   "id": "27c5b2f6-3944-47a1-b70d-dfbdf681dd18",
   "metadata": {},
   "source": [
    "<b> 4.10 Charge Degree: CT <b>"
   ]
  },
  {
   "cell_type": "code",
   "execution_count": 250,
   "id": "efd4c8ea-7918-4ae9-ba07-4e47a4a2688c",
   "metadata": {},
   "outputs": [
    {
     "name": "stdout",
     "output_type": "stream",
     "text": [
      "['Contempt/Fail To Appear/Summons' 'Contempt Of Court']\n"
     ]
    }
   ],
   "source": [
    "# List of all the charge types in CT\n",
    "print(charge[charge[\"charge_degree\"] == \"(CT)\"][\"charge\"].unique())"
   ]
  },
  {
   "cell_type": "code",
   "execution_count": 251,
   "id": "d12c289c-7d70-4626-86ba-ba911a540bac",
   "metadata": {},
   "outputs": [
    {
     "name": "stdout",
     "output_type": "stream",
     "text": [
      "The total number of charges that are related to Contempt in F3: 7\n",
      "The total number of charges that are related to Contempt in 0: 5\n"
     ]
    }
   ],
   "source": [
    "print(\"The total number of charges that are related to Contempt in F3:\", F3.str.contains(\"Contempt\", regex=True).sum())\n",
    "print(\"The total number of charges that are related to Contempt in 0:\", c0.str.contains(\"Contempt\", regex=True).sum())"
   ]
  },
  {
   "cell_type": "markdown",
   "id": "7f03a9b5-133b-4f6c-8d3b-4f97910f0342",
   "metadata": {},
   "source": [
    "CT includes exclusively charges related to Contempt. We check the keyword in other charge degrees and found that only F3 and 0 have charges related to Contempt. Therefore, we categorize CT under F3 (with consideration of going against the defendants)"
   ]
  },
  {
   "cell_type": "markdown",
   "id": "e6aed5dc-b1dd-4787-8b77-a9104582b07f",
   "metadata": {},
   "source": [
    "<b> 4.11 Charge Degree F6 <b>"
   ]
  },
  {
   "cell_type": "code",
   "execution_count": 252,
   "id": "8958faf0-1af0-4e51-843f-7e1325c8d248",
   "metadata": {},
   "outputs": [
    {
     "name": "stdout",
     "output_type": "stream",
     "text": [
      "['Murder in the First Degree' None]\n"
     ]
    }
   ],
   "source": [
    "# List of all the charge types in F6\n",
    "print(charge[charge[\"charge_degree\"] == \"(F6)\"][\"charge\"].unique())"
   ]
  },
  {
   "cell_type": "code",
   "execution_count": 253,
   "id": "c59572aa-01df-41ab-966a-39eb2dd2e85a",
   "metadata": {},
   "outputs": [
    {
     "name": "stdout",
     "output_type": "stream",
     "text": [
      "The total number of charges that are related to First Degree Murder in F1: 30\n",
      "The total number of charges that are related to First Degree Murder in F2: 2\n"
     ]
    }
   ],
   "source": [
    "print(\"The total number of charges that are related to First Degree Murder in F1:\", F1.str.contains(\"(?=.*Murder)(?=.*First)\").sum())\n",
    "print(\"The total number of charges that are related to First Degree Murder in F2:\", F2.str.contains(\"(?=.*Murder)(?=.*First)\").sum())\n"
   ]
  },
  {
   "cell_type": "markdown",
   "id": "bc00572e-b841-40f4-bea4-ff94019de444",
   "metadata": {},
   "source": [
    "Both F1 and F2 cover \"Murder in the First Degree\" but there are more instances found in F1. Therefore, we categorize F6 under F1"
   ]
  },
  {
   "cell_type": "markdown",
   "id": "ba423518-09ae-4967-89e2-1c8f487c6043",
   "metadata": {},
   "source": [
    "Since we can only know about charges in the charging table at the time of the screening, we will drop all charges with negative values"
   ]
  },
  {
   "cell_type": "code",
   "execution_count": 254,
   "id": "9d76f3a9-61e8-4175-8269-fbaf9211b8aa",
   "metadata": {},
   "outputs": [],
   "source": [
    "# Dropping of negative values\n",
    "\n",
    "charge = charge[charge[\"days_since_compas\"] > -30]"
   ]
  },
  {
   "cell_type": "markdown",
   "id": "68f942bf-09a0-4249-b0d2-fd3b5d0e62ba",
   "metadata": {},
   "source": [
    "We continue by encoding the charge degrees into the respective new categories described above. For further processing purposes, we chose numerical variables ranging the severity of the charge from 0-5."
   ]
  },
  {
   "cell_type": "code",
   "execution_count": 255,
   "id": "a30ba4f8-ec08-4ef8-a61d-4d45656455f1",
   "metadata": {},
   "outputs": [
    {
     "name": "stdout",
     "output_type": "stream",
     "text": [
      "The old charge degrees: ['(F3)', '(M2)', '(0)', '(F2)', '(M1)', '(MO3)', '(TCX)', '(F1)', '(F7)', '(NI0)', '(TC4)', '(X)', '(CO3)', '(F5)', '(M3)', 'XXXXXXXXXX', '(CT)', '(F6)']\n",
      "The new charge degrees: [3 1 0 4 2 5]\n"
     ]
    }
   ],
   "source": [
    "# The following charge degrees are given in the charge table\n",
    "\n",
    "charge_list_old = list(charge[\"charge_degree\"].unique())\n",
    "\n",
    "print(f\"The old charge degrees: {charge_list_old}\")\n",
    "\n",
    "# Given the explanation, we encoded the charge degrees as follows:\n",
    "\n",
    "charge = charge.replace({'(0)':0,'(M2)':1,'(M1)':2,'(F3)':3,'(F2)':4, '(F1)':5, '(MO3)':1, '(TCX)':1,'(F7)':4,'(NI0)': 0, '(TC4)':2, '(X)':1, '(CO3)':1,'(F5)':4, '(M3)':1,'XXXXXXXXXX':0,'(CT)':1, '(F6)':5})\n",
    "\n",
    "charge_list_new = charge[\"charge_degree\"].unique()\n",
    "\n",
    "print(f\"The new charge degrees: {charge_list_new}\")"
   ]
  },
  {
   "cell_type": "code",
   "execution_count": 256,
   "id": "12e850b1-23d5-40e7-a066-61d005c2d5a6",
   "metadata": {},
   "outputs": [
    {
     "data": {
      "text/plain": [
       "<AxesSubplot:xlabel='charge_degree', ylabel='count'>"
      ]
     },
     "execution_count": 256,
     "metadata": {},
     "output_type": "execute_result"
    },
    {
     "data": {
      "image/png": "[encoded data removed]",
      "text/plain": [
       "<Figure size 432x288 with 1 Axes>"
      ]
     },
     "metadata": {},
     "output_type": "display_data"
    }
   ],
   "source": [
    "sns.set(font_scale =.5)\n",
    "\n",
    "sns.countplot(x=\"charge_degree\",data=charge)"
   ]
  },
  {
   "cell_type": "markdown",
   "id": "fe54ab4c-d8d5-4978-8a6b-4ec7765e4194",
   "metadata": {},
   "source": [
    "Based on the new encoding, we introduce a new predictor for each charging degree, that will be 1, given that the charge is in that category or 0 otherwise."
   ]
  },
  {
   "cell_type": "markdown",
   "id": "9b2363d5-4a47-4ab5-a2f9-4062576b1c3a",
   "metadata": {
    "jp-MarkdownHeadingCollapsed": true,
    "tags": []
   },
   "source": [
    "### <a name=\"agg\"></a>Data Aggregation and Feature Engineering"
   ]
  },
  {
   "cell_type": "markdown",
   "id": "4669092e-aa38-4c02-a63d-dd8a583b0fa3",
   "metadata": {},
   "source": [
    "We now introduce a new feature that counts the amount of charges for each defendant within each degree."
   ]
  },
  {
   "cell_type": "code",
   "execution_count": 257,
   "id": "d5440dd0-4e69-4058-9e6c-32d5e84827b4",
   "metadata": {},
   "outputs": [
    {
     "data": {
      "text/html": [
       "<div>\n",
       "<style scoped>\n",
       "    .dataframe tbody tr th:only-of-type {\n",
       "        vertical-align: middle;\n",
       "    }\n",
       "\n",
       "    .dataframe tbody tr th {\n",
       "        vertical-align: top;\n",
       "    }\n",
       "\n",
       "    .dataframe thead th {\n",
       "        text-align: right;\n",
       "    }\n",
       "</style>\n",
       "<table border=\"1\" class=\"dataframe\">\n",
       "  <thead>\n",
       "    <tr style=\"text-align: right;\">\n",
       "      <th></th>\n",
       "      <th>id</th>\n",
       "      <th>case_type</th>\n",
       "      <th>case_number</th>\n",
       "      <th>filing_date</th>\n",
       "      <th>offense_date</th>\n",
       "      <th>charge_number</th>\n",
       "      <th>charge_degree</th>\n",
       "      <th>charge</th>\n",
       "      <th>date_charge_filed</th>\n",
       "      <th>filing_type</th>\n",
       "      <th>filing_agency</th>\n",
       "      <th>name</th>\n",
       "      <th>days_since_compas</th>\n",
       "      <th>statute</th>\n",
       "      <th>person_id</th>\n",
       "      <th>deg_0</th>\n",
       "      <th>deg_1</th>\n",
       "      <th>deg_2</th>\n",
       "      <th>deg_3</th>\n",
       "      <th>deg_4</th>\n",
       "      <th>deg_5</th>\n",
       "    </tr>\n",
       "  </thead>\n",
       "  <tbody>\n",
       "    <tr>\n",
       "      <th>0</th>\n",
       "      <td>1</td>\n",
       "      <td></td>\n",
       "      <td>13005832CF10A</td>\n",
       "      <td>1800-01-01 00:00:00.000000</td>\n",
       "      <td>2013-04-23 00:00:00.000000</td>\n",
       "      <td>1</td>\n",
       "      <td>3</td>\n",
       "      <td>Driving While License Revoked</td>\n",
       "      <td>2013-04-23 00:00:00</td>\n",
       "      <td>No Information/ Transfer to Misdemeanor</td>\n",
       "      <td>Fort Lauderdale PD</td>\n",
       "      <td>aajah herrington</td>\n",
       "      <td>1</td>\n",
       "      <td>322.34(5)</td>\n",
       "      <td>533</td>\n",
       "      <td>0</td>\n",
       "      <td>0</td>\n",
       "      <td>0</td>\n",
       "      <td>1</td>\n",
       "      <td>0</td>\n",
       "      <td>0</td>\n",
       "    </tr>\n",
       "    <tr>\n",
       "      <th>1</th>\n",
       "      <td>2</td>\n",
       "      <td></td>\n",
       "      <td>13005832CF10A</td>\n",
       "      <td>1800-01-01 00:00:00.000000</td>\n",
       "      <td>2013-04-23 00:00:00.000000</td>\n",
       "      <td>2</td>\n",
       "      <td>1</td>\n",
       "      <td>Petit Theft</td>\n",
       "      <td>2013-04-23 00:00:00</td>\n",
       "      <td>Transfer to County Court</td>\n",
       "      <td>Fort Lauderdale PD</td>\n",
       "      <td>aajah herrington</td>\n",
       "      <td>1</td>\n",
       "      <td>812.014(3)(a)</td>\n",
       "      <td>533</td>\n",
       "      <td>0</td>\n",
       "      <td>1</td>\n",
       "      <td>0</td>\n",
       "      <td>0</td>\n",
       "      <td>0</td>\n",
       "      <td>0</td>\n",
       "    </tr>\n",
       "    <tr>\n",
       "      <th>4</th>\n",
       "      <td>5</td>\n",
       "      <td></td>\n",
       "      <td>11065568TI30A</td>\n",
       "      <td>1800-01-01 00:00:00.000000</td>\n",
       "      <td>2011-07-03 00:00:00.000000</td>\n",
       "      <td>1</td>\n",
       "      <td>0</td>\n",
       "      <td>Violation Of Move Over Law</td>\n",
       "      <td>2011-07-03 00:00:00</td>\n",
       "      <td>None</td>\n",
       "      <td>Broward Sheriff Office</td>\n",
       "      <td>aajah herrington</td>\n",
       "      <td>661</td>\n",
       "      <td>316.126(1)(B)1</td>\n",
       "      <td>533</td>\n",
       "      <td>1</td>\n",
       "      <td>0</td>\n",
       "      <td>0</td>\n",
       "      <td>0</td>\n",
       "      <td>0</td>\n",
       "      <td>0</td>\n",
       "    </tr>\n",
       "    <tr>\n",
       "      <th>5</th>\n",
       "      <td>6</td>\n",
       "      <td></td>\n",
       "      <td>11065568TI30A</td>\n",
       "      <td>1800-01-01 00:00:00.000000</td>\n",
       "      <td>2011-07-03 00:00:00.000000</td>\n",
       "      <td>2</td>\n",
       "      <td>0</td>\n",
       "      <td>Pers/Inj/Prot/Ins Require</td>\n",
       "      <td>2011-07-03 00:00:00</td>\n",
       "      <td>None</td>\n",
       "      <td>Broward Sheriff Office</td>\n",
       "      <td>aajah herrington</td>\n",
       "      <td>661</td>\n",
       "      <td>316.646(1)</td>\n",
       "      <td>533</td>\n",
       "      <td>1</td>\n",
       "      <td>0</td>\n",
       "      <td>0</td>\n",
       "      <td>0</td>\n",
       "      <td>0</td>\n",
       "      <td>0</td>\n",
       "    </tr>\n",
       "    <tr>\n",
       "      <th>6</th>\n",
       "      <td>7</td>\n",
       "      <td></td>\n",
       "      <td>12039549TI30A</td>\n",
       "      <td>1800-01-01 00:00:00.000000</td>\n",
       "      <td>2012-03-03 00:00:00.000000</td>\n",
       "      <td>1</td>\n",
       "      <td>0</td>\n",
       "      <td>Pers/Inj/Prot/Ins Require</td>\n",
       "      <td>2012-03-03 00:00:00</td>\n",
       "      <td>None</td>\n",
       "      <td>Broward Sheriff Office</td>\n",
       "      <td>aajah herrington</td>\n",
       "      <td>417</td>\n",
       "      <td>316.646(1)</td>\n",
       "      <td>533</td>\n",
       "      <td>1</td>\n",
       "      <td>0</td>\n",
       "      <td>0</td>\n",
       "      <td>0</td>\n",
       "      <td>0</td>\n",
       "      <td>0</td>\n",
       "    </tr>\n",
       "  </tbody>\n",
       "</table>\n",
       "</div>"
      ],
      "text/plain": [
       "   id case_type    case_number                 filing_date  \\\n",
       "0   1            13005832CF10A  1800-01-01 00:00:00.000000   \n",
       "1   2            13005832CF10A  1800-01-01 00:00:00.000000   \n",
       "4   5            11065568TI30A  1800-01-01 00:00:00.000000   \n",
       "5   6            11065568TI30A  1800-01-01 00:00:00.000000   \n",
       "6   7            12039549TI30A  1800-01-01 00:00:00.000000   \n",
       "\n",
       "                 offense_date  charge_number  charge_degree  \\\n",
       "0  2013-04-23 00:00:00.000000              1              3   \n",
       "1  2013-04-23 00:00:00.000000              2              1   \n",
       "4  2011-07-03 00:00:00.000000              1              0   \n",
       "5  2011-07-03 00:00:00.000000              2              0   \n",
       "6  2012-03-03 00:00:00.000000              1              0   \n",
       "\n",
       "                          charge    date_charge_filed  \\\n",
       "0  Driving While License Revoked  2013-04-23 00:00:00   \n",
       "1                    Petit Theft  2013-04-23 00:00:00   \n",
       "4     Violation Of Move Over Law  2011-07-03 00:00:00   \n",
       "5      Pers/Inj/Prot/Ins Require  2011-07-03 00:00:00   \n",
       "6      Pers/Inj/Prot/Ins Require  2012-03-03 00:00:00   \n",
       "\n",
       "                               filing_type           filing_agency  \\\n",
       "0  No Information/ Transfer to Misdemeanor      Fort Lauderdale PD   \n",
       "1                 Transfer to County Court      Fort Lauderdale PD   \n",
       "4                                     None  Broward Sheriff Office   \n",
       "5                                     None  Broward Sheriff Office   \n",
       "6                                     None  Broward Sheriff Office   \n",
       "\n",
       "               name  days_since_compas         statute  person_id  deg_0  \\\n",
       "0  aajah herrington                  1       322.34(5)        533      0   \n",
       "1  aajah herrington                  1   812.014(3)(a)        533      0   \n",
       "4  aajah herrington                661  316.126(1)(B)1        533      1   \n",
       "5  aajah herrington                661      316.646(1)        533      1   \n",
       "6  aajah herrington                417      316.646(1)        533      1   \n",
       "\n",
       "   deg_1  deg_2  deg_3  deg_4  deg_5  \n",
       "0      0      0      1      0      0  \n",
       "1      1      0      0      0      0  \n",
       "4      0      0      0      0      0  \n",
       "5      0      0      0      0      0  \n",
       "6      0      0      0      0      0  "
      ]
     },
     "execution_count": 257,
     "metadata": {},
     "output_type": "execute_result"
    }
   ],
   "source": [
    "# given the new encoding, we introduce a new column for each degree that counts the occurence\n",
    "\n",
    "for degree in np.sort(charge_list_new):\n",
    "    charge['deg_'+str(degree)] = charge['charge_degree'].apply(lambda x: 1 if x == degree else 0)\n",
    "    \n",
    "charge.head(5)"
   ]
  },
  {
   "cell_type": "markdown",
   "id": "46ffc775-0d3f-47e6-a713-3f8892ccf688",
   "metadata": {},
   "source": [
    "In order to introduce one more feature, the age at the charge, we merge our dataframe with the compass two year dataframe to receive the age and date of birth"
   ]
  },
  {
   "cell_type": "code",
   "execution_count": 258,
   "id": "8b055a1d-88c6-4d35-9d1b-e911d8d0e73c",
   "metadata": {},
   "outputs": [],
   "source": [
    "dob_sub = two_years[[\"id\", \"dob\", \"age\" ,\"name\"]]"
   ]
  },
  {
   "cell_type": "code",
   "execution_count": 259,
   "id": "5fb87537-ffa6-4357-955e-0a1109cb813e",
   "metadata": {},
   "outputs": [],
   "source": [
    "# merging the two datframes based on person_id\n",
    "\n",
    "dob_charge = charge.merge(dob_sub, how = \"left\", left_on = \"person_id\", right_on =\"id\")"
   ]
  },
  {
   "cell_type": "code",
   "execution_count": 260,
   "id": "4947f2e7-58cd-4699-98b3-2a0366b600db",
   "metadata": {},
   "outputs": [
    {
     "data": {
      "text/html": [
       "<div>\n",
       "<style scoped>\n",
       "    .dataframe tbody tr th:only-of-type {\n",
       "        vertical-align: middle;\n",
       "    }\n",
       "\n",
       "    .dataframe tbody tr th {\n",
       "        vertical-align: top;\n",
       "    }\n",
       "\n",
       "    .dataframe thead th {\n",
       "        text-align: right;\n",
       "    }\n",
       "</style>\n",
       "<table border=\"1\" class=\"dataframe\">\n",
       "  <thead>\n",
       "    <tr style=\"text-align: right;\">\n",
       "      <th></th>\n",
       "      <th>id_x</th>\n",
       "      <th>case_type</th>\n",
       "      <th>case_number</th>\n",
       "      <th>filing_date</th>\n",
       "      <th>offense_date</th>\n",
       "      <th>charge_number</th>\n",
       "      <th>charge_degree</th>\n",
       "      <th>charge</th>\n",
       "      <th>date_charge_filed</th>\n",
       "      <th>filing_type</th>\n",
       "      <th>filing_agency</th>\n",
       "      <th>name_x</th>\n",
       "      <th>days_since_compas</th>\n",
       "      <th>statute</th>\n",
       "      <th>person_id</th>\n",
       "      <th>deg_0</th>\n",
       "      <th>deg_1</th>\n",
       "      <th>deg_2</th>\n",
       "      <th>deg_3</th>\n",
       "      <th>deg_4</th>\n",
       "      <th>deg_5</th>\n",
       "      <th>id_y</th>\n",
       "      <th>dob</th>\n",
       "      <th>age</th>\n",
       "      <th>name_y</th>\n",
       "    </tr>\n",
       "  </thead>\n",
       "  <tbody>\n",
       "    <tr>\n",
       "      <th>0</th>\n",
       "      <td>1</td>\n",
       "      <td></td>\n",
       "      <td>13005832CF10A</td>\n",
       "      <td>1800-01-01 00:00:00.000000</td>\n",
       "      <td>2013-04-23 00:00:00.000000</td>\n",
       "      <td>1</td>\n",
       "      <td>3</td>\n",
       "      <td>Driving While License Revoked</td>\n",
       "      <td>2013-04-23 00:00:00</td>\n",
       "      <td>No Information/ Transfer to Misdemeanor</td>\n",
       "      <td>Fort Lauderdale PD</td>\n",
       "      <td>aajah herrington</td>\n",
       "      <td>1</td>\n",
       "      <td>322.34(5)</td>\n",
       "      <td>533</td>\n",
       "      <td>0</td>\n",
       "      <td>0</td>\n",
       "      <td>0</td>\n",
       "      <td>1</td>\n",
       "      <td>0</td>\n",
       "      <td>0</td>\n",
       "      <td>533.0</td>\n",
       "      <td>1992-06-02</td>\n",
       "      <td>23.0</td>\n",
       "      <td>aajah herrington</td>\n",
       "    </tr>\n",
       "    <tr>\n",
       "      <th>1</th>\n",
       "      <td>2</td>\n",
       "      <td></td>\n",
       "      <td>13005832CF10A</td>\n",
       "      <td>1800-01-01 00:00:00.000000</td>\n",
       "      <td>2013-04-23 00:00:00.000000</td>\n",
       "      <td>2</td>\n",
       "      <td>1</td>\n",
       "      <td>Petit Theft</td>\n",
       "      <td>2013-04-23 00:00:00</td>\n",
       "      <td>Transfer to County Court</td>\n",
       "      <td>Fort Lauderdale PD</td>\n",
       "      <td>aajah herrington</td>\n",
       "      <td>1</td>\n",
       "      <td>812.014(3)(a)</td>\n",
       "      <td>533</td>\n",
       "      <td>0</td>\n",
       "      <td>1</td>\n",
       "      <td>0</td>\n",
       "      <td>0</td>\n",
       "      <td>0</td>\n",
       "      <td>0</td>\n",
       "      <td>533.0</td>\n",
       "      <td>1992-06-02</td>\n",
       "      <td>23.0</td>\n",
       "      <td>aajah herrington</td>\n",
       "    </tr>\n",
       "    <tr>\n",
       "      <th>2</th>\n",
       "      <td>5</td>\n",
       "      <td></td>\n",
       "      <td>11065568TI30A</td>\n",
       "      <td>1800-01-01 00:00:00.000000</td>\n",
       "      <td>2011-07-03 00:00:00.000000</td>\n",
       "      <td>1</td>\n",
       "      <td>0</td>\n",
       "      <td>Violation Of Move Over Law</td>\n",
       "      <td>2011-07-03 00:00:00</td>\n",
       "      <td>None</td>\n",
       "      <td>Broward Sheriff Office</td>\n",
       "      <td>aajah herrington</td>\n",
       "      <td>661</td>\n",
       "      <td>316.126(1)(B)1</td>\n",
       "      <td>533</td>\n",
       "      <td>1</td>\n",
       "      <td>0</td>\n",
       "      <td>0</td>\n",
       "      <td>0</td>\n",
       "      <td>0</td>\n",
       "      <td>0</td>\n",
       "      <td>533.0</td>\n",
       "      <td>1992-06-02</td>\n",
       "      <td>23.0</td>\n",
       "      <td>aajah herrington</td>\n",
       "    </tr>\n",
       "    <tr>\n",
       "      <th>3</th>\n",
       "      <td>6</td>\n",
       "      <td></td>\n",
       "      <td>11065568TI30A</td>\n",
       "      <td>1800-01-01 00:00:00.000000</td>\n",
       "      <td>2011-07-03 00:00:00.000000</td>\n",
       "      <td>2</td>\n",
       "      <td>0</td>\n",
       "      <td>Pers/Inj/Prot/Ins Require</td>\n",
       "      <td>2011-07-03 00:00:00</td>\n",
       "      <td>None</td>\n",
       "      <td>Broward Sheriff Office</td>\n",
       "      <td>aajah herrington</td>\n",
       "      <td>661</td>\n",
       "      <td>316.646(1)</td>\n",
       "      <td>533</td>\n",
       "      <td>1</td>\n",
       "      <td>0</td>\n",
       "      <td>0</td>\n",
       "      <td>0</td>\n",
       "      <td>0</td>\n",
       "      <td>0</td>\n",
       "      <td>533.0</td>\n",
       "      <td>1992-06-02</td>\n",
       "      <td>23.0</td>\n",
       "      <td>aajah herrington</td>\n",
       "    </tr>\n",
       "    <tr>\n",
       "      <th>4</th>\n",
       "      <td>7</td>\n",
       "      <td></td>\n",
       "      <td>12039549TI30A</td>\n",
       "      <td>1800-01-01 00:00:00.000000</td>\n",
       "      <td>2012-03-03 00:00:00.000000</td>\n",
       "      <td>1</td>\n",
       "      <td>0</td>\n",
       "      <td>Pers/Inj/Prot/Ins Require</td>\n",
       "      <td>2012-03-03 00:00:00</td>\n",
       "      <td>None</td>\n",
       "      <td>Broward Sheriff Office</td>\n",
       "      <td>aajah herrington</td>\n",
       "      <td>417</td>\n",
       "      <td>316.646(1)</td>\n",
       "      <td>533</td>\n",
       "      <td>1</td>\n",
       "      <td>0</td>\n",
       "      <td>0</td>\n",
       "      <td>0</td>\n",
       "      <td>0</td>\n",
       "      <td>0</td>\n",
       "      <td>533.0</td>\n",
       "      <td>1992-06-02</td>\n",
       "      <td>23.0</td>\n",
       "      <td>aajah herrington</td>\n",
       "    </tr>\n",
       "  </tbody>\n",
       "</table>\n",
       "</div>"
      ],
      "text/plain": [
       "   id_x case_type    case_number                 filing_date  \\\n",
       "0     1            13005832CF10A  1800-01-01 00:00:00.000000   \n",
       "1     2            13005832CF10A  1800-01-01 00:00:00.000000   \n",
       "2     5            11065568TI30A  1800-01-01 00:00:00.000000   \n",
       "3     6            11065568TI30A  1800-01-01 00:00:00.000000   \n",
       "4     7            12039549TI30A  1800-01-01 00:00:00.000000   \n",
       "\n",
       "                 offense_date  charge_number  charge_degree  \\\n",
       "0  2013-04-23 00:00:00.000000              1              3   \n",
       "1  2013-04-23 00:00:00.000000              2              1   \n",
       "2  2011-07-03 00:00:00.000000              1              0   \n",
       "3  2011-07-03 00:00:00.000000              2              0   \n",
       "4  2012-03-03 00:00:00.000000              1              0   \n",
       "\n",
       "                          charge    date_charge_filed  \\\n",
       "0  Driving While License Revoked  2013-04-23 00:00:00   \n",
       "1                    Petit Theft  2013-04-23 00:00:00   \n",
       "2     Violation Of Move Over Law  2011-07-03 00:00:00   \n",
       "3      Pers/Inj/Prot/Ins Require  2011-07-03 00:00:00   \n",
       "4      Pers/Inj/Prot/Ins Require  2012-03-03 00:00:00   \n",
       "\n",
       "                               filing_type           filing_agency  \\\n",
       "0  No Information/ Transfer to Misdemeanor      Fort Lauderdale PD   \n",
       "1                 Transfer to County Court      Fort Lauderdale PD   \n",
       "2                                     None  Broward Sheriff Office   \n",
       "3                                     None  Broward Sheriff Office   \n",
       "4                                     None  Broward Sheriff Office   \n",
       "\n",
       "             name_x  days_since_compas         statute  person_id  deg_0  \\\n",
       "0  aajah herrington                  1       322.34(5)        533      0   \n",
       "1  aajah herrington                  1   812.014(3)(a)        533      0   \n",
       "2  aajah herrington                661  316.126(1)(B)1        533      1   \n",
       "3  aajah herrington                661      316.646(1)        533      1   \n",
       "4  aajah herrington                417      316.646(1)        533      1   \n",
       "\n",
       "   deg_1  deg_2  deg_3  deg_4  deg_5   id_y         dob   age  \\\n",
       "0      0      0      1      0      0  533.0  1992-06-02  23.0   \n",
       "1      1      0      0      0      0  533.0  1992-06-02  23.0   \n",
       "2      0      0      0      0      0  533.0  1992-06-02  23.0   \n",
       "3      0      0      0      0      0  533.0  1992-06-02  23.0   \n",
       "4      0      0      0      0      0  533.0  1992-06-02  23.0   \n",
       "\n",
       "             name_y  \n",
       "0  aajah herrington  \n",
       "1  aajah herrington  \n",
       "2  aajah herrington  \n",
       "3  aajah herrington  \n",
       "4  aajah herrington  "
      ]
     },
     "execution_count": 260,
     "metadata": {},
     "output_type": "execute_result"
    }
   ],
   "source": [
    "# our dataframe now looks like \n",
    "\n",
    "dob_charge.head(5)"
   ]
  },
  {
   "cell_type": "markdown",
   "id": "d2501e89-7dea-446b-8a5a-4304ed839fe7",
   "metadata": {},
   "source": [
    "We now compue the age at charge, by calculating the delta of the filed charge and the birth date. It is important to note that the age given is not exact since we cannot perfectly account for leap years and will assume a year has 365.25 days."
   ]
  },
  {
   "cell_type": "code",
   "execution_count": 261,
   "id": "6955fb73-766c-4fdf-bfe7-0e16bf3d9301",
   "metadata": {},
   "outputs": [],
   "source": [
    "# convert the relevant features in the correct datatypes\n",
    "\n",
    "dob_charge[[\"date_charge_filed\", \"dob\"]] = dob_charge[[\"date_charge_filed\", \"dob\"]].astype('datetime64[ns]')"
   ]
  },
  {
   "cell_type": "code",
   "execution_count": 262,
   "id": "4c91fe05-b117-4251-ae08-62b10fd4d0c9",
   "metadata": {},
   "outputs": [],
   "source": [
    "# calculate the new feature\n",
    "\n",
    "dob_charge[\"age_at_charge\"] = ((dob_charge[\"date_charge_filed\"] - dob_charge[\"dob\"]) / (365.25)).dt.days"
   ]
  },
  {
   "cell_type": "code",
   "execution_count": 263,
   "id": "27327221-2bfa-48e5-97d9-eef565a2b1a1",
   "metadata": {},
   "outputs": [
    {
     "data": {
      "text/html": [
       "<div>\n",
       "<style scoped>\n",
       "    .dataframe tbody tr th:only-of-type {\n",
       "        vertical-align: middle;\n",
       "    }\n",
       "\n",
       "    .dataframe tbody tr th {\n",
       "        vertical-align: top;\n",
       "    }\n",
       "\n",
       "    .dataframe thead th {\n",
       "        text-align: right;\n",
       "    }\n",
       "</style>\n",
       "<table border=\"1\" class=\"dataframe\">\n",
       "  <thead>\n",
       "    <tr style=\"text-align: right;\">\n",
       "      <th></th>\n",
       "      <th>id_x</th>\n",
       "      <th>case_type</th>\n",
       "      <th>case_number</th>\n",
       "      <th>filing_date</th>\n",
       "      <th>offense_date</th>\n",
       "      <th>charge_number</th>\n",
       "      <th>charge_degree</th>\n",
       "      <th>charge</th>\n",
       "      <th>date_charge_filed</th>\n",
       "      <th>filing_type</th>\n",
       "      <th>filing_agency</th>\n",
       "      <th>name_x</th>\n",
       "      <th>days_since_compas</th>\n",
       "      <th>statute</th>\n",
       "      <th>person_id</th>\n",
       "      <th>deg_0</th>\n",
       "      <th>deg_1</th>\n",
       "      <th>deg_2</th>\n",
       "      <th>deg_3</th>\n",
       "      <th>deg_4</th>\n",
       "      <th>deg_5</th>\n",
       "      <th>id_y</th>\n",
       "      <th>dob</th>\n",
       "      <th>age</th>\n",
       "      <th>name_y</th>\n",
       "      <th>age_at_charge</th>\n",
       "    </tr>\n",
       "  </thead>\n",
       "  <tbody>\n",
       "    <tr>\n",
       "      <th>0</th>\n",
       "      <td>1</td>\n",
       "      <td></td>\n",
       "      <td>13005832CF10A</td>\n",
       "      <td>1800-01-01 00:00:00.000000</td>\n",
       "      <td>2013-04-23 00:00:00.000000</td>\n",
       "      <td>1</td>\n",
       "      <td>3</td>\n",
       "      <td>Driving While License Revoked</td>\n",
       "      <td>2013-04-23</td>\n",
       "      <td>No Information/ Transfer to Misdemeanor</td>\n",
       "      <td>Fort Lauderdale PD</td>\n",
       "      <td>aajah herrington</td>\n",
       "      <td>1</td>\n",
       "      <td>322.34(5)</td>\n",
       "      <td>533</td>\n",
       "      <td>0</td>\n",
       "      <td>0</td>\n",
       "      <td>0</td>\n",
       "      <td>1</td>\n",
       "      <td>0</td>\n",
       "      <td>0</td>\n",
       "      <td>533.0</td>\n",
       "      <td>1992-06-02</td>\n",
       "      <td>23.0</td>\n",
       "      <td>aajah herrington</td>\n",
       "      <td>20.0</td>\n",
       "    </tr>\n",
       "    <tr>\n",
       "      <th>1</th>\n",
       "      <td>2</td>\n",
       "      <td></td>\n",
       "      <td>13005832CF10A</td>\n",
       "      <td>1800-01-01 00:00:00.000000</td>\n",
       "      <td>2013-04-23 00:00:00.000000</td>\n",
       "      <td>2</td>\n",
       "      <td>1</td>\n",
       "      <td>Petit Theft</td>\n",
       "      <td>2013-04-23</td>\n",
       "      <td>Transfer to County Court</td>\n",
       "      <td>Fort Lauderdale PD</td>\n",
       "      <td>aajah herrington</td>\n",
       "      <td>1</td>\n",
       "      <td>812.014(3)(a)</td>\n",
       "      <td>533</td>\n",
       "      <td>0</td>\n",
       "      <td>1</td>\n",
       "      <td>0</td>\n",
       "      <td>0</td>\n",
       "      <td>0</td>\n",
       "      <td>0</td>\n",
       "      <td>533.0</td>\n",
       "      <td>1992-06-02</td>\n",
       "      <td>23.0</td>\n",
       "      <td>aajah herrington</td>\n",
       "      <td>20.0</td>\n",
       "    </tr>\n",
       "    <tr>\n",
       "      <th>2</th>\n",
       "      <td>5</td>\n",
       "      <td></td>\n",
       "      <td>11065568TI30A</td>\n",
       "      <td>1800-01-01 00:00:00.000000</td>\n",
       "      <td>2011-07-03 00:00:00.000000</td>\n",
       "      <td>1</td>\n",
       "      <td>0</td>\n",
       "      <td>Violation Of Move Over Law</td>\n",
       "      <td>2011-07-03</td>\n",
       "      <td>None</td>\n",
       "      <td>Broward Sheriff Office</td>\n",
       "      <td>aajah herrington</td>\n",
       "      <td>661</td>\n",
       "      <td>316.126(1)(B)1</td>\n",
       "      <td>533</td>\n",
       "      <td>1</td>\n",
       "      <td>0</td>\n",
       "      <td>0</td>\n",
       "      <td>0</td>\n",
       "      <td>0</td>\n",
       "      <td>0</td>\n",
       "      <td>533.0</td>\n",
       "      <td>1992-06-02</td>\n",
       "      <td>23.0</td>\n",
       "      <td>aajah herrington</td>\n",
       "      <td>19.0</td>\n",
       "    </tr>\n",
       "    <tr>\n",
       "      <th>3</th>\n",
       "      <td>6</td>\n",
       "      <td></td>\n",
       "      <td>11065568TI30A</td>\n",
       "      <td>1800-01-01 00:00:00.000000</td>\n",
       "      <td>2011-07-03 00:00:00.000000</td>\n",
       "      <td>2</td>\n",
       "      <td>0</td>\n",
       "      <td>Pers/Inj/Prot/Ins Require</td>\n",
       "      <td>2011-07-03</td>\n",
       "      <td>None</td>\n",
       "      <td>Broward Sheriff Office</td>\n",
       "      <td>aajah herrington</td>\n",
       "      <td>661</td>\n",
       "      <td>316.646(1)</td>\n",
       "      <td>533</td>\n",
       "      <td>1</td>\n",
       "      <td>0</td>\n",
       "      <td>0</td>\n",
       "      <td>0</td>\n",
       "      <td>0</td>\n",
       "      <td>0</td>\n",
       "      <td>533.0</td>\n",
       "      <td>1992-06-02</td>\n",
       "      <td>23.0</td>\n",
       "      <td>aajah herrington</td>\n",
       "      <td>19.0</td>\n",
       "    </tr>\n",
       "    <tr>\n",
       "      <th>4</th>\n",
       "      <td>7</td>\n",
       "      <td></td>\n",
       "      <td>12039549TI30A</td>\n",
       "      <td>1800-01-01 00:00:00.000000</td>\n",
       "      <td>2012-03-03 00:00:00.000000</td>\n",
       "      <td>1</td>\n",
       "      <td>0</td>\n",
       "      <td>Pers/Inj/Prot/Ins Require</td>\n",
       "      <td>2012-03-03</td>\n",
       "      <td>None</td>\n",
       "      <td>Broward Sheriff Office</td>\n",
       "      <td>aajah herrington</td>\n",
       "      <td>417</td>\n",
       "      <td>316.646(1)</td>\n",
       "      <td>533</td>\n",
       "      <td>1</td>\n",
       "      <td>0</td>\n",
       "      <td>0</td>\n",
       "      <td>0</td>\n",
       "      <td>0</td>\n",
       "      <td>0</td>\n",
       "      <td>533.0</td>\n",
       "      <td>1992-06-02</td>\n",
       "      <td>23.0</td>\n",
       "      <td>aajah herrington</td>\n",
       "      <td>19.0</td>\n",
       "    </tr>\n",
       "  </tbody>\n",
       "</table>\n",
       "</div>"
      ],
      "text/plain": [
       "   id_x case_type    case_number                 filing_date  \\\n",
       "0     1            13005832CF10A  1800-01-01 00:00:00.000000   \n",
       "1     2            13005832CF10A  1800-01-01 00:00:00.000000   \n",
       "2     5            11065568TI30A  1800-01-01 00:00:00.000000   \n",
       "3     6            11065568TI30A  1800-01-01 00:00:00.000000   \n",
       "4     7            12039549TI30A  1800-01-01 00:00:00.000000   \n",
       "\n",
       "                 offense_date  charge_number  charge_degree  \\\n",
       "0  2013-04-23 00:00:00.000000              1              3   \n",
       "1  2013-04-23 00:00:00.000000              2              1   \n",
       "2  2011-07-03 00:00:00.000000              1              0   \n",
       "3  2011-07-03 00:00:00.000000              2              0   \n",
       "4  2012-03-03 00:00:00.000000              1              0   \n",
       "\n",
       "                          charge date_charge_filed  \\\n",
       "0  Driving While License Revoked        2013-04-23   \n",
       "1                    Petit Theft        2013-04-23   \n",
       "2     Violation Of Move Over Law        2011-07-03   \n",
       "3      Pers/Inj/Prot/Ins Require        2011-07-03   \n",
       "4      Pers/Inj/Prot/Ins Require        2012-03-03   \n",
       "\n",
       "                               filing_type           filing_agency  \\\n",
       "0  No Information/ Transfer to Misdemeanor      Fort Lauderdale PD   \n",
       "1                 Transfer to County Court      Fort Lauderdale PD   \n",
       "2                                     None  Broward Sheriff Office   \n",
       "3                                     None  Broward Sheriff Office   \n",
       "4                                     None  Broward Sheriff Office   \n",
       "\n",
       "             name_x  days_since_compas         statute  person_id  deg_0  \\\n",
       "0  aajah herrington                  1       322.34(5)        533      0   \n",
       "1  aajah herrington                  1   812.014(3)(a)        533      0   \n",
       "2  aajah herrington                661  316.126(1)(B)1        533      1   \n",
       "3  aajah herrington                661      316.646(1)        533      1   \n",
       "4  aajah herrington                417      316.646(1)        533      1   \n",
       "\n",
       "   deg_1  deg_2  deg_3  deg_4  deg_5   id_y        dob   age  \\\n",
       "0      0      0      1      0      0  533.0 1992-06-02  23.0   \n",
       "1      1      0      0      0      0  533.0 1992-06-02  23.0   \n",
       "2      0      0      0      0      0  533.0 1992-06-02  23.0   \n",
       "3      0      0      0      0      0  533.0 1992-06-02  23.0   \n",
       "4      0      0      0      0      0  533.0 1992-06-02  23.0   \n",
       "\n",
       "             name_y  age_at_charge  \n",
       "0  aajah herrington           20.0  \n",
       "1  aajah herrington           20.0  \n",
       "2  aajah herrington           19.0  \n",
       "3  aajah herrington           19.0  \n",
       "4  aajah herrington           19.0  "
      ]
     },
     "execution_count": 263,
     "metadata": {},
     "output_type": "execute_result"
    }
   ],
   "source": [
    "# our dataframe now looks like\n",
    "\n",
    "dob_charge.head()"
   ]
  },
  {
   "cell_type": "markdown",
   "id": "ae043674-5892-459f-a64a-eb533da745d7",
   "metadata": {},
   "source": [
    "Since we have the counts of each defendant and their respective charge degrees based on our encoding, we now aggregate over the defendants id, by keepng the highest prior charging degree and the sum within each of the charging categories, the max charge at one offense incident and the minimal age at which a defendant was charged."
   ]
  },
  {
   "cell_type": "code",
   "execution_count": 264,
   "id": "f6ed6933-e5e6-43ea-be19-37c0080c5802",
   "metadata": {},
   "outputs": [
    {
     "data": {
      "text/html": [
       "<div>\n",
       "<style scoped>\n",
       "    .dataframe tbody tr th:only-of-type {\n",
       "        vertical-align: middle;\n",
       "    }\n",
       "\n",
       "    .dataframe tbody tr th {\n",
       "        vertical-align: top;\n",
       "    }\n",
       "\n",
       "    .dataframe thead th {\n",
       "        text-align: right;\n",
       "    }\n",
       "</style>\n",
       "<table border=\"1\" class=\"dataframe\">\n",
       "  <thead>\n",
       "    <tr style=\"text-align: right;\">\n",
       "      <th></th>\n",
       "      <th>id</th>\n",
       "      <th>highest_degree_charged</th>\n",
       "      <th>count_deg_0</th>\n",
       "      <th>count_deg_1</th>\n",
       "      <th>count_deg_2</th>\n",
       "      <th>count_deg_3</th>\n",
       "      <th>count_deg_4</th>\n",
       "      <th>count_deg_5</th>\n",
       "      <th>max_charge_incid</th>\n",
       "      <th>ear_charge_age</th>\n",
       "    </tr>\n",
       "  </thead>\n",
       "  <tbody>\n",
       "    <tr>\n",
       "      <th>0</th>\n",
       "      <td>1</td>\n",
       "      <td>3</td>\n",
       "      <td>4</td>\n",
       "      <td>0</td>\n",
       "      <td>1</td>\n",
       "      <td>1</td>\n",
       "      <td>0</td>\n",
       "      <td>0</td>\n",
       "      <td>2</td>\n",
       "      <td>62.0</td>\n",
       "    </tr>\n",
       "    <tr>\n",
       "      <th>1</th>\n",
       "      <td>3</td>\n",
       "      <td>3</td>\n",
       "      <td>0</td>\n",
       "      <td>0</td>\n",
       "      <td>0</td>\n",
       "      <td>1</td>\n",
       "      <td>0</td>\n",
       "      <td>0</td>\n",
       "      <td>1</td>\n",
       "      <td>31.0</td>\n",
       "    </tr>\n",
       "    <tr>\n",
       "      <th>2</th>\n",
       "      <td>4</td>\n",
       "      <td>3</td>\n",
       "      <td>6</td>\n",
       "      <td>3</td>\n",
       "      <td>6</td>\n",
       "      <td>4</td>\n",
       "      <td>0</td>\n",
       "      <td>0</td>\n",
       "      <td>5</td>\n",
       "      <td>17.0</td>\n",
       "    </tr>\n",
       "    <tr>\n",
       "      <th>3</th>\n",
       "      <td>5</td>\n",
       "      <td>3</td>\n",
       "      <td>1</td>\n",
       "      <td>1</td>\n",
       "      <td>2</td>\n",
       "      <td>1</td>\n",
       "      <td>0</td>\n",
       "      <td>0</td>\n",
       "      <td>2</td>\n",
       "      <td>14.0</td>\n",
       "    </tr>\n",
       "    <tr>\n",
       "      <th>4</th>\n",
       "      <td>6</td>\n",
       "      <td>4</td>\n",
       "      <td>1</td>\n",
       "      <td>0</td>\n",
       "      <td>1</td>\n",
       "      <td>1</td>\n",
       "      <td>1</td>\n",
       "      <td>0</td>\n",
       "      <td>2</td>\n",
       "      <td>36.0</td>\n",
       "    </tr>\n",
       "    <tr>\n",
       "      <th>5</th>\n",
       "      <td>7</td>\n",
       "      <td>2</td>\n",
       "      <td>0</td>\n",
       "      <td>0</td>\n",
       "      <td>1</td>\n",
       "      <td>0</td>\n",
       "      <td>0</td>\n",
       "      <td>0</td>\n",
       "      <td>1</td>\n",
       "      <td>42.0</td>\n",
       "    </tr>\n",
       "    <tr>\n",
       "      <th>6</th>\n",
       "      <td>8</td>\n",
       "      <td>4</td>\n",
       "      <td>4</td>\n",
       "      <td>3</td>\n",
       "      <td>4</td>\n",
       "      <td>13</td>\n",
       "      <td>3</td>\n",
       "      <td>0</td>\n",
       "      <td>4</td>\n",
       "      <td>19.0</td>\n",
       "    </tr>\n",
       "    <tr>\n",
       "      <th>7</th>\n",
       "      <td>9</td>\n",
       "      <td>4</td>\n",
       "      <td>9</td>\n",
       "      <td>3</td>\n",
       "      <td>1</td>\n",
       "      <td>2</td>\n",
       "      <td>1</td>\n",
       "      <td>0</td>\n",
       "      <td>2</td>\n",
       "      <td>29.0</td>\n",
       "    </tr>\n",
       "    <tr>\n",
       "      <th>8</th>\n",
       "      <td>10</td>\n",
       "      <td>2</td>\n",
       "      <td>0</td>\n",
       "      <td>0</td>\n",
       "      <td>1</td>\n",
       "      <td>0</td>\n",
       "      <td>0</td>\n",
       "      <td>0</td>\n",
       "      <td>1</td>\n",
       "      <td>37.0</td>\n",
       "    </tr>\n",
       "    <tr>\n",
       "      <th>9</th>\n",
       "      <td>11</td>\n",
       "      <td>3</td>\n",
       "      <td>3</td>\n",
       "      <td>0</td>\n",
       "      <td>1</td>\n",
       "      <td>1</td>\n",
       "      <td>0</td>\n",
       "      <td>0</td>\n",
       "      <td>4</td>\n",
       "      <td>NaN</td>\n",
       "    </tr>\n",
       "  </tbody>\n",
       "</table>\n",
       "</div>"
      ],
      "text/plain": [
       "   id  highest_degree_charged  count_deg_0  count_deg_1  count_deg_2  \\\n",
       "0   1                       3            4            0            1   \n",
       "1   3                       3            0            0            0   \n",
       "2   4                       3            6            3            6   \n",
       "3   5                       3            1            1            2   \n",
       "4   6                       4            1            0            1   \n",
       "5   7                       2            0            0            1   \n",
       "6   8                       4            4            3            4   \n",
       "7   9                       4            9            3            1   \n",
       "8  10                       2            0            0            1   \n",
       "9  11                       3            3            0            1   \n",
       "\n",
       "   count_deg_3  count_deg_4  count_deg_5  max_charge_incid  ear_charge_age  \n",
       "0            1            0            0                 2            62.0  \n",
       "1            1            0            0                 1            31.0  \n",
       "2            4            0            0                 5            17.0  \n",
       "3            1            0            0                 2            14.0  \n",
       "4            1            1            0                 2            36.0  \n",
       "5            0            0            0                 1            42.0  \n",
       "6           13            3            0                 4            19.0  \n",
       "7            2            1            0                 2            29.0  \n",
       "8            0            0            0                 1            37.0  \n",
       "9            1            0            0                 4             NaN  "
      ]
     },
     "execution_count": 264,
     "metadata": {},
     "output_type": "execute_result"
    }
   ],
   "source": [
    "# using that information, we construct an aggregated dataframe by extracting the highest charging degree per person and the amount of times within each individual group a person commited a crime\n",
    "\n",
    "dob_charge = dob_charge.groupby(\"person_id\", as_index = False).agg({\"charge_degree\":\"max\",\"deg_0\":\"sum\", \"deg_1\":\"sum\", \"deg_2\":\"sum\", \"deg_3\":\"sum\", \"deg_4\":\"sum\", \"deg_5\":\"sum\", \"charge_number\":\"max\", \"age_at_charge\":\"min\"})\n",
    "\n",
    "charge_agg = dob_charge.rename(columns={'person_id':'id','charge_degree':'highest_degree_charged', \n",
    "                                        'deg_0':'count_deg_0', 'deg_1':'count_deg_1', 'deg_2':'count_deg_2', \n",
    "                                        'deg_3':'count_deg_3', 'deg_4':'count_deg_4', 'deg_5':'count_deg_5', \n",
    "                                        \"charge_number\":\"max_charge_incid\", \"age_at_charge\":\"ear_charge_age\"})\n",
    "\n",
    "charge_agg.drop_duplicates()\n",
    "\n",
    "\n",
    "charge_agg.head(10)"
   ]
  },
  {
   "cell_type": "markdown",
   "id": "a42d9035-4bd1-4cfe-83fe-dbcec7bb2dc5",
   "metadata": {},
   "source": [
    " We can observe that there are still several defendants for which no age was available. It will be shown later however that due to merging the dataframe with the rest of compas two years, none of these defendants will remain."
   ]
  },
  {
   "cell_type": "code",
   "execution_count": 265,
   "id": "1468be38-ddab-4d85-87fd-9af5a6280cbc",
   "metadata": {},
   "outputs": [
    {
     "data": {
      "text/plain": [
       "<AxesSubplot:xlabel='highest_degree_charged', ylabel='Count'>"
      ]
     },
     "execution_count": 265,
     "metadata": {},
     "output_type": "execute_result"
    },
    {
     "data": {
      "image/png": "[encoded data removed]",
      "text/plain": [
       "<Figure size 432x288 with 1 Axes>"
      ]
     },
     "metadata": {},
     "output_type": "display_data"
    }
   ],
   "source": [
    "sns.histplot(x=\"highest_degree_charged\", data = charge_agg)"
   ]
  },
  {
   "cell_type": "markdown",
   "id": "e3970058-0f7d-4efa-b3e6-a5fde0149f05",
   "metadata": {},
   "source": [
    "We can see that the highest degrees charged are almost normally distributed"
   ]
  },
  {
   "cell_type": "markdown",
   "id": "ffa0b6be-1a6c-4bd5-9c97-40ba32cc6ced",
   "metadata": {},
   "source": [
    "Given this aggregated new view on the charges, we now merge the charge data back with the compas score two years that was used by ProPublica."
   ]
  },
  {
   "cell_type": "code",
   "execution_count": 266,
   "id": "9e0dc5d2-315c-4355-9cb6-49112240bc3c",
   "metadata": {},
   "outputs": [],
   "source": [
    "# merging with compas two years \n",
    "\n",
    "compas_merge = charge_agg.merge(two_years, how = \"inner\", on=\"id\")"
   ]
  },
  {
   "cell_type": "code",
   "execution_count": 267,
   "id": "4ceaa109-f578-4664-bd6a-65ed4dbb7a36",
   "metadata": {},
   "outputs": [
    {
     "data": {
      "text/plain": [
       "0       62\n",
       "1       31\n",
       "2       17\n",
       "3       14\n",
       "4       36\n",
       "        ..\n",
       "7197    21\n",
       "7198    20\n",
       "7199    55\n",
       "7200    19\n",
       "7201    21\n",
       "Name: ear_charge_age, Length: 7202, dtype: uint8"
      ]
     },
     "execution_count": 267,
     "metadata": {},
     "output_type": "execute_result"
    }
   ],
   "source": [
    "# we convcert the earliest age at charge to integer\n",
    "\n",
    "compas_merge[\"ear_charge_age\"].astype(\"uint8\")"
   ]
  },
  {
   "cell_type": "markdown",
   "id": "7ac46b51-510d-40e2-ab3a-31f7eef6df3d",
   "metadata": {},
   "source": [
    "We can also now show that no NaN values remain for the earliest charge age and that the feature is never bigger than the actual age of the defendant."
   ]
  },
  {
   "cell_type": "code",
   "execution_count": 268,
   "id": "27fa6009-4d49-4bd9-b1f3-7e6b2f5122d8",
   "metadata": {},
   "outputs": [
    {
     "data": {
      "text/html": [
       "<div>\n",
       "<style scoped>\n",
       "    .dataframe tbody tr th:only-of-type {\n",
       "        vertical-align: middle;\n",
       "    }\n",
       "\n",
       "    .dataframe tbody tr th {\n",
       "        vertical-align: top;\n",
       "    }\n",
       "\n",
       "    .dataframe thead th {\n",
       "        text-align: right;\n",
       "    }\n",
       "</style>\n",
       "<table border=\"1\" class=\"dataframe\">\n",
       "  <thead>\n",
       "    <tr style=\"text-align: right;\">\n",
       "      <th></th>\n",
       "      <th>id</th>\n",
       "      <th>highest_degree_charged</th>\n",
       "      <th>count_deg_0</th>\n",
       "      <th>count_deg_1</th>\n",
       "      <th>count_deg_2</th>\n",
       "      <th>count_deg_3</th>\n",
       "      <th>count_deg_4</th>\n",
       "      <th>count_deg_5</th>\n",
       "      <th>max_charge_incid</th>\n",
       "      <th>ear_charge_age</th>\n",
       "      <th>name</th>\n",
       "      <th>first</th>\n",
       "      <th>last</th>\n",
       "      <th>compas_screening_date</th>\n",
       "      <th>sex</th>\n",
       "      <th>dob</th>\n",
       "      <th>age</th>\n",
       "      <th>age_cat</th>\n",
       "      <th>race</th>\n",
       "      <th>juv_fel_count</th>\n",
       "      <th>decile_score</th>\n",
       "      <th>juv_misd_count</th>\n",
       "      <th>juv_other_count</th>\n",
       "      <th>priors_count</th>\n",
       "      <th>days_b_screening_arrest</th>\n",
       "      <th>c_jail_in</th>\n",
       "      <th>c_jail_out</th>\n",
       "      <th>c_case_number</th>\n",
       "      <th>c_offense_date</th>\n",
       "      <th>c_arrest_date</th>\n",
       "      <th>c_days_from_compas</th>\n",
       "      <th>c_charge_degree</th>\n",
       "      <th>c_charge_desc</th>\n",
       "      <th>is_recid</th>\n",
       "      <th>r_case_number</th>\n",
       "      <th>r_charge_degree</th>\n",
       "      <th>r_days_from_arrest</th>\n",
       "      <th>r_offense_date</th>\n",
       "      <th>r_charge_desc</th>\n",
       "      <th>r_jail_in</th>\n",
       "      <th>r_jail_out</th>\n",
       "      <th>violent_recid</th>\n",
       "      <th>is_violent_recid</th>\n",
       "      <th>vr_case_number</th>\n",
       "      <th>vr_charge_degree</th>\n",
       "      <th>vr_offense_date</th>\n",
       "      <th>vr_charge_desc</th>\n",
       "      <th>type_of_assessment</th>\n",
       "      <th>decile_score.1</th>\n",
       "      <th>score_text</th>\n",
       "      <th>screening_date</th>\n",
       "      <th>v_type_of_assessment</th>\n",
       "      <th>v_decile_score</th>\n",
       "      <th>v_score_text</th>\n",
       "      <th>v_screening_date</th>\n",
       "      <th>in_custody</th>\n",
       "      <th>out_custody</th>\n",
       "      <th>priors_count.1</th>\n",
       "      <th>start</th>\n",
       "      <th>end</th>\n",
       "      <th>event</th>\n",
       "      <th>two_year_recid</th>\n",
       "    </tr>\n",
       "  </thead>\n",
       "  <tbody>\n",
       "  </tbody>\n",
       "</table>\n",
       "</div>"
      ],
      "text/plain": [
       "Empty DataFrame\n",
       "Columns: [id, highest_degree_charged, count_deg_0, count_deg_1, count_deg_2, count_deg_3, count_deg_4, count_deg_5, max_charge_incid, ear_charge_age, name, first, last, compas_screening_date, sex, dob, age, age_cat, race, juv_fel_count, decile_score, juv_misd_count, juv_other_count, priors_count, days_b_screening_arrest, c_jail_in, c_jail_out, c_case_number, c_offense_date, c_arrest_date, c_days_from_compas, c_charge_degree, c_charge_desc, is_recid, r_case_number, r_charge_degree, r_days_from_arrest, r_offense_date, r_charge_desc, r_jail_in, r_jail_out, violent_recid, is_violent_recid, vr_case_number, vr_charge_degree, vr_offense_date, vr_charge_desc, type_of_assessment, decile_score.1, score_text, screening_date, v_type_of_assessment, v_decile_score, v_score_text, v_screening_date, in_custody, out_custody, priors_count.1, start, end, event, two_year_recid]\n",
       "Index: []"
      ]
     },
     "execution_count": 268,
     "metadata": {},
     "output_type": "execute_result"
    }
   ],
   "source": [
    "# empty result\n",
    "\n",
    "compas_merge[compas_merge[\"age\"] < compas_merge[\"ear_charge_age\"]]"
   ]
  },
  {
   "cell_type": "code",
   "execution_count": 269,
   "id": "5f60a960-6dab-4505-81d8-d53ae158f491",
   "metadata": {},
   "outputs": [
    {
     "data": {
      "text/plain": [
       "False    7202\n",
       "Name: ear_charge_age, dtype: int64"
      ]
     },
     "execution_count": 269,
     "metadata": {},
     "output_type": "execute_result"
    }
   ],
   "source": [
    "# no NA values left\n",
    "\n",
    "compas_merge[\"ear_charge_age\"].isna().value_counts()"
   ]
  },
  {
   "cell_type": "code",
   "execution_count": 270,
   "id": "99cdd2c3-6154-4e30-8875-e0f490e03cf1",
   "metadata": {},
   "outputs": [
    {
     "data": {
      "text/plain": [
       "(7202, 62)"
      ]
     },
     "execution_count": 270,
     "metadata": {},
     "output_type": "execute_result"
    }
   ],
   "source": [
    "# the current shape of our df\n",
    "\n",
    "compas_merge.shape"
   ]
  },
  {
   "cell_type": "markdown",
   "id": "9ec38c6f-8f76-4108-8015-087e5cc30aff",
   "metadata": {},
   "source": [
    "Now we include our last predictor, the marital status, by subseting the compas table and only keeping the unique id's. "
   ]
  },
  {
   "cell_type": "code",
   "execution_count": 271,
   "id": "b60fbce6-c681-49d3-8e50-d5678aa0ac0e",
   "metadata": {},
   "outputs": [
    {
     "data": {
      "text/html": [
       "<div>\n",
       "<style scoped>\n",
       "    .dataframe tbody tr th:only-of-type {\n",
       "        vertical-align: middle;\n",
       "    }\n",
       "\n",
       "    .dataframe tbody tr th {\n",
       "        vertical-align: top;\n",
       "    }\n",
       "\n",
       "    .dataframe thead th {\n",
       "        text-align: right;\n",
       "    }\n",
       "</style>\n",
       "<table border=\"1\" class=\"dataframe\">\n",
       "  <thead>\n",
       "    <tr style=\"text-align: right;\">\n",
       "      <th></th>\n",
       "      <th>id</th>\n",
       "      <th>marital_status</th>\n",
       "    </tr>\n",
       "  </thead>\n",
       "  <tbody>\n",
       "    <tr>\n",
       "      <th>0</th>\n",
       "      <td>1</td>\n",
       "      <td>Single</td>\n",
       "    </tr>\n",
       "    <tr>\n",
       "      <th>3</th>\n",
       "      <td>2</td>\n",
       "      <td>Single</td>\n",
       "    </tr>\n",
       "    <tr>\n",
       "      <th>6</th>\n",
       "      <td>3</td>\n",
       "      <td>Single</td>\n",
       "    </tr>\n",
       "    <tr>\n",
       "      <th>9</th>\n",
       "      <td>4</td>\n",
       "      <td>Single</td>\n",
       "    </tr>\n",
       "    <tr>\n",
       "      <th>12</th>\n",
       "      <td>5</td>\n",
       "      <td>Single</td>\n",
       "    </tr>\n",
       "  </tbody>\n",
       "</table>\n",
       "</div>"
      ],
      "text/plain": [
       "    id marital_status\n",
       "0    1         Single\n",
       "3    2         Single\n",
       "6    3         Single\n",
       "9    4         Single\n",
       "12   5         Single"
      ]
     },
     "execution_count": 271,
     "metadata": {},
     "output_type": "execute_result"
    }
   ],
   "source": [
    "# subseting compas dataframe for last needed predictor and renaming column to be merged\n",
    "\n",
    "compas = compas[[\"person_id\", \"marital_status\"]].drop_duplicates().rename(columns={'person_id':'id'})\n",
    "\n",
    "compas.head(5)"
   ]
  },
  {
   "cell_type": "code",
   "execution_count": 272,
   "id": "68cc425d-203e-4daf-ac3e-28bd1f608382",
   "metadata": {},
   "outputs": [
    {
     "data": {
      "text/plain": [
       "<AxesSubplot:xlabel='marital_status', ylabel='count'>"
      ]
     },
     "execution_count": 272,
     "metadata": {},
     "output_type": "execute_result"
    },
    {
     "data": {
      "image/png": "[encoded data removed]",
      "text/plain": [
       "<Figure size 432x288 with 1 Axes>"
      ]
     },
     "metadata": {},
     "output_type": "display_data"
    }
   ],
   "source": [
    "sns.set(font_scale =.5)\n",
    "\n",
    "sns.countplot(x=\"marital_status\",data=compas)"
   ]
  },
  {
   "cell_type": "markdown",
   "id": "ad646429-6003-404b-839c-c34a4eacd8ad",
   "metadata": {},
   "source": [
    "We merge the marital status back with the  rest of the data."
   ]
  },
  {
   "cell_type": "code",
   "execution_count": 273,
   "id": "694ffacc-a368-4c02-9ce1-035057fae802",
   "metadata": {},
   "outputs": [
    {
     "data": {
      "text/plain": [
       "(7256, 63)"
      ]
     },
     "execution_count": 273,
     "metadata": {},
     "output_type": "execute_result"
    }
   ],
   "source": [
    "# merging compas with people to df\n",
    "\n",
    "df = compas_merge.merge(compas, how=\"inner\", on=\"id\")\n",
    "\n",
    "df.head(5)\n",
    "\n",
    "df.shape"
   ]
  },
  {
   "cell_type": "code",
   "execution_count": 274,
   "id": "6350c292-26f1-4f1e-ac33-6e155c3a8c59",
   "metadata": {},
   "outputs": [
    {
     "data": {
      "text/html": [
       "<div>\n",
       "<style scoped>\n",
       "    .dataframe tbody tr th:only-of-type {\n",
       "        vertical-align: middle;\n",
       "    }\n",
       "\n",
       "    .dataframe tbody tr th {\n",
       "        vertical-align: top;\n",
       "    }\n",
       "\n",
       "    .dataframe thead th {\n",
       "        text-align: right;\n",
       "    }\n",
       "</style>\n",
       "<table border=\"1\" class=\"dataframe\">\n",
       "  <thead>\n",
       "    <tr style=\"text-align: right;\">\n",
       "      <th></th>\n",
       "      <th>id</th>\n",
       "      <th>highest_degree_charged</th>\n",
       "      <th>count_deg_0</th>\n",
       "      <th>count_deg_1</th>\n",
       "      <th>count_deg_2</th>\n",
       "      <th>count_deg_3</th>\n",
       "      <th>count_deg_4</th>\n",
       "      <th>count_deg_5</th>\n",
       "      <th>max_charge_incid</th>\n",
       "      <th>ear_charge_age</th>\n",
       "      <th>name</th>\n",
       "      <th>first</th>\n",
       "      <th>last</th>\n",
       "      <th>compas_screening_date</th>\n",
       "      <th>sex</th>\n",
       "      <th>dob</th>\n",
       "      <th>age</th>\n",
       "      <th>age_cat</th>\n",
       "      <th>race</th>\n",
       "      <th>juv_fel_count</th>\n",
       "      <th>decile_score</th>\n",
       "      <th>juv_misd_count</th>\n",
       "      <th>juv_other_count</th>\n",
       "      <th>priors_count</th>\n",
       "      <th>days_b_screening_arrest</th>\n",
       "      <th>c_jail_in</th>\n",
       "      <th>c_jail_out</th>\n",
       "      <th>c_case_number</th>\n",
       "      <th>c_offense_date</th>\n",
       "      <th>c_arrest_date</th>\n",
       "      <th>c_days_from_compas</th>\n",
       "      <th>c_charge_degree</th>\n",
       "      <th>c_charge_desc</th>\n",
       "      <th>is_recid</th>\n",
       "      <th>r_case_number</th>\n",
       "      <th>r_charge_degree</th>\n",
       "      <th>r_days_from_arrest</th>\n",
       "      <th>r_offense_date</th>\n",
       "      <th>r_charge_desc</th>\n",
       "      <th>r_jail_in</th>\n",
       "      <th>r_jail_out</th>\n",
       "      <th>violent_recid</th>\n",
       "      <th>is_violent_recid</th>\n",
       "      <th>vr_case_number</th>\n",
       "      <th>vr_charge_degree</th>\n",
       "      <th>vr_offense_date</th>\n",
       "      <th>vr_charge_desc</th>\n",
       "      <th>type_of_assessment</th>\n",
       "      <th>decile_score.1</th>\n",
       "      <th>score_text</th>\n",
       "      <th>screening_date</th>\n",
       "      <th>v_type_of_assessment</th>\n",
       "      <th>v_decile_score</th>\n",
       "      <th>v_score_text</th>\n",
       "      <th>v_screening_date</th>\n",
       "      <th>in_custody</th>\n",
       "      <th>out_custody</th>\n",
       "      <th>priors_count.1</th>\n",
       "      <th>start</th>\n",
       "      <th>end</th>\n",
       "      <th>event</th>\n",
       "      <th>two_year_recid</th>\n",
       "      <th>marital_status</th>\n",
       "    </tr>\n",
       "  </thead>\n",
       "  <tbody>\n",
       "    <tr>\n",
       "      <th>0</th>\n",
       "      <td>1</td>\n",
       "      <td>3</td>\n",
       "      <td>4</td>\n",
       "      <td>0</td>\n",
       "      <td>1</td>\n",
       "      <td>1</td>\n",
       "      <td>0</td>\n",
       "      <td>0</td>\n",
       "      <td>2</td>\n",
       "      <td>62.0</td>\n",
       "      <td>miguel hernandez</td>\n",
       "      <td>miguel</td>\n",
       "      <td>hernandez</td>\n",
       "      <td>2013-08-14</td>\n",
       "      <td>Male</td>\n",
       "      <td>1947-04-18</td>\n",
       "      <td>69</td>\n",
       "      <td>Greater than 45</td>\n",
       "      <td>Other</td>\n",
       "      <td>0</td>\n",
       "      <td>1</td>\n",
       "      <td>0</td>\n",
       "      <td>0</td>\n",
       "      <td>0</td>\n",
       "      <td>-1.0</td>\n",
       "      <td>2013-08-13 06:03:42</td>\n",
       "      <td>2013-08-14 05:41:20</td>\n",
       "      <td>13011352CF10A</td>\n",
       "      <td>2013-08-13</td>\n",
       "      <td>NaN</td>\n",
       "      <td>1.0</td>\n",
       "      <td>F</td>\n",
       "      <td>Aggravated Assault w/Firearm</td>\n",
       "      <td>0</td>\n",
       "      <td>NaN</td>\n",
       "      <td>NaN</td>\n",
       "      <td>NaN</td>\n",
       "      <td>NaN</td>\n",
       "      <td>NaN</td>\n",
       "      <td>NaN</td>\n",
       "      <td>NaN</td>\n",
       "      <td>NaN</td>\n",
       "      <td>0</td>\n",
       "      <td>NaN</td>\n",
       "      <td>NaN</td>\n",
       "      <td>NaN</td>\n",
       "      <td>NaN</td>\n",
       "      <td>Risk of Recidivism</td>\n",
       "      <td>1</td>\n",
       "      <td>Low</td>\n",
       "      <td>2013-08-14</td>\n",
       "      <td>Risk of Violence</td>\n",
       "      <td>1</td>\n",
       "      <td>Low</td>\n",
       "      <td>2013-08-14</td>\n",
       "      <td>2014-07-07</td>\n",
       "      <td>2014-07-14</td>\n",
       "      <td>0</td>\n",
       "      <td>0</td>\n",
       "      <td>327</td>\n",
       "      <td>0</td>\n",
       "      <td>0</td>\n",
       "      <td>Single</td>\n",
       "    </tr>\n",
       "    <tr>\n",
       "      <th>1</th>\n",
       "      <td>3</td>\n",
       "      <td>3</td>\n",
       "      <td>0</td>\n",
       "      <td>0</td>\n",
       "      <td>0</td>\n",
       "      <td>1</td>\n",
       "      <td>0</td>\n",
       "      <td>0</td>\n",
       "      <td>1</td>\n",
       "      <td>31.0</td>\n",
       "      <td>kevon dixon</td>\n",
       "      <td>kevon</td>\n",
       "      <td>dixon</td>\n",
       "      <td>2013-01-27</td>\n",
       "      <td>Male</td>\n",
       "      <td>1982-01-22</td>\n",
       "      <td>34</td>\n",
       "      <td>25 - 45</td>\n",
       "      <td>African-American</td>\n",
       "      <td>0</td>\n",
       "      <td>3</td>\n",
       "      <td>0</td>\n",
       "      <td>0</td>\n",
       "      <td>0</td>\n",
       "      <td>-1.0</td>\n",
       "      <td>2013-01-26 03:45:27</td>\n",
       "      <td>2013-02-05 05:36:53</td>\n",
       "      <td>13001275CF10A</td>\n",
       "      <td>2013-01-26</td>\n",
       "      <td>NaN</td>\n",
       "      <td>1.0</td>\n",
       "      <td>F</td>\n",
       "      <td>Felony Battery w/Prior Convict</td>\n",
       "      <td>1</td>\n",
       "      <td>13009779CF10A</td>\n",
       "      <td>(F3)</td>\n",
       "      <td>NaN</td>\n",
       "      <td>2013-07-05</td>\n",
       "      <td>Felony Battery (Dom Strang)</td>\n",
       "      <td>NaN</td>\n",
       "      <td>NaN</td>\n",
       "      <td>NaN</td>\n",
       "      <td>1</td>\n",
       "      <td>13009779CF10A</td>\n",
       "      <td>(F3)</td>\n",
       "      <td>2013-07-05</td>\n",
       "      <td>Felony Battery (Dom Strang)</td>\n",
       "      <td>Risk of Recidivism</td>\n",
       "      <td>3</td>\n",
       "      <td>Low</td>\n",
       "      <td>2013-01-27</td>\n",
       "      <td>Risk of Violence</td>\n",
       "      <td>1</td>\n",
       "      <td>Low</td>\n",
       "      <td>2013-01-27</td>\n",
       "      <td>2013-01-26</td>\n",
       "      <td>2013-02-05</td>\n",
       "      <td>0</td>\n",
       "      <td>9</td>\n",
       "      <td>159</td>\n",
       "      <td>1</td>\n",
       "      <td>1</td>\n",
       "      <td>Single</td>\n",
       "    </tr>\n",
       "    <tr>\n",
       "      <th>2</th>\n",
       "      <td>4</td>\n",
       "      <td>3</td>\n",
       "      <td>6</td>\n",
       "      <td>3</td>\n",
       "      <td>6</td>\n",
       "      <td>4</td>\n",
       "      <td>0</td>\n",
       "      <td>0</td>\n",
       "      <td>5</td>\n",
       "      <td>17.0</td>\n",
       "      <td>ed philo</td>\n",
       "      <td>ed</td>\n",
       "      <td>philo</td>\n",
       "      <td>2013-04-14</td>\n",
       "      <td>Male</td>\n",
       "      <td>1991-05-14</td>\n",
       "      <td>24</td>\n",
       "      <td>Less than 25</td>\n",
       "      <td>African-American</td>\n",
       "      <td>0</td>\n",
       "      <td>4</td>\n",
       "      <td>0</td>\n",
       "      <td>1</td>\n",
       "      <td>4</td>\n",
       "      <td>-1.0</td>\n",
       "      <td>2013-04-13 04:58:34</td>\n",
       "      <td>2013-04-14 07:02:04</td>\n",
       "      <td>13005330CF10A</td>\n",
       "      <td>2013-04-13</td>\n",
       "      <td>NaN</td>\n",
       "      <td>1.0</td>\n",
       "      <td>F</td>\n",
       "      <td>Possession of Cocaine</td>\n",
       "      <td>1</td>\n",
       "      <td>13011511MM10A</td>\n",
       "      <td>(M1)</td>\n",
       "      <td>0.0</td>\n",
       "      <td>2013-06-16</td>\n",
       "      <td>Driving Under The Influence</td>\n",
       "      <td>2013-06-16</td>\n",
       "      <td>2013-06-16</td>\n",
       "      <td>NaN</td>\n",
       "      <td>0</td>\n",
       "      <td>NaN</td>\n",
       "      <td>NaN</td>\n",
       "      <td>NaN</td>\n",
       "      <td>NaN</td>\n",
       "      <td>Risk of Recidivism</td>\n",
       "      <td>4</td>\n",
       "      <td>Low</td>\n",
       "      <td>2013-04-14</td>\n",
       "      <td>Risk of Violence</td>\n",
       "      <td>3</td>\n",
       "      <td>Low</td>\n",
       "      <td>2013-04-14</td>\n",
       "      <td>2013-06-16</td>\n",
       "      <td>2013-06-16</td>\n",
       "      <td>4</td>\n",
       "      <td>0</td>\n",
       "      <td>63</td>\n",
       "      <td>0</td>\n",
       "      <td>1</td>\n",
       "      <td>Single</td>\n",
       "    </tr>\n",
       "    <tr>\n",
       "      <th>3</th>\n",
       "      <td>5</td>\n",
       "      <td>3</td>\n",
       "      <td>1</td>\n",
       "      <td>1</td>\n",
       "      <td>2</td>\n",
       "      <td>1</td>\n",
       "      <td>0</td>\n",
       "      <td>0</td>\n",
       "      <td>2</td>\n",
       "      <td>14.0</td>\n",
       "      <td>marcu brown</td>\n",
       "      <td>marcu</td>\n",
       "      <td>brown</td>\n",
       "      <td>2013-01-13</td>\n",
       "      <td>Male</td>\n",
       "      <td>1993-01-21</td>\n",
       "      <td>23</td>\n",
       "      <td>Less than 25</td>\n",
       "      <td>African-American</td>\n",
       "      <td>0</td>\n",
       "      <td>8</td>\n",
       "      <td>1</td>\n",
       "      <td>0</td>\n",
       "      <td>1</td>\n",
       "      <td>NaN</td>\n",
       "      <td>NaN</td>\n",
       "      <td>NaN</td>\n",
       "      <td>13000570CF10A</td>\n",
       "      <td>2013-01-12</td>\n",
       "      <td>NaN</td>\n",
       "      <td>1.0</td>\n",
       "      <td>F</td>\n",
       "      <td>Possession of Cannabis</td>\n",
       "      <td>0</td>\n",
       "      <td>NaN</td>\n",
       "      <td>NaN</td>\n",
       "      <td>NaN</td>\n",
       "      <td>NaN</td>\n",
       "      <td>NaN</td>\n",
       "      <td>NaN</td>\n",
       "      <td>NaN</td>\n",
       "      <td>NaN</td>\n",
       "      <td>0</td>\n",
       "      <td>NaN</td>\n",
       "      <td>NaN</td>\n",
       "      <td>NaN</td>\n",
       "      <td>NaN</td>\n",
       "      <td>Risk of Recidivism</td>\n",
       "      <td>8</td>\n",
       "      <td>High</td>\n",
       "      <td>2013-01-13</td>\n",
       "      <td>Risk of Violence</td>\n",
       "      <td>6</td>\n",
       "      <td>Medium</td>\n",
       "      <td>2013-01-13</td>\n",
       "      <td>NaN</td>\n",
       "      <td>NaN</td>\n",
       "      <td>1</td>\n",
       "      <td>0</td>\n",
       "      <td>1174</td>\n",
       "      <td>0</td>\n",
       "      <td>0</td>\n",
       "      <td>Single</td>\n",
       "    </tr>\n",
       "    <tr>\n",
       "      <th>4</th>\n",
       "      <td>6</td>\n",
       "      <td>4</td>\n",
       "      <td>1</td>\n",
       "      <td>0</td>\n",
       "      <td>1</td>\n",
       "      <td>1</td>\n",
       "      <td>1</td>\n",
       "      <td>0</td>\n",
       "      <td>2</td>\n",
       "      <td>36.0</td>\n",
       "      <td>bouthy pierrelouis</td>\n",
       "      <td>bouthy</td>\n",
       "      <td>pierrelouis</td>\n",
       "      <td>2013-03-26</td>\n",
       "      <td>Male</td>\n",
       "      <td>1973-01-22</td>\n",
       "      <td>43</td>\n",
       "      <td>25 - 45</td>\n",
       "      <td>Other</td>\n",
       "      <td>0</td>\n",
       "      <td>1</td>\n",
       "      <td>0</td>\n",
       "      <td>0</td>\n",
       "      <td>2</td>\n",
       "      <td>NaN</td>\n",
       "      <td>NaN</td>\n",
       "      <td>NaN</td>\n",
       "      <td>12014130CF10A</td>\n",
       "      <td>NaN</td>\n",
       "      <td>2013-01-09</td>\n",
       "      <td>76.0</td>\n",
       "      <td>F</td>\n",
       "      <td>arrest case no charge</td>\n",
       "      <td>0</td>\n",
       "      <td>NaN</td>\n",
       "      <td>NaN</td>\n",
       "      <td>NaN</td>\n",
       "      <td>NaN</td>\n",
       "      <td>NaN</td>\n",
       "      <td>NaN</td>\n",
       "      <td>NaN</td>\n",
       "      <td>NaN</td>\n",
       "      <td>0</td>\n",
       "      <td>NaN</td>\n",
       "      <td>NaN</td>\n",
       "      <td>NaN</td>\n",
       "      <td>NaN</td>\n",
       "      <td>Risk of Recidivism</td>\n",
       "      <td>1</td>\n",
       "      <td>Low</td>\n",
       "      <td>2013-03-26</td>\n",
       "      <td>Risk of Violence</td>\n",
       "      <td>1</td>\n",
       "      <td>Low</td>\n",
       "      <td>2013-03-26</td>\n",
       "      <td>NaN</td>\n",
       "      <td>NaN</td>\n",
       "      <td>2</td>\n",
       "      <td>0</td>\n",
       "      <td>1102</td>\n",
       "      <td>0</td>\n",
       "      <td>0</td>\n",
       "      <td>Married</td>\n",
       "    </tr>\n",
       "  </tbody>\n",
       "</table>\n",
       "</div>"
      ],
      "text/plain": [
       "   id  highest_degree_charged  count_deg_0  count_deg_1  count_deg_2  \\\n",
       "0   1                       3            4            0            1   \n",
       "1   3                       3            0            0            0   \n",
       "2   4                       3            6            3            6   \n",
       "3   5                       3            1            1            2   \n",
       "4   6                       4            1            0            1   \n",
       "\n",
       "   count_deg_3  count_deg_4  count_deg_5  max_charge_incid  ear_charge_age  \\\n",
       "0            1            0            0                 2            62.0   \n",
       "1            1            0            0                 1            31.0   \n",
       "2            4            0            0                 5            17.0   \n",
       "3            1            0            0                 2            14.0   \n",
       "4            1            1            0                 2            36.0   \n",
       "\n",
       "                 name   first         last compas_screening_date   sex  \\\n",
       "0    miguel hernandez  miguel    hernandez            2013-08-14  Male   \n",
       "1         kevon dixon   kevon        dixon            2013-01-27  Male   \n",
       "2            ed philo      ed        philo            2013-04-14  Male   \n",
       "3         marcu brown   marcu        brown            2013-01-13  Male   \n",
       "4  bouthy pierrelouis  bouthy  pierrelouis            2013-03-26  Male   \n",
       "\n",
       "          dob  age          age_cat              race  juv_fel_count  \\\n",
       "0  1947-04-18   69  Greater than 45             Other              0   \n",
       "1  1982-01-22   34          25 - 45  African-American              0   \n",
       "2  1991-05-14   24     Less than 25  African-American              0   \n",
       "3  1993-01-21   23     Less than 25  African-American              0   \n",
       "4  1973-01-22   43          25 - 45             Other              0   \n",
       "\n",
       "   decile_score  juv_misd_count  juv_other_count  priors_count  \\\n",
       "0             1               0                0             0   \n",
       "1             3               0                0             0   \n",
       "2             4               0                1             4   \n",
       "3             8               1                0             1   \n",
       "4             1               0                0             2   \n",
       "\n",
       "   days_b_screening_arrest            c_jail_in           c_jail_out  \\\n",
       "0                     -1.0  2013-08-13 06:03:42  2013-08-14 05:41:20   \n",
       "1                     -1.0  2013-01-26 03:45:27  2013-02-05 05:36:53   \n",
       "2                     -1.0  2013-04-13 04:58:34  2013-04-14 07:02:04   \n",
       "3                      NaN                  NaN                  NaN   \n",
       "4                      NaN                  NaN                  NaN   \n",
       "\n",
       "   c_case_number c_offense_date c_arrest_date  c_days_from_compas  \\\n",
       "0  13011352CF10A     2013-08-13           NaN                 1.0   \n",
       "1  13001275CF10A     2013-01-26           NaN                 1.0   \n",
       "2  13005330CF10A     2013-04-13           NaN                 1.0   \n",
       "3  13000570CF10A     2013-01-12           NaN                 1.0   \n",
       "4  12014130CF10A            NaN    2013-01-09                76.0   \n",
       "\n",
       "  c_charge_degree                   c_charge_desc  is_recid  r_case_number  \\\n",
       "0               F    Aggravated Assault w/Firearm         0            NaN   \n",
       "1               F  Felony Battery w/Prior Convict         1  13009779CF10A   \n",
       "2               F           Possession of Cocaine         1  13011511MM10A   \n",
       "3               F          Possession of Cannabis         0            NaN   \n",
       "4               F           arrest case no charge         0            NaN   \n",
       "\n",
       "  r_charge_degree  r_days_from_arrest r_offense_date  \\\n",
       "0             NaN                 NaN            NaN   \n",
       "1            (F3)                 NaN     2013-07-05   \n",
       "2            (M1)                 0.0     2013-06-16   \n",
       "3             NaN                 NaN            NaN   \n",
       "4             NaN                 NaN            NaN   \n",
       "\n",
       "                 r_charge_desc   r_jail_in  r_jail_out  violent_recid  \\\n",
       "0                          NaN         NaN         NaN            NaN   \n",
       "1  Felony Battery (Dom Strang)         NaN         NaN            NaN   \n",
       "2  Driving Under The Influence  2013-06-16  2013-06-16            NaN   \n",
       "3                          NaN         NaN         NaN            NaN   \n",
       "4                          NaN         NaN         NaN            NaN   \n",
       "\n",
       "   is_violent_recid vr_case_number vr_charge_degree vr_offense_date  \\\n",
       "0                 0            NaN              NaN             NaN   \n",
       "1                 1  13009779CF10A             (F3)      2013-07-05   \n",
       "2                 0            NaN              NaN             NaN   \n",
       "3                 0            NaN              NaN             NaN   \n",
       "4                 0            NaN              NaN             NaN   \n",
       "\n",
       "                vr_charge_desc  type_of_assessment  decile_score.1 score_text  \\\n",
       "0                          NaN  Risk of Recidivism               1        Low   \n",
       "1  Felony Battery (Dom Strang)  Risk of Recidivism               3        Low   \n",
       "2                          NaN  Risk of Recidivism               4        Low   \n",
       "3                          NaN  Risk of Recidivism               8       High   \n",
       "4                          NaN  Risk of Recidivism               1        Low   \n",
       "\n",
       "  screening_date v_type_of_assessment  v_decile_score v_score_text  \\\n",
       "0     2013-08-14     Risk of Violence               1          Low   \n",
       "1     2013-01-27     Risk of Violence               1          Low   \n",
       "2     2013-04-14     Risk of Violence               3          Low   \n",
       "3     2013-01-13     Risk of Violence               6       Medium   \n",
       "4     2013-03-26     Risk of Violence               1          Low   \n",
       "\n",
       "  v_screening_date  in_custody out_custody  priors_count.1  start   end  \\\n",
       "0       2013-08-14  2014-07-07  2014-07-14               0      0   327   \n",
       "1       2013-01-27  2013-01-26  2013-02-05               0      9   159   \n",
       "2       2013-04-14  2013-06-16  2013-06-16               4      0    63   \n",
       "3       2013-01-13         NaN         NaN               1      0  1174   \n",
       "4       2013-03-26         NaN         NaN               2      0  1102   \n",
       "\n",
       "   event  two_year_recid marital_status  \n",
       "0      0               0         Single  \n",
       "1      1               1         Single  \n",
       "2      0               1         Single  \n",
       "3      0               0         Single  \n",
       "4      0               0        Married  "
      ]
     },
     "execution_count": 274,
     "metadata": {},
     "output_type": "execute_result"
    }
   ],
   "source": [
    "df.head()"
   ]
  },
  {
   "cell_type": "code",
   "execution_count": 275,
   "id": "20430681-ec98-4212-be24-7f3ef76f934f",
   "metadata": {},
   "outputs": [
    {
     "data": {
      "text/plain": [
       "<AxesSubplot:xlabel='marital_status', ylabel='count'>"
      ]
     },
     "execution_count": 275,
     "metadata": {},
     "output_type": "execute_result"
    },
    {
     "data": {
      "image/png": "[encoded data removed]",
      "text/plain": [
       "<Figure size 432x288 with 1 Axes>"
      ]
     },
     "metadata": {},
     "output_type": "display_data"
    }
   ],
   "source": [
    "sns.set(font_scale = .7)\n",
    "\n",
    "sns.countplot(x=\"marital_status\", hue =\"two_year_recid\", data= df)"
   ]
  },
  {
   "cell_type": "markdown",
   "id": "27008cd1-3181-4601-827f-4b0598ef3b87",
   "metadata": {},
   "source": [
    "As evident by the bar graph, the the amount of people that recidivised differs between different marital status."
   ]
  },
  {
   "cell_type": "code",
   "execution_count": 276,
   "id": "9d013b6e-eef5-4b36-b87c-c72a9f8dca0b",
   "metadata": {},
   "outputs": [
    {
     "data": {
      "text/plain": [
       "<AxesSubplot:xlabel='highest_degree_charged', ylabel='count'>"
      ]
     },
     "execution_count": 276,
     "metadata": {},
     "output_type": "execute_result"
    },
    {
     "data": {
      "image/png": "[encoded data removed]",
      "text/plain": [
       "<Figure size 432x288 with 1 Axes>"
      ]
     },
     "metadata": {},
     "output_type": "display_data"
    }
   ],
   "source": [
    "# reasoning to drop 0\n",
    "\n",
    "sns.countplot(x=\"highest_degree_charged\", hue =\"two_year_recid\", data= df)\n"
   ]
  },
  {
   "cell_type": "markdown",
   "id": "15a0b5d4-7bb2-41a9-98fb-f778d524645b",
   "metadata": {},
   "source": [
    "Also the amount of people that recidivised changes depending on the highest degree a defendant was charged with."
   ]
  },
  {
   "cell_type": "markdown",
   "id": "3c2d49b0-b966-449c-ba2d-e30917b26ef4",
   "metadata": {
    "jp-MarkdownHeadingCollapsed": true,
    "tags": []
   },
   "source": [
    "### <a name=\"clean\"></a>Final Data Cleaning before modeling"
   ]
  },
  {
   "cell_type": "markdown",
   "id": "ee2f3aa5-3d1a-4e89-a221-5f78d8984988",
   "metadata": {},
   "source": [
    "Since all the relevant data is combined into one dataframe including all predictors needed, we will do some more data cleaning and transforming before the start of the modeling. <br>\n",
    "In these steps we will also reproduce the initial data cleaning by ProPublica; only including people with a highest charging degree of > 0, excluding people with is_recid = -1 and excluding the screening arrest > and < 30 days and when no score_text is given.\n"
   ]
  },
  {
   "cell_type": "code",
   "execution_count": 277,
   "id": "e016ad55-3af2-4c49-b523-9a49fd88c575",
   "metadata": {},
   "outputs": [],
   "source": [
    "# First we exclude all people that have a highest charging degree of only 0, since they are only related to traffic accidents and as such won't be regarded as a misdemeanor or felony\n",
    "\n",
    "df = df[df[\"highest_degree_charged\"] != 0]\n",
    "\n",
    "# we build an additional predictor, counting the total amount of charges throughout all degrees\n",
    "\n",
    "df[\"total_prior_charges\"] = df[[\"count_deg_0\", \"count_deg_1\", \"count_deg_2\", \"count_deg_3\", \"count_deg_4\", \"count_deg_5\"]].sum(axis= 1)\n",
    "\n",
    "# we now exclude also all cases where there is no compas case given at all \n",
    "\n",
    "df = df[df[\"is_recid\"] != -1]"
   ]
  },
  {
   "cell_type": "code",
   "execution_count": 278,
   "id": "ece2af2e-cc2d-413b-b269-91a10b12f653",
   "metadata": {},
   "outputs": [
    {
     "data": {
      "text/html": [
       "<div>\n",
       "<style scoped>\n",
       "    .dataframe tbody tr th:only-of-type {\n",
       "        vertical-align: middle;\n",
       "    }\n",
       "\n",
       "    .dataframe tbody tr th {\n",
       "        vertical-align: top;\n",
       "    }\n",
       "\n",
       "    .dataframe thead th {\n",
       "        text-align: right;\n",
       "    }\n",
       "</style>\n",
       "<table border=\"1\" class=\"dataframe\">\n",
       "  <thead>\n",
       "    <tr style=\"text-align: right;\">\n",
       "      <th></th>\n",
       "      <th>id</th>\n",
       "      <th>highest_degree_charged</th>\n",
       "      <th>count_deg_0</th>\n",
       "      <th>count_deg_1</th>\n",
       "      <th>count_deg_2</th>\n",
       "      <th>count_deg_3</th>\n",
       "      <th>count_deg_4</th>\n",
       "      <th>count_deg_5</th>\n",
       "      <th>max_charge_incid</th>\n",
       "      <th>ear_charge_age</th>\n",
       "      <th>name</th>\n",
       "      <th>first</th>\n",
       "      <th>last</th>\n",
       "      <th>compas_screening_date</th>\n",
       "      <th>sex</th>\n",
       "      <th>dob</th>\n",
       "      <th>age</th>\n",
       "      <th>age_cat</th>\n",
       "      <th>race</th>\n",
       "      <th>juv_fel_count</th>\n",
       "      <th>decile_score</th>\n",
       "      <th>juv_misd_count</th>\n",
       "      <th>juv_other_count</th>\n",
       "      <th>priors_count</th>\n",
       "      <th>days_b_screening_arrest</th>\n",
       "      <th>c_jail_in</th>\n",
       "      <th>c_jail_out</th>\n",
       "      <th>c_case_number</th>\n",
       "      <th>c_offense_date</th>\n",
       "      <th>c_arrest_date</th>\n",
       "      <th>c_days_from_compas</th>\n",
       "      <th>c_charge_degree</th>\n",
       "      <th>c_charge_desc</th>\n",
       "      <th>is_recid</th>\n",
       "      <th>r_case_number</th>\n",
       "      <th>r_charge_degree</th>\n",
       "      <th>r_days_from_arrest</th>\n",
       "      <th>r_offense_date</th>\n",
       "      <th>r_charge_desc</th>\n",
       "      <th>r_jail_in</th>\n",
       "      <th>r_jail_out</th>\n",
       "      <th>violent_recid</th>\n",
       "      <th>is_violent_recid</th>\n",
       "      <th>vr_case_number</th>\n",
       "      <th>vr_charge_degree</th>\n",
       "      <th>vr_offense_date</th>\n",
       "      <th>vr_charge_desc</th>\n",
       "      <th>type_of_assessment</th>\n",
       "      <th>decile_score.1</th>\n",
       "      <th>score_text</th>\n",
       "      <th>screening_date</th>\n",
       "      <th>v_type_of_assessment</th>\n",
       "      <th>v_decile_score</th>\n",
       "      <th>v_score_text</th>\n",
       "      <th>v_screening_date</th>\n",
       "      <th>in_custody</th>\n",
       "      <th>out_custody</th>\n",
       "      <th>priors_count.1</th>\n",
       "      <th>start</th>\n",
       "      <th>end</th>\n",
       "      <th>event</th>\n",
       "      <th>two_year_recid</th>\n",
       "      <th>marital_status</th>\n",
       "      <th>total_prior_charges</th>\n",
       "    </tr>\n",
       "  </thead>\n",
       "  <tbody>\n",
       "    <tr>\n",
       "      <th>0</th>\n",
       "      <td>1</td>\n",
       "      <td>3</td>\n",
       "      <td>4</td>\n",
       "      <td>0</td>\n",
       "      <td>1</td>\n",
       "      <td>1</td>\n",
       "      <td>0</td>\n",
       "      <td>0</td>\n",
       "      <td>2</td>\n",
       "      <td>62.0</td>\n",
       "      <td>miguel hernandez</td>\n",
       "      <td>miguel</td>\n",
       "      <td>hernandez</td>\n",
       "      <td>2013-08-14</td>\n",
       "      <td>Male</td>\n",
       "      <td>1947-04-18</td>\n",
       "      <td>69</td>\n",
       "      <td>Greater than 45</td>\n",
       "      <td>Other</td>\n",
       "      <td>0</td>\n",
       "      <td>1</td>\n",
       "      <td>0</td>\n",
       "      <td>0</td>\n",
       "      <td>0</td>\n",
       "      <td>-1.0</td>\n",
       "      <td>2013-08-13 06:03:42</td>\n",
       "      <td>2013-08-14 05:41:20</td>\n",
       "      <td>13011352CF10A</td>\n",
       "      <td>2013-08-13</td>\n",
       "      <td>NaN</td>\n",
       "      <td>1.0</td>\n",
       "      <td>F</td>\n",
       "      <td>Aggravated Assault w/Firearm</td>\n",
       "      <td>0</td>\n",
       "      <td>NaN</td>\n",
       "      <td>NaN</td>\n",
       "      <td>NaN</td>\n",
       "      <td>NaN</td>\n",
       "      <td>NaN</td>\n",
       "      <td>NaN</td>\n",
       "      <td>NaN</td>\n",
       "      <td>NaN</td>\n",
       "      <td>0</td>\n",
       "      <td>NaN</td>\n",
       "      <td>NaN</td>\n",
       "      <td>NaN</td>\n",
       "      <td>NaN</td>\n",
       "      <td>Risk of Recidivism</td>\n",
       "      <td>1</td>\n",
       "      <td>Low</td>\n",
       "      <td>2013-08-14</td>\n",
       "      <td>Risk of Violence</td>\n",
       "      <td>1</td>\n",
       "      <td>Low</td>\n",
       "      <td>2013-08-14</td>\n",
       "      <td>2014-07-07</td>\n",
       "      <td>2014-07-14</td>\n",
       "      <td>0</td>\n",
       "      <td>0</td>\n",
       "      <td>327</td>\n",
       "      <td>0</td>\n",
       "      <td>0</td>\n",
       "      <td>Single</td>\n",
       "      <td>6</td>\n",
       "    </tr>\n",
       "    <tr>\n",
       "      <th>1</th>\n",
       "      <td>3</td>\n",
       "      <td>3</td>\n",
       "      <td>0</td>\n",
       "      <td>0</td>\n",
       "      <td>0</td>\n",
       "      <td>1</td>\n",
       "      <td>0</td>\n",
       "      <td>0</td>\n",
       "      <td>1</td>\n",
       "      <td>31.0</td>\n",
       "      <td>kevon dixon</td>\n",
       "      <td>kevon</td>\n",
       "      <td>dixon</td>\n",
       "      <td>2013-01-27</td>\n",
       "      <td>Male</td>\n",
       "      <td>1982-01-22</td>\n",
       "      <td>34</td>\n",
       "      <td>25 - 45</td>\n",
       "      <td>African-American</td>\n",
       "      <td>0</td>\n",
       "      <td>3</td>\n",
       "      <td>0</td>\n",
       "      <td>0</td>\n",
       "      <td>0</td>\n",
       "      <td>-1.0</td>\n",
       "      <td>2013-01-26 03:45:27</td>\n",
       "      <td>2013-02-05 05:36:53</td>\n",
       "      <td>13001275CF10A</td>\n",
       "      <td>2013-01-26</td>\n",
       "      <td>NaN</td>\n",
       "      <td>1.0</td>\n",
       "      <td>F</td>\n",
       "      <td>Felony Battery w/Prior Convict</td>\n",
       "      <td>1</td>\n",
       "      <td>13009779CF10A</td>\n",
       "      <td>(F3)</td>\n",
       "      <td>NaN</td>\n",
       "      <td>2013-07-05</td>\n",
       "      <td>Felony Battery (Dom Strang)</td>\n",
       "      <td>NaN</td>\n",
       "      <td>NaN</td>\n",
       "      <td>NaN</td>\n",
       "      <td>1</td>\n",
       "      <td>13009779CF10A</td>\n",
       "      <td>(F3)</td>\n",
       "      <td>2013-07-05</td>\n",
       "      <td>Felony Battery (Dom Strang)</td>\n",
       "      <td>Risk of Recidivism</td>\n",
       "      <td>3</td>\n",
       "      <td>Low</td>\n",
       "      <td>2013-01-27</td>\n",
       "      <td>Risk of Violence</td>\n",
       "      <td>1</td>\n",
       "      <td>Low</td>\n",
       "      <td>2013-01-27</td>\n",
       "      <td>2013-01-26</td>\n",
       "      <td>2013-02-05</td>\n",
       "      <td>0</td>\n",
       "      <td>9</td>\n",
       "      <td>159</td>\n",
       "      <td>1</td>\n",
       "      <td>1</td>\n",
       "      <td>Single</td>\n",
       "      <td>1</td>\n",
       "    </tr>\n",
       "    <tr>\n",
       "      <th>2</th>\n",
       "      <td>4</td>\n",
       "      <td>3</td>\n",
       "      <td>6</td>\n",
       "      <td>3</td>\n",
       "      <td>6</td>\n",
       "      <td>4</td>\n",
       "      <td>0</td>\n",
       "      <td>0</td>\n",
       "      <td>5</td>\n",
       "      <td>17.0</td>\n",
       "      <td>ed philo</td>\n",
       "      <td>ed</td>\n",
       "      <td>philo</td>\n",
       "      <td>2013-04-14</td>\n",
       "      <td>Male</td>\n",
       "      <td>1991-05-14</td>\n",
       "      <td>24</td>\n",
       "      <td>Less than 25</td>\n",
       "      <td>African-American</td>\n",
       "      <td>0</td>\n",
       "      <td>4</td>\n",
       "      <td>0</td>\n",
       "      <td>1</td>\n",
       "      <td>4</td>\n",
       "      <td>-1.0</td>\n",
       "      <td>2013-04-13 04:58:34</td>\n",
       "      <td>2013-04-14 07:02:04</td>\n",
       "      <td>13005330CF10A</td>\n",
       "      <td>2013-04-13</td>\n",
       "      <td>NaN</td>\n",
       "      <td>1.0</td>\n",
       "      <td>F</td>\n",
       "      <td>Possession of Cocaine</td>\n",
       "      <td>1</td>\n",
       "      <td>13011511MM10A</td>\n",
       "      <td>(M1)</td>\n",
       "      <td>0.0</td>\n",
       "      <td>2013-06-16</td>\n",
       "      <td>Driving Under The Influence</td>\n",
       "      <td>2013-06-16</td>\n",
       "      <td>2013-06-16</td>\n",
       "      <td>NaN</td>\n",
       "      <td>0</td>\n",
       "      <td>NaN</td>\n",
       "      <td>NaN</td>\n",
       "      <td>NaN</td>\n",
       "      <td>NaN</td>\n",
       "      <td>Risk of Recidivism</td>\n",
       "      <td>4</td>\n",
       "      <td>Low</td>\n",
       "      <td>2013-04-14</td>\n",
       "      <td>Risk of Violence</td>\n",
       "      <td>3</td>\n",
       "      <td>Low</td>\n",
       "      <td>2013-04-14</td>\n",
       "      <td>2013-06-16</td>\n",
       "      <td>2013-06-16</td>\n",
       "      <td>4</td>\n",
       "      <td>0</td>\n",
       "      <td>63</td>\n",
       "      <td>0</td>\n",
       "      <td>1</td>\n",
       "      <td>Single</td>\n",
       "      <td>19</td>\n",
       "    </tr>\n",
       "    <tr>\n",
       "      <th>3</th>\n",
       "      <td>5</td>\n",
       "      <td>3</td>\n",
       "      <td>1</td>\n",
       "      <td>1</td>\n",
       "      <td>2</td>\n",
       "      <td>1</td>\n",
       "      <td>0</td>\n",
       "      <td>0</td>\n",
       "      <td>2</td>\n",
       "      <td>14.0</td>\n",
       "      <td>marcu brown</td>\n",
       "      <td>marcu</td>\n",
       "      <td>brown</td>\n",
       "      <td>2013-01-13</td>\n",
       "      <td>Male</td>\n",
       "      <td>1993-01-21</td>\n",
       "      <td>23</td>\n",
       "      <td>Less than 25</td>\n",
       "      <td>African-American</td>\n",
       "      <td>0</td>\n",
       "      <td>8</td>\n",
       "      <td>1</td>\n",
       "      <td>0</td>\n",
       "      <td>1</td>\n",
       "      <td>NaN</td>\n",
       "      <td>NaN</td>\n",
       "      <td>NaN</td>\n",
       "      <td>13000570CF10A</td>\n",
       "      <td>2013-01-12</td>\n",
       "      <td>NaN</td>\n",
       "      <td>1.0</td>\n",
       "      <td>F</td>\n",
       "      <td>Possession of Cannabis</td>\n",
       "      <td>0</td>\n",
       "      <td>NaN</td>\n",
       "      <td>NaN</td>\n",
       "      <td>NaN</td>\n",
       "      <td>NaN</td>\n",
       "      <td>NaN</td>\n",
       "      <td>NaN</td>\n",
       "      <td>NaN</td>\n",
       "      <td>NaN</td>\n",
       "      <td>0</td>\n",
       "      <td>NaN</td>\n",
       "      <td>NaN</td>\n",
       "      <td>NaN</td>\n",
       "      <td>NaN</td>\n",
       "      <td>Risk of Recidivism</td>\n",
       "      <td>8</td>\n",
       "      <td>High</td>\n",
       "      <td>2013-01-13</td>\n",
       "      <td>Risk of Violence</td>\n",
       "      <td>6</td>\n",
       "      <td>Medium</td>\n",
       "      <td>2013-01-13</td>\n",
       "      <td>NaN</td>\n",
       "      <td>NaN</td>\n",
       "      <td>1</td>\n",
       "      <td>0</td>\n",
       "      <td>1174</td>\n",
       "      <td>0</td>\n",
       "      <td>0</td>\n",
       "      <td>Single</td>\n",
       "      <td>5</td>\n",
       "    </tr>\n",
       "    <tr>\n",
       "      <th>4</th>\n",
       "      <td>6</td>\n",
       "      <td>4</td>\n",
       "      <td>1</td>\n",
       "      <td>0</td>\n",
       "      <td>1</td>\n",
       "      <td>1</td>\n",
       "      <td>1</td>\n",
       "      <td>0</td>\n",
       "      <td>2</td>\n",
       "      <td>36.0</td>\n",
       "      <td>bouthy pierrelouis</td>\n",
       "      <td>bouthy</td>\n",
       "      <td>pierrelouis</td>\n",
       "      <td>2013-03-26</td>\n",
       "      <td>Male</td>\n",
       "      <td>1973-01-22</td>\n",
       "      <td>43</td>\n",
       "      <td>25 - 45</td>\n",
       "      <td>Other</td>\n",
       "      <td>0</td>\n",
       "      <td>1</td>\n",
       "      <td>0</td>\n",
       "      <td>0</td>\n",
       "      <td>2</td>\n",
       "      <td>NaN</td>\n",
       "      <td>NaN</td>\n",
       "      <td>NaN</td>\n",
       "      <td>12014130CF10A</td>\n",
       "      <td>NaN</td>\n",
       "      <td>2013-01-09</td>\n",
       "      <td>76.0</td>\n",
       "      <td>F</td>\n",
       "      <td>arrest case no charge</td>\n",
       "      <td>0</td>\n",
       "      <td>NaN</td>\n",
       "      <td>NaN</td>\n",
       "      <td>NaN</td>\n",
       "      <td>NaN</td>\n",
       "      <td>NaN</td>\n",
       "      <td>NaN</td>\n",
       "      <td>NaN</td>\n",
       "      <td>NaN</td>\n",
       "      <td>0</td>\n",
       "      <td>NaN</td>\n",
       "      <td>NaN</td>\n",
       "      <td>NaN</td>\n",
       "      <td>NaN</td>\n",
       "      <td>Risk of Recidivism</td>\n",
       "      <td>1</td>\n",
       "      <td>Low</td>\n",
       "      <td>2013-03-26</td>\n",
       "      <td>Risk of Violence</td>\n",
       "      <td>1</td>\n",
       "      <td>Low</td>\n",
       "      <td>2013-03-26</td>\n",
       "      <td>NaN</td>\n",
       "      <td>NaN</td>\n",
       "      <td>2</td>\n",
       "      <td>0</td>\n",
       "      <td>1102</td>\n",
       "      <td>0</td>\n",
       "      <td>0</td>\n",
       "      <td>Married</td>\n",
       "      <td>4</td>\n",
       "    </tr>\n",
       "    <tr>\n",
       "      <th>5</th>\n",
       "      <td>7</td>\n",
       "      <td>2</td>\n",
       "      <td>0</td>\n",
       "      <td>0</td>\n",
       "      <td>1</td>\n",
       "      <td>0</td>\n",
       "      <td>0</td>\n",
       "      <td>0</td>\n",
       "      <td>1</td>\n",
       "      <td>42.0</td>\n",
       "      <td>marsha miles</td>\n",
       "      <td>marsha</td>\n",
       "      <td>miles</td>\n",
       "      <td>2013-11-30</td>\n",
       "      <td>Male</td>\n",
       "      <td>1971-08-22</td>\n",
       "      <td>44</td>\n",
       "      <td>25 - 45</td>\n",
       "      <td>Other</td>\n",
       "      <td>0</td>\n",
       "      <td>1</td>\n",
       "      <td>0</td>\n",
       "      <td>0</td>\n",
       "      <td>0</td>\n",
       "      <td>0.0</td>\n",
       "      <td>2013-11-30 04:50:18</td>\n",
       "      <td>2013-12-01 12:28:56</td>\n",
       "      <td>13022355MM10A</td>\n",
       "      <td>2013-11-30</td>\n",
       "      <td>NaN</td>\n",
       "      <td>0.0</td>\n",
       "      <td>M</td>\n",
       "      <td>Battery</td>\n",
       "      <td>0</td>\n",
       "      <td>NaN</td>\n",
       "      <td>NaN</td>\n",
       "      <td>NaN</td>\n",
       "      <td>NaN</td>\n",
       "      <td>NaN</td>\n",
       "      <td>NaN</td>\n",
       "      <td>NaN</td>\n",
       "      <td>NaN</td>\n",
       "      <td>0</td>\n",
       "      <td>NaN</td>\n",
       "      <td>NaN</td>\n",
       "      <td>NaN</td>\n",
       "      <td>NaN</td>\n",
       "      <td>Risk of Recidivism</td>\n",
       "      <td>1</td>\n",
       "      <td>Low</td>\n",
       "      <td>2013-11-30</td>\n",
       "      <td>Risk of Violence</td>\n",
       "      <td>1</td>\n",
       "      <td>Low</td>\n",
       "      <td>2013-11-30</td>\n",
       "      <td>2013-11-30</td>\n",
       "      <td>2013-12-01</td>\n",
       "      <td>0</td>\n",
       "      <td>1</td>\n",
       "      <td>853</td>\n",
       "      <td>0</td>\n",
       "      <td>0</td>\n",
       "      <td>Separated</td>\n",
       "      <td>1</td>\n",
       "    </tr>\n",
       "    <tr>\n",
       "      <th>6</th>\n",
       "      <td>8</td>\n",
       "      <td>4</td>\n",
       "      <td>4</td>\n",
       "      <td>3</td>\n",
       "      <td>4</td>\n",
       "      <td>13</td>\n",
       "      <td>3</td>\n",
       "      <td>0</td>\n",
       "      <td>4</td>\n",
       "      <td>19.0</td>\n",
       "      <td>edward riddle</td>\n",
       "      <td>edward</td>\n",
       "      <td>riddle</td>\n",
       "      <td>2014-02-19</td>\n",
       "      <td>Male</td>\n",
       "      <td>1974-07-23</td>\n",
       "      <td>41</td>\n",
       "      <td>25 - 45</td>\n",
       "      <td>Caucasian</td>\n",
       "      <td>0</td>\n",
       "      <td>6</td>\n",
       "      <td>0</td>\n",
       "      <td>0</td>\n",
       "      <td>14</td>\n",
       "      <td>-1.0</td>\n",
       "      <td>2014-02-18 05:08:24</td>\n",
       "      <td>2014-02-24 12:18:30</td>\n",
       "      <td>14002304CF10A</td>\n",
       "      <td>2014-02-18</td>\n",
       "      <td>NaN</td>\n",
       "      <td>1.0</td>\n",
       "      <td>F</td>\n",
       "      <td>Possession Burglary Tools</td>\n",
       "      <td>1</td>\n",
       "      <td>14004485CF10A</td>\n",
       "      <td>(F2)</td>\n",
       "      <td>0.0</td>\n",
       "      <td>2014-03-31</td>\n",
       "      <td>Poss of Firearm by Convic Felo</td>\n",
       "      <td>2014-03-31</td>\n",
       "      <td>2014-04-18</td>\n",
       "      <td>NaN</td>\n",
       "      <td>0</td>\n",
       "      <td>NaN</td>\n",
       "      <td>NaN</td>\n",
       "      <td>NaN</td>\n",
       "      <td>NaN</td>\n",
       "      <td>Risk of Recidivism</td>\n",
       "      <td>6</td>\n",
       "      <td>Medium</td>\n",
       "      <td>2014-02-19</td>\n",
       "      <td>Risk of Violence</td>\n",
       "      <td>2</td>\n",
       "      <td>Low</td>\n",
       "      <td>2014-02-19</td>\n",
       "      <td>2014-03-31</td>\n",
       "      <td>2014-04-18</td>\n",
       "      <td>14</td>\n",
       "      <td>5</td>\n",
       "      <td>40</td>\n",
       "      <td>1</td>\n",
       "      <td>1</td>\n",
       "      <td>Single</td>\n",
       "      <td>27</td>\n",
       "    </tr>\n",
       "    <tr>\n",
       "      <th>7</th>\n",
       "      <td>9</td>\n",
       "      <td>4</td>\n",
       "      <td>9</td>\n",
       "      <td>3</td>\n",
       "      <td>1</td>\n",
       "      <td>2</td>\n",
       "      <td>1</td>\n",
       "      <td>0</td>\n",
       "      <td>2</td>\n",
       "      <td>29.0</td>\n",
       "      <td>steven stewart</td>\n",
       "      <td>steven</td>\n",
       "      <td>stewart</td>\n",
       "      <td>2013-08-30</td>\n",
       "      <td>Male</td>\n",
       "      <td>1973-02-25</td>\n",
       "      <td>43</td>\n",
       "      <td>25 - 45</td>\n",
       "      <td>Other</td>\n",
       "      <td>0</td>\n",
       "      <td>4</td>\n",
       "      <td>0</td>\n",
       "      <td>0</td>\n",
       "      <td>3</td>\n",
       "      <td>-1.0</td>\n",
       "      <td>2013-08-29 08:55:23</td>\n",
       "      <td>2013-08-30 08:42:13</td>\n",
       "      <td>13012216CF10A</td>\n",
       "      <td>NaN</td>\n",
       "      <td>2013-08-29</td>\n",
       "      <td>1.0</td>\n",
       "      <td>F</td>\n",
       "      <td>arrest case no charge</td>\n",
       "      <td>0</td>\n",
       "      <td>NaN</td>\n",
       "      <td>NaN</td>\n",
       "      <td>NaN</td>\n",
       "      <td>NaN</td>\n",
       "      <td>NaN</td>\n",
       "      <td>NaN</td>\n",
       "      <td>NaN</td>\n",
       "      <td>NaN</td>\n",
       "      <td>0</td>\n",
       "      <td>NaN</td>\n",
       "      <td>NaN</td>\n",
       "      <td>NaN</td>\n",
       "      <td>NaN</td>\n",
       "      <td>Risk of Recidivism</td>\n",
       "      <td>4</td>\n",
       "      <td>Low</td>\n",
       "      <td>2013-08-30</td>\n",
       "      <td>Risk of Violence</td>\n",
       "      <td>3</td>\n",
       "      <td>Low</td>\n",
       "      <td>2013-08-30</td>\n",
       "      <td>2014-05-22</td>\n",
       "      <td>2014-06-03</td>\n",
       "      <td>3</td>\n",
       "      <td>0</td>\n",
       "      <td>265</td>\n",
       "      <td>0</td>\n",
       "      <td>0</td>\n",
       "      <td>Married</td>\n",
       "      <td>16</td>\n",
       "    </tr>\n",
       "    <tr>\n",
       "      <th>8</th>\n",
       "      <td>10</td>\n",
       "      <td>2</td>\n",
       "      <td>0</td>\n",
       "      <td>0</td>\n",
       "      <td>1</td>\n",
       "      <td>0</td>\n",
       "      <td>0</td>\n",
       "      <td>0</td>\n",
       "      <td>1</td>\n",
       "      <td>37.0</td>\n",
       "      <td>elizabeth thieme</td>\n",
       "      <td>elizabeth</td>\n",
       "      <td>thieme</td>\n",
       "      <td>2014-03-16</td>\n",
       "      <td>Female</td>\n",
       "      <td>1976-06-03</td>\n",
       "      <td>39</td>\n",
       "      <td>25 - 45</td>\n",
       "      <td>Caucasian</td>\n",
       "      <td>0</td>\n",
       "      <td>1</td>\n",
       "      <td>0</td>\n",
       "      <td>0</td>\n",
       "      <td>0</td>\n",
       "      <td>-1.0</td>\n",
       "      <td>2014-03-15 05:35:34</td>\n",
       "      <td>2014-03-18 04:28:46</td>\n",
       "      <td>14004524MM10A</td>\n",
       "      <td>2014-03-15</td>\n",
       "      <td>NaN</td>\n",
       "      <td>1.0</td>\n",
       "      <td>M</td>\n",
       "      <td>Battery</td>\n",
       "      <td>0</td>\n",
       "      <td>NaN</td>\n",
       "      <td>NaN</td>\n",
       "      <td>NaN</td>\n",
       "      <td>NaN</td>\n",
       "      <td>NaN</td>\n",
       "      <td>NaN</td>\n",
       "      <td>NaN</td>\n",
       "      <td>NaN</td>\n",
       "      <td>0</td>\n",
       "      <td>NaN</td>\n",
       "      <td>NaN</td>\n",
       "      <td>NaN</td>\n",
       "      <td>NaN</td>\n",
       "      <td>Risk of Recidivism</td>\n",
       "      <td>1</td>\n",
       "      <td>Low</td>\n",
       "      <td>2014-03-16</td>\n",
       "      <td>Risk of Violence</td>\n",
       "      <td>1</td>\n",
       "      <td>Low</td>\n",
       "      <td>2014-03-16</td>\n",
       "      <td>2014-03-15</td>\n",
       "      <td>2014-03-18</td>\n",
       "      <td>0</td>\n",
       "      <td>2</td>\n",
       "      <td>747</td>\n",
       "      <td>0</td>\n",
       "      <td>0</td>\n",
       "      <td>Single</td>\n",
       "      <td>1</td>\n",
       "    </tr>\n",
       "    <tr>\n",
       "      <th>9</th>\n",
       "      <td>13</td>\n",
       "      <td>4</td>\n",
       "      <td>3</td>\n",
       "      <td>1</td>\n",
       "      <td>0</td>\n",
       "      <td>0</td>\n",
       "      <td>1</td>\n",
       "      <td>0</td>\n",
       "      <td>3</td>\n",
       "      <td>18.0</td>\n",
       "      <td>bo bradac</td>\n",
       "      <td>bo</td>\n",
       "      <td>bradac</td>\n",
       "      <td>2013-11-04</td>\n",
       "      <td>Male</td>\n",
       "      <td>1994-06-10</td>\n",
       "      <td>21</td>\n",
       "      <td>Less than 25</td>\n",
       "      <td>Caucasian</td>\n",
       "      <td>0</td>\n",
       "      <td>3</td>\n",
       "      <td>0</td>\n",
       "      <td>0</td>\n",
       "      <td>1</td>\n",
       "      <td>428.0</td>\n",
       "      <td>2015-01-06 03:55:34</td>\n",
       "      <td>2015-01-07 03:38:44</td>\n",
       "      <td>13000017CF10A</td>\n",
       "      <td>2012-12-31</td>\n",
       "      <td>NaN</td>\n",
       "      <td>308.0</td>\n",
       "      <td>F</td>\n",
       "      <td>Insurance Fraud</td>\n",
       "      <td>1</td>\n",
       "      <td>15002891MM10A</td>\n",
       "      <td>(M1)</td>\n",
       "      <td>0.0</td>\n",
       "      <td>2015-01-06</td>\n",
       "      <td>Battery</td>\n",
       "      <td>2015-01-06</td>\n",
       "      <td>2015-01-07</td>\n",
       "      <td>NaN</td>\n",
       "      <td>1</td>\n",
       "      <td>15000258CF10A</td>\n",
       "      <td>(F2)</td>\n",
       "      <td>2015-01-06</td>\n",
       "      <td>Aggrav Battery w/Deadly Weapon</td>\n",
       "      <td>Risk of Recidivism</td>\n",
       "      <td>3</td>\n",
       "      <td>Low</td>\n",
       "      <td>2013-11-04</td>\n",
       "      <td>Risk of Violence</td>\n",
       "      <td>5</td>\n",
       "      <td>Medium</td>\n",
       "      <td>2013-11-04</td>\n",
       "      <td>2015-01-06</td>\n",
       "      <td>2015-01-07</td>\n",
       "      <td>1</td>\n",
       "      <td>0</td>\n",
       "      <td>428</td>\n",
       "      <td>1</td>\n",
       "      <td>1</td>\n",
       "      <td>Single</td>\n",
       "      <td>5</td>\n",
       "    </tr>\n",
       "  </tbody>\n",
       "</table>\n",
       "</div>"
      ],
      "text/plain": [
       "   id  highest_degree_charged  count_deg_0  count_deg_1  count_deg_2  \\\n",
       "0   1                       3            4            0            1   \n",
       "1   3                       3            0            0            0   \n",
       "2   4                       3            6            3            6   \n",
       "3   5                       3            1            1            2   \n",
       "4   6                       4            1            0            1   \n",
       "5   7                       2            0            0            1   \n",
       "6   8                       4            4            3            4   \n",
       "7   9                       4            9            3            1   \n",
       "8  10                       2            0            0            1   \n",
       "9  13                       4            3            1            0   \n",
       "\n",
       "   count_deg_3  count_deg_4  count_deg_5  max_charge_incid  ear_charge_age  \\\n",
       "0            1            0            0                 2            62.0   \n",
       "1            1            0            0                 1            31.0   \n",
       "2            4            0            0                 5            17.0   \n",
       "3            1            0            0                 2            14.0   \n",
       "4            1            1            0                 2            36.0   \n",
       "5            0            0            0                 1            42.0   \n",
       "6           13            3            0                 4            19.0   \n",
       "7            2            1            0                 2            29.0   \n",
       "8            0            0            0                 1            37.0   \n",
       "9            0            1            0                 3            18.0   \n",
       "\n",
       "                 name      first         last compas_screening_date     sex  \\\n",
       "0    miguel hernandez     miguel    hernandez            2013-08-14    Male   \n",
       "1         kevon dixon      kevon        dixon            2013-01-27    Male   \n",
       "2            ed philo         ed        philo            2013-04-14    Male   \n",
       "3         marcu brown      marcu        brown            2013-01-13    Male   \n",
       "4  bouthy pierrelouis     bouthy  pierrelouis            2013-03-26    Male   \n",
       "5        marsha miles     marsha        miles            2013-11-30    Male   \n",
       "6       edward riddle     edward       riddle            2014-02-19    Male   \n",
       "7      steven stewart     steven      stewart            2013-08-30    Male   \n",
       "8    elizabeth thieme  elizabeth       thieme            2014-03-16  Female   \n",
       "9           bo bradac         bo       bradac            2013-11-04    Male   \n",
       "\n",
       "          dob  age          age_cat              race  juv_fel_count  \\\n",
       "0  1947-04-18   69  Greater than 45             Other              0   \n",
       "1  1982-01-22   34          25 - 45  African-American              0   \n",
       "2  1991-05-14   24     Less than 25  African-American              0   \n",
       "3  1993-01-21   23     Less than 25  African-American              0   \n",
       "4  1973-01-22   43          25 - 45             Other              0   \n",
       "5  1971-08-22   44          25 - 45             Other              0   \n",
       "6  1974-07-23   41          25 - 45         Caucasian              0   \n",
       "7  1973-02-25   43          25 - 45             Other              0   \n",
       "8  1976-06-03   39          25 - 45         Caucasian              0   \n",
       "9  1994-06-10   21     Less than 25         Caucasian              0   \n",
       "\n",
       "   decile_score  juv_misd_count  juv_other_count  priors_count  \\\n",
       "0             1               0                0             0   \n",
       "1             3               0                0             0   \n",
       "2             4               0                1             4   \n",
       "3             8               1                0             1   \n",
       "4             1               0                0             2   \n",
       "5             1               0                0             0   \n",
       "6             6               0                0            14   \n",
       "7             4               0                0             3   \n",
       "8             1               0                0             0   \n",
       "9             3               0                0             1   \n",
       "\n",
       "   days_b_screening_arrest            c_jail_in           c_jail_out  \\\n",
       "0                     -1.0  2013-08-13 06:03:42  2013-08-14 05:41:20   \n",
       "1                     -1.0  2013-01-26 03:45:27  2013-02-05 05:36:53   \n",
       "2                     -1.0  2013-04-13 04:58:34  2013-04-14 07:02:04   \n",
       "3                      NaN                  NaN                  NaN   \n",
       "4                      NaN                  NaN                  NaN   \n",
       "5                      0.0  2013-11-30 04:50:18  2013-12-01 12:28:56   \n",
       "6                     -1.0  2014-02-18 05:08:24  2014-02-24 12:18:30   \n",
       "7                     -1.0  2013-08-29 08:55:23  2013-08-30 08:42:13   \n",
       "8                     -1.0  2014-03-15 05:35:34  2014-03-18 04:28:46   \n",
       "9                    428.0  2015-01-06 03:55:34  2015-01-07 03:38:44   \n",
       "\n",
       "   c_case_number c_offense_date c_arrest_date  c_days_from_compas  \\\n",
       "0  13011352CF10A     2013-08-13           NaN                 1.0   \n",
       "1  13001275CF10A     2013-01-26           NaN                 1.0   \n",
       "2  13005330CF10A     2013-04-13           NaN                 1.0   \n",
       "3  13000570CF10A     2013-01-12           NaN                 1.0   \n",
       "4  12014130CF10A            NaN    2013-01-09                76.0   \n",
       "5  13022355MM10A     2013-11-30           NaN                 0.0   \n",
       "6  14002304CF10A     2014-02-18           NaN                 1.0   \n",
       "7  13012216CF10A            NaN    2013-08-29                 1.0   \n",
       "8  14004524MM10A     2014-03-15           NaN                 1.0   \n",
       "9  13000017CF10A     2012-12-31           NaN               308.0   \n",
       "\n",
       "  c_charge_degree                   c_charge_desc  is_recid  r_case_number  \\\n",
       "0               F    Aggravated Assault w/Firearm         0            NaN   \n",
       "1               F  Felony Battery w/Prior Convict         1  13009779CF10A   \n",
       "2               F           Possession of Cocaine         1  13011511MM10A   \n",
       "3               F          Possession of Cannabis         0            NaN   \n",
       "4               F           arrest case no charge         0            NaN   \n",
       "5               M                         Battery         0            NaN   \n",
       "6               F       Possession Burglary Tools         1  14004485CF10A   \n",
       "7               F           arrest case no charge         0            NaN   \n",
       "8               M                         Battery         0            NaN   \n",
       "9               F                 Insurance Fraud         1  15002891MM10A   \n",
       "\n",
       "  r_charge_degree  r_days_from_arrest r_offense_date  \\\n",
       "0             NaN                 NaN            NaN   \n",
       "1            (F3)                 NaN     2013-07-05   \n",
       "2            (M1)                 0.0     2013-06-16   \n",
       "3             NaN                 NaN            NaN   \n",
       "4             NaN                 NaN            NaN   \n",
       "5             NaN                 NaN            NaN   \n",
       "6            (F2)                 0.0     2014-03-31   \n",
       "7             NaN                 NaN            NaN   \n",
       "8             NaN                 NaN            NaN   \n",
       "9            (M1)                 0.0     2015-01-06   \n",
       "\n",
       "                    r_charge_desc   r_jail_in  r_jail_out  violent_recid  \\\n",
       "0                             NaN         NaN         NaN            NaN   \n",
       "1     Felony Battery (Dom Strang)         NaN         NaN            NaN   \n",
       "2     Driving Under The Influence  2013-06-16  2013-06-16            NaN   \n",
       "3                             NaN         NaN         NaN            NaN   \n",
       "4                             NaN         NaN         NaN            NaN   \n",
       "5                             NaN         NaN         NaN            NaN   \n",
       "6  Poss of Firearm by Convic Felo  2014-03-31  2014-04-18            NaN   \n",
       "7                             NaN         NaN         NaN            NaN   \n",
       "8                             NaN         NaN         NaN            NaN   \n",
       "9                         Battery  2015-01-06  2015-01-07            NaN   \n",
       "\n",
       "   is_violent_recid vr_case_number vr_charge_degree vr_offense_date  \\\n",
       "0                 0            NaN              NaN             NaN   \n",
       "1                 1  13009779CF10A             (F3)      2013-07-05   \n",
       "2                 0            NaN              NaN             NaN   \n",
       "3                 0            NaN              NaN             NaN   \n",
       "4                 0            NaN              NaN             NaN   \n",
       "5                 0            NaN              NaN             NaN   \n",
       "6                 0            NaN              NaN             NaN   \n",
       "7                 0            NaN              NaN             NaN   \n",
       "8                 0            NaN              NaN             NaN   \n",
       "9                 1  15000258CF10A             (F2)      2015-01-06   \n",
       "\n",
       "                   vr_charge_desc  type_of_assessment  decile_score.1  \\\n",
       "0                             NaN  Risk of Recidivism               1   \n",
       "1     Felony Battery (Dom Strang)  Risk of Recidivism               3   \n",
       "2                             NaN  Risk of Recidivism               4   \n",
       "3                             NaN  Risk of Recidivism               8   \n",
       "4                             NaN  Risk of Recidivism               1   \n",
       "5                             NaN  Risk of Recidivism               1   \n",
       "6                             NaN  Risk of Recidivism               6   \n",
       "7                             NaN  Risk of Recidivism               4   \n",
       "8                             NaN  Risk of Recidivism               1   \n",
       "9  Aggrav Battery w/Deadly Weapon  Risk of Recidivism               3   \n",
       "\n",
       "  score_text screening_date v_type_of_assessment  v_decile_score v_score_text  \\\n",
       "0        Low     2013-08-14     Risk of Violence               1          Low   \n",
       "1        Low     2013-01-27     Risk of Violence               1          Low   \n",
       "2        Low     2013-04-14     Risk of Violence               3          Low   \n",
       "3       High     2013-01-13     Risk of Violence               6       Medium   \n",
       "4        Low     2013-03-26     Risk of Violence               1          Low   \n",
       "5        Low     2013-11-30     Risk of Violence               1          Low   \n",
       "6     Medium     2014-02-19     Risk of Violence               2          Low   \n",
       "7        Low     2013-08-30     Risk of Violence               3          Low   \n",
       "8        Low     2014-03-16     Risk of Violence               1          Low   \n",
       "9        Low     2013-11-04     Risk of Violence               5       Medium   \n",
       "\n",
       "  v_screening_date  in_custody out_custody  priors_count.1  start   end  \\\n",
       "0       2013-08-14  2014-07-07  2014-07-14               0      0   327   \n",
       "1       2013-01-27  2013-01-26  2013-02-05               0      9   159   \n",
       "2       2013-04-14  2013-06-16  2013-06-16               4      0    63   \n",
       "3       2013-01-13         NaN         NaN               1      0  1174   \n",
       "4       2013-03-26         NaN         NaN               2      0  1102   \n",
       "5       2013-11-30  2013-11-30  2013-12-01               0      1   853   \n",
       "6       2014-02-19  2014-03-31  2014-04-18              14      5    40   \n",
       "7       2013-08-30  2014-05-22  2014-06-03               3      0   265   \n",
       "8       2014-03-16  2014-03-15  2014-03-18               0      2   747   \n",
       "9       2013-11-04  2015-01-06  2015-01-07               1      0   428   \n",
       "\n",
       "   event  two_year_recid marital_status  total_prior_charges  \n",
       "0      0               0         Single                    6  \n",
       "1      1               1         Single                    1  \n",
       "2      0               1         Single                   19  \n",
       "3      0               0         Single                    5  \n",
       "4      0               0        Married                    4  \n",
       "5      0               0      Separated                    1  \n",
       "6      1               1         Single                   27  \n",
       "7      0               0        Married                   16  \n",
       "8      0               0         Single                    1  \n",
       "9      1               1         Single                    5  "
      ]
     },
     "execution_count": 278,
     "metadata": {},
     "output_type": "execute_result"
    }
   ],
   "source": [
    "df.head(10)"
   ]
  },
  {
   "cell_type": "code",
   "execution_count": 279,
   "id": "71f12e20-418b-4e30-8e80-0f01484b859a",
   "metadata": {},
   "outputs": [],
   "source": [
    "# we now apply the steps of data cleaning such as propublica\n",
    "\n",
    "df = (df\n",
    "      .query('days_b_screening_arrest <= 30 & days_b_screening_arrest >= -30')\n",
    "      .query('score_text != \"N/A\"')\n",
    "     )"
   ]
  },
  {
   "cell_type": "markdown",
   "id": "dda1c85a-752f-4fe5-910e-8d66ad2b381c",
   "metadata": {},
   "source": [
    "We now subset the columns to only include the features that we want for our model."
   ]
  },
  {
   "cell_type": "code",
   "execution_count": 280,
   "id": "09a659af-352f-48cc-b2c4-1f15c7ace99b",
   "metadata": {},
   "outputs": [
    {
     "data": {
      "text/html": [
       "<div>\n",
       "<style scoped>\n",
       "    .dataframe tbody tr th:only-of-type {\n",
       "        vertical-align: middle;\n",
       "    }\n",
       "\n",
       "    .dataframe tbody tr th {\n",
       "        vertical-align: top;\n",
       "    }\n",
       "\n",
       "    .dataframe thead th {\n",
       "        text-align: right;\n",
       "    }\n",
       "</style>\n",
       "<table border=\"1\" class=\"dataframe\">\n",
       "  <thead>\n",
       "    <tr style=\"text-align: right;\">\n",
       "      <th></th>\n",
       "      <th>is_recid</th>\n",
       "      <th>is_violent_recid</th>\n",
       "      <th>sex</th>\n",
       "      <th>race</th>\n",
       "      <th>age</th>\n",
       "      <th>juv_fel_count</th>\n",
       "      <th>juv_misd_count</th>\n",
       "      <th>juv_other_count</th>\n",
       "      <th>marital_status</th>\n",
       "      <th>highest_degree_charged</th>\n",
       "      <th>count_deg_0</th>\n",
       "      <th>count_deg_1</th>\n",
       "      <th>count_deg_2</th>\n",
       "      <th>count_deg_3</th>\n",
       "      <th>count_deg_4</th>\n",
       "      <th>count_deg_5</th>\n",
       "      <th>total_prior_charges</th>\n",
       "      <th>max_charge_incid</th>\n",
       "      <th>ear_charge_age</th>\n",
       "      <th>two_year_recid</th>\n",
       "    </tr>\n",
       "  </thead>\n",
       "  <tbody>\n",
       "    <tr>\n",
       "      <th>0</th>\n",
       "      <td>0</td>\n",
       "      <td>0</td>\n",
       "      <td>Male</td>\n",
       "      <td>Other</td>\n",
       "      <td>69</td>\n",
       "      <td>0</td>\n",
       "      <td>0</td>\n",
       "      <td>0</td>\n",
       "      <td>Single</td>\n",
       "      <td>3</td>\n",
       "      <td>4</td>\n",
       "      <td>0</td>\n",
       "      <td>1</td>\n",
       "      <td>1</td>\n",
       "      <td>0</td>\n",
       "      <td>0</td>\n",
       "      <td>6</td>\n",
       "      <td>2</td>\n",
       "      <td>62.0</td>\n",
       "      <td>0</td>\n",
       "    </tr>\n",
       "    <tr>\n",
       "      <th>1</th>\n",
       "      <td>1</td>\n",
       "      <td>1</td>\n",
       "      <td>Male</td>\n",
       "      <td>African-American</td>\n",
       "      <td>34</td>\n",
       "      <td>0</td>\n",
       "      <td>0</td>\n",
       "      <td>0</td>\n",
       "      <td>Single</td>\n",
       "      <td>3</td>\n",
       "      <td>0</td>\n",
       "      <td>0</td>\n",
       "      <td>0</td>\n",
       "      <td>1</td>\n",
       "      <td>0</td>\n",
       "      <td>0</td>\n",
       "      <td>1</td>\n",
       "      <td>1</td>\n",
       "      <td>31.0</td>\n",
       "      <td>1</td>\n",
       "    </tr>\n",
       "    <tr>\n",
       "      <th>2</th>\n",
       "      <td>1</td>\n",
       "      <td>0</td>\n",
       "      <td>Male</td>\n",
       "      <td>African-American</td>\n",
       "      <td>24</td>\n",
       "      <td>0</td>\n",
       "      <td>0</td>\n",
       "      <td>1</td>\n",
       "      <td>Single</td>\n",
       "      <td>3</td>\n",
       "      <td>6</td>\n",
       "      <td>3</td>\n",
       "      <td>6</td>\n",
       "      <td>4</td>\n",
       "      <td>0</td>\n",
       "      <td>0</td>\n",
       "      <td>19</td>\n",
       "      <td>5</td>\n",
       "      <td>17.0</td>\n",
       "      <td>1</td>\n",
       "    </tr>\n",
       "    <tr>\n",
       "      <th>5</th>\n",
       "      <td>0</td>\n",
       "      <td>0</td>\n",
       "      <td>Male</td>\n",
       "      <td>Other</td>\n",
       "      <td>44</td>\n",
       "      <td>0</td>\n",
       "      <td>0</td>\n",
       "      <td>0</td>\n",
       "      <td>Separated</td>\n",
       "      <td>2</td>\n",
       "      <td>0</td>\n",
       "      <td>0</td>\n",
       "      <td>1</td>\n",
       "      <td>0</td>\n",
       "      <td>0</td>\n",
       "      <td>0</td>\n",
       "      <td>1</td>\n",
       "      <td>1</td>\n",
       "      <td>42.0</td>\n",
       "      <td>0</td>\n",
       "    </tr>\n",
       "    <tr>\n",
       "      <th>6</th>\n",
       "      <td>1</td>\n",
       "      <td>0</td>\n",
       "      <td>Male</td>\n",
       "      <td>Caucasian</td>\n",
       "      <td>41</td>\n",
       "      <td>0</td>\n",
       "      <td>0</td>\n",
       "      <td>0</td>\n",
       "      <td>Single</td>\n",
       "      <td>4</td>\n",
       "      <td>4</td>\n",
       "      <td>3</td>\n",
       "      <td>4</td>\n",
       "      <td>13</td>\n",
       "      <td>3</td>\n",
       "      <td>0</td>\n",
       "      <td>27</td>\n",
       "      <td>4</td>\n",
       "      <td>19.0</td>\n",
       "      <td>1</td>\n",
       "    </tr>\n",
       "  </tbody>\n",
       "</table>\n",
       "</div>"
      ],
      "text/plain": [
       "   is_recid  is_violent_recid   sex              race  age  juv_fel_count  \\\n",
       "0         0                 0  Male             Other   69              0   \n",
       "1         1                 1  Male  African-American   34              0   \n",
       "2         1                 0  Male  African-American   24              0   \n",
       "5         0                 0  Male             Other   44              0   \n",
       "6         1                 0  Male         Caucasian   41              0   \n",
       "\n",
       "   juv_misd_count  juv_other_count marital_status  highest_degree_charged  \\\n",
       "0               0                0         Single                       3   \n",
       "1               0                0         Single                       3   \n",
       "2               0                1         Single                       3   \n",
       "5               0                0      Separated                       2   \n",
       "6               0                0         Single                       4   \n",
       "\n",
       "   count_deg_0  count_deg_1  count_deg_2  count_deg_3  count_deg_4  \\\n",
       "0            4            0            1            1            0   \n",
       "1            0            0            0            1            0   \n",
       "2            6            3            6            4            0   \n",
       "5            0            0            1            0            0   \n",
       "6            4            3            4           13            3   \n",
       "\n",
       "   count_deg_5  total_prior_charges  max_charge_incid  ear_charge_age  \\\n",
       "0            0                    6                 2            62.0   \n",
       "1            0                    1                 1            31.0   \n",
       "2            0                   19                 5            17.0   \n",
       "5            0                    1                 1            42.0   \n",
       "6            0                   27                 4            19.0   \n",
       "\n",
       "   two_year_recid  \n",
       "0               0  \n",
       "1               1  \n",
       "2               1  \n",
       "5               0  \n",
       "6               1  "
      ]
     },
     "execution_count": 280,
     "metadata": {},
     "output_type": "execute_result"
    }
   ],
   "source": [
    "# we now subset only the columns we will use as a predictor and target \n",
    "\n",
    "df = df[[\"is_recid\", \n",
    "              \"is_violent_recid\", \n",
    "              \"sex\", \n",
    "              \"race\", \n",
    "              \"age\",\n",
    "              \"juv_fel_count\", \n",
    "              \"juv_misd_count\", \n",
    "              \"juv_other_count\",  \n",
    "              \"marital_status\", \n",
    "              \"highest_degree_charged\", \n",
    "              \"count_deg_0\",\n",
    "              \"count_deg_1\",\n",
    "              \"count_deg_2\",\n",
    "              \"count_deg_3\", \n",
    "              \"count_deg_4\", \n",
    "              \"count_deg_5\",\n",
    "              \"total_prior_charges\",\n",
    "              \"max_charge_incid\",\n",
    "              \"ear_charge_age\",\n",
    "              \"two_year_recid\"]]\n",
    "\n",
    "df.head(5)"
   ]
  },
  {
   "cell_type": "code",
   "execution_count": 281,
   "id": "584483cf-380b-47fe-8820-5f38ceff24ac",
   "metadata": {},
   "outputs": [
    {
     "name": "stderr",
     "output_type": "stream",
     "text": [
      "C:\\Users\\felix\\AppData\\Local\\Temp/ipykernel_22188/2643943891.py:13: SettingWithCopyWarning: \n",
      "A value is trying to be set on a copy of a slice from a DataFrame.\n",
      "Try using .loc[row_indexer,col_indexer] = value instead\n",
      "\n",
      "See the caveats in the documentation: https://pandas.pydata.org/pandas-docs/stable/user_guide/indexing.html#returning-a-view-versus-a-copy\n",
      "  df_sub[\"age_cat\"] = np.select(conditions, choices)\n"
     ]
    }
   ],
   "source": [
    "df_sub = df[[\"two_year_recid\",\"ear_charge_age\" ]]\n",
    "\n",
    "conditions = [\n",
    "    (df[\"ear_charge_age\"] <= 20) ,\n",
    "    (df[\"ear_charge_age\"] > 20) & (df[\"ear_charge_age\"]  <=30),\n",
    "    (df[\"ear_charge_age\"] > 30) & (df[\"ear_charge_age\"]  <=40),\n",
    "    (df[\"ear_charge_age\"] > 40) & (df[\"ear_charge_age\"]  <=50),\n",
    "    (df[\"ear_charge_age\"] > 50) & (df[\"ear_charge_age\"]  <=60),\n",
    "    (df[\"ear_charge_age\"] > 60)]\n",
    "\n",
    "choices = [\"<20\", \"20-30\", \"30-40\", \"40-50\", \"50-60\", \">60\"]\n",
    "\n",
    "df_sub[\"age_cat\"] = np.select(conditions, choices)\n",
    "\n"
   ]
  },
  {
   "cell_type": "code",
   "execution_count": 282,
   "id": "e198cf9b-2e88-48ff-a517-3b73a33eca8c",
   "metadata": {},
   "outputs": [
    {
     "data": {
      "text/plain": [
       "<AxesSubplot:xlabel='age_cat', ylabel='count'>"
      ]
     },
     "execution_count": 282,
     "metadata": {},
     "output_type": "execute_result"
    },
    {
     "data": {
      "image/png": "[encoded data removed]",
      "text/plain": [
       "<Figure size 432x288 with 1 Axes>"
      ]
     },
     "metadata": {},
     "output_type": "display_data"
    }
   ],
   "source": [
    "sns.countplot(x=\"age_cat\", hue =\"two_year_recid\", data= df_sub, order =[\"<20\", \"20-30\", \"30-40\", \"40-50\", \"50-60\", \">60\"] )"
   ]
  },
  {
   "cell_type": "markdown",
   "id": "36b42aed-fb8b-435d-aa5e-d0ac2030e10b",
   "metadata": {},
   "source": [
    "Given the visualization above, we can already see that the age ssems to be an important factor with regards to recidivism."
   ]
  },
  {
   "cell_type": "code",
   "execution_count": 283,
   "id": "5fb698e8-77c2-41cc-ab65-db153779d719",
   "metadata": {},
   "outputs": [
    {
     "name": "stderr",
     "output_type": "stream",
     "text": [
      "C:\\Users\\felix\\AppData\\Local\\Temp/ipykernel_22188/3578576566.py:15: SettingWithCopyWarning: \n",
      "A value is trying to be set on a copy of a slice from a DataFrame.\n",
      "Try using .loc[row_indexer,col_indexer] = value instead\n",
      "\n",
      "See the caveats in the documentation: https://pandas.pydata.org/pandas-docs/stable/user_guide/indexing.html#returning-a-view-versus-a-copy\n",
      "  df_sub2[\"charge_cat\"] = np.select(conditions, choices)\n"
     ]
    }
   ],
   "source": [
    "df_sub2 = df[[\"two_year_recid\",\"max_charge_incid\" ]]\n",
    "\n",
    "#df_sub[\"ear_charge_age\"].sort_values().unique()\n",
    "\n",
    "conditions = [\n",
    "    (df[\"max_charge_incid\"] == 1) ,\n",
    "    (df[\"max_charge_incid\"] > 1) & (df[\"max_charge_incid\"]  <=2),\n",
    "    (df[\"max_charge_incid\"] > 2) & (df[\"max_charge_incid\"]  <=3),\n",
    "    (df[\"max_charge_incid\"] > 3) & (df[\"max_charge_incid\"]  <=4),\n",
    "    (df[\"max_charge_incid\"] > 4) & (df[\"max_charge_incid\"]  <=5),\n",
    "    (df[\"max_charge_incid\"] > 5)]\n",
    "\n",
    "choices = [\"1\", \"2\", \"3\", \"4\", \"5\", \">5\"]\n",
    "\n",
    "df_sub2[\"charge_cat\"] = np.select(conditions, choices)"
   ]
  },
  {
   "cell_type": "code",
   "execution_count": 284,
   "id": "116e003c-2c18-4e60-b51f-2309f5726626",
   "metadata": {},
   "outputs": [
    {
     "data": {
      "text/plain": [
       "<AxesSubplot:xlabel='charge_cat', ylabel='count'>"
      ]
     },
     "execution_count": 284,
     "metadata": {},
     "output_type": "execute_result"
    },
    {
     "data": {
      "image/png": "[encoded data removed]",
      "text/plain": [
       "<Figure size 432x288 with 1 Axes>"
      ]
     },
     "metadata": {},
     "output_type": "display_data"
    }
   ],
   "source": [
    "sns.countplot(x=\"charge_cat\", hue =\"two_year_recid\", data= df_sub2 , order = [\"1\", \"2\", \"3\", \"4\", \"5\", \">5\"])"
   ]
  },
  {
   "cell_type": "markdown",
   "id": "6771c078-88f7-480a-a11d-a6085ecd6039",
   "metadata": {},
   "source": [
    "Similarly, the amount of charges at a single incidence seems to have an impact on recidivism."
   ]
  },
  {
   "cell_type": "code",
   "execution_count": 285,
   "id": "b1b784f8-a817-417c-a044-28d03ec99204",
   "metadata": {},
   "outputs": [
    {
     "data": {
      "text/plain": [
       "<AxesSubplot:>"
      ]
     },
     "execution_count": 285,
     "metadata": {},
     "output_type": "execute_result"
    },
    {
     "data": {
      "image/png": "[encoded data removed]",
      "text/plain": [
       "<Figure size 432x288 with 2 Axes>"
      ]
     },
     "metadata": {},
     "output_type": "display_data"
    }
   ],
   "source": [
    "# checking for correlations between variables\n",
    "correlation = df.corr()\n",
    "\n",
    "# heatmap of pearson correlation\n",
    "sns.heatmap(correlation, xticklabels = correlation.columns, yticklabels=correlation.columns, \n",
    "            annot = True, fmt=\".1f\", cmap = \"Blues\", linewidth=1, linecolor='black' )\n",
    "# as expected, high correlation between count of charge degrees and the total prior charges"
   ]
  },
  {
   "cell_type": "markdown",
   "id": "0d29504c-f5aa-4739-9b7b-7a63a4dba297",
   "metadata": {},
   "source": [
    "As evident by the table, the individual count degrees correlate with our total priors count, otherwise there are no strong corellations."
   ]
  },
  {
   "cell_type": "markdown",
   "id": "ef7cfa3e-ccf3-44aa-bdd7-9bf5a3c1df01",
   "metadata": {},
   "source": [
    "We now do two last tweeks to the dataframe, by encode all categorical variables to numeric variables for modeling purposes and then convert them to categorical ones. Since three categorical features, namely sex, race and marital_status are all nominal, we will use dummy encoding for them, for the only ordinal feature, highest_degree_charged, we will use the order given. "
   ]
  },
  {
   "cell_type": "code",
   "execution_count": 286,
   "id": "c1ce53c9-ffec-4f3f-93fc-593e1c44cd45",
   "metadata": {},
   "outputs": [
    {
     "name": "stdout",
     "output_type": "stream",
     "text": [
      "['Male' 'Female']\n",
      "['Other' 'African-American' 'Caucasian' 'Hispanic' 'Asian'\n",
      " 'Native American']\n",
      "['Single' 'Separated' 'Married' 'Unknown' 'Significant Other' 'Divorced'\n",
      " 'Widowed']\n",
      "[3 2 4 5 1]\n"
     ]
    }
   ],
   "source": [
    "# categorical variables\n",
    "\n",
    "# the nominal features\n",
    "sex_cat = df[\"sex\"].unique()\n",
    "\n",
    "print(sex_cat)\n",
    "\n",
    "race_cat = df[\"race\"].unique()\n",
    "\n",
    "print(race_cat)\n",
    "\n",
    "marital_cat = df[\"marital_status\"].unique()\n",
    "\n",
    "print(marital_cat)\n",
    "\n",
    "# the ordinal feature\n",
    "deg_cat = df[\"highest_degree_charged\"].unique()\n",
    "\n",
    "print(deg_cat)"
   ]
  },
  {
   "cell_type": "code",
   "execution_count": 287,
   "id": "a5fbd958-4156-42e3-9b7c-d5a06e781022",
   "metadata": {},
   "outputs": [
    {
     "data": {
      "text/html": [
       "<div>\n",
       "<style scoped>\n",
       "    .dataframe tbody tr th:only-of-type {\n",
       "        vertical-align: middle;\n",
       "    }\n",
       "\n",
       "    .dataframe tbody tr th {\n",
       "        vertical-align: top;\n",
       "    }\n",
       "\n",
       "    .dataframe thead th {\n",
       "        text-align: right;\n",
       "    }\n",
       "</style>\n",
       "<table border=\"1\" class=\"dataframe\">\n",
       "  <thead>\n",
       "    <tr style=\"text-align: right;\">\n",
       "      <th></th>\n",
       "      <th>sex_Male</th>\n",
       "      <th>race_Asian</th>\n",
       "      <th>race_Caucasian</th>\n",
       "      <th>race_Hispanic</th>\n",
       "      <th>race_Native American</th>\n",
       "      <th>race_Other</th>\n",
       "      <th>marital_status_Married</th>\n",
       "      <th>marital_status_Separated</th>\n",
       "      <th>marital_status_Significant Other</th>\n",
       "      <th>marital_status_Single</th>\n",
       "      <th>marital_status_Unknown</th>\n",
       "      <th>marital_status_Widowed</th>\n",
       "    </tr>\n",
       "  </thead>\n",
       "  <tbody>\n",
       "    <tr>\n",
       "      <th>0</th>\n",
       "      <td>1</td>\n",
       "      <td>0</td>\n",
       "      <td>0</td>\n",
       "      <td>0</td>\n",
       "      <td>0</td>\n",
       "      <td>1</td>\n",
       "      <td>0</td>\n",
       "      <td>0</td>\n",
       "      <td>0</td>\n",
       "      <td>1</td>\n",
       "      <td>0</td>\n",
       "      <td>0</td>\n",
       "    </tr>\n",
       "    <tr>\n",
       "      <th>1</th>\n",
       "      <td>1</td>\n",
       "      <td>0</td>\n",
       "      <td>0</td>\n",
       "      <td>0</td>\n",
       "      <td>0</td>\n",
       "      <td>0</td>\n",
       "      <td>0</td>\n",
       "      <td>0</td>\n",
       "      <td>0</td>\n",
       "      <td>1</td>\n",
       "      <td>0</td>\n",
       "      <td>0</td>\n",
       "    </tr>\n",
       "    <tr>\n",
       "      <th>2</th>\n",
       "      <td>1</td>\n",
       "      <td>0</td>\n",
       "      <td>0</td>\n",
       "      <td>0</td>\n",
       "      <td>0</td>\n",
       "      <td>0</td>\n",
       "      <td>0</td>\n",
       "      <td>0</td>\n",
       "      <td>0</td>\n",
       "      <td>1</td>\n",
       "      <td>0</td>\n",
       "      <td>0</td>\n",
       "    </tr>\n",
       "    <tr>\n",
       "      <th>5</th>\n",
       "      <td>1</td>\n",
       "      <td>0</td>\n",
       "      <td>0</td>\n",
       "      <td>0</td>\n",
       "      <td>0</td>\n",
       "      <td>1</td>\n",
       "      <td>0</td>\n",
       "      <td>1</td>\n",
       "      <td>0</td>\n",
       "      <td>0</td>\n",
       "      <td>0</td>\n",
       "      <td>0</td>\n",
       "    </tr>\n",
       "    <tr>\n",
       "      <th>6</th>\n",
       "      <td>1</td>\n",
       "      <td>0</td>\n",
       "      <td>1</td>\n",
       "      <td>0</td>\n",
       "      <td>0</td>\n",
       "      <td>0</td>\n",
       "      <td>0</td>\n",
       "      <td>0</td>\n",
       "      <td>0</td>\n",
       "      <td>1</td>\n",
       "      <td>0</td>\n",
       "      <td>0</td>\n",
       "    </tr>\n",
       "  </tbody>\n",
       "</table>\n",
       "</div>"
      ],
      "text/plain": [
       "   sex_Male  race_Asian  race_Caucasian  race_Hispanic  race_Native American  \\\n",
       "0         1           0               0              0                     0   \n",
       "1         1           0               0              0                     0   \n",
       "2         1           0               0              0                     0   \n",
       "5         1           0               0              0                     0   \n",
       "6         1           0               1              0                     0   \n",
       "\n",
       "   race_Other  marital_status_Married  marital_status_Separated  \\\n",
       "0           1                       0                         0   \n",
       "1           0                       0                         0   \n",
       "2           0                       0                         0   \n",
       "5           1                       0                         1   \n",
       "6           0                       0                         0   \n",
       "\n",
       "   marital_status_Significant Other  marital_status_Single  \\\n",
       "0                                 0                      1   \n",
       "1                                 0                      1   \n",
       "2                                 0                      1   \n",
       "5                                 0                      0   \n",
       "6                                 0                      1   \n",
       "\n",
       "   marital_status_Unknown  marital_status_Widowed  \n",
       "0                       0                       0  \n",
       "1                       0                       0  \n",
       "2                       0                       0  \n",
       "5                       0                       0  \n",
       "6                       0                       0  "
      ]
     },
     "execution_count": 287,
     "metadata": {},
     "output_type": "execute_result"
    }
   ],
   "source": [
    "# we do a deep copy to keep the dataframe for non-linear models\n",
    "\n",
    "df_no_dummies = df.copy()\n",
    "\n",
    "# we get the dummy variables for the categorical features \n",
    "\n",
    "df_dummy = pd.get_dummies(df[[\"sex\", \"race\", \"marital_status\"]], prefix = [\"sex\", \"race\", \"marital_status\"], drop_first = True)\n",
    "\n",
    "df_dummy.head(5)"
   ]
  },
  {
   "cell_type": "code",
   "execution_count": 288,
   "id": "d3cc6b87-fc11-4569-8740-2dda2c85a269",
   "metadata": {},
   "outputs": [
    {
     "name": "stdout",
     "output_type": "stream",
     "text": [
      "The total amount of columns for the categorical features are: 15\n",
      "By observing the shape of the df inclusing the dummies, we see that three columns were correctly excluded compared to the amount of categories above: 12\n"
     ]
    }
   ],
   "source": [
    "print(f\"The total amount of columns for the categorical features are: {len(sex_cat) + len(race_cat) + len(marital_cat)}\")\n",
    "\n",
    "print(f\"By observing the shape of the df inclusing the dummies, we see that three columns were correctly excluded compared to the amount of categories above: {df_dummy.shape[1]}\")"
   ]
  },
  {
   "cell_type": "markdown",
   "id": "51b83002-5ab7-4ffc-9971-d44acca952d9",
   "metadata": {},
   "source": [
    "We join the data back together and exclude the columns that we dummy encoded."
   ]
  },
  {
   "cell_type": "code",
   "execution_count": 289,
   "id": "db5e41a1-0fe6-42ac-aa07-5e718e01825d",
   "metadata": {},
   "outputs": [],
   "source": [
    "# we drop the features that are not dummy encoded yet\n",
    "\n",
    "df = df.drop([\"sex\", \"race\", \"marital_status\"], axis = 1)"
   ]
  },
  {
   "cell_type": "code",
   "execution_count": 290,
   "id": "126e0784-aea6-42aa-a34b-9ebbfaa14ecd",
   "metadata": {},
   "outputs": [
    {
     "data": {
      "text/html": [
       "<div>\n",
       "<style scoped>\n",
       "    .dataframe tbody tr th:only-of-type {\n",
       "        vertical-align: middle;\n",
       "    }\n",
       "\n",
       "    .dataframe tbody tr th {\n",
       "        vertical-align: top;\n",
       "    }\n",
       "\n",
       "    .dataframe thead th {\n",
       "        text-align: right;\n",
       "    }\n",
       "</style>\n",
       "<table border=\"1\" class=\"dataframe\">\n",
       "  <thead>\n",
       "    <tr style=\"text-align: right;\">\n",
       "      <th></th>\n",
       "      <th>sex_Male</th>\n",
       "      <th>race_Asian</th>\n",
       "      <th>race_Caucasian</th>\n",
       "      <th>race_Hispanic</th>\n",
       "      <th>race_Native American</th>\n",
       "      <th>race_Other</th>\n",
       "      <th>marital_status_Married</th>\n",
       "      <th>marital_status_Separated</th>\n",
       "      <th>marital_status_Significant Other</th>\n",
       "      <th>marital_status_Single</th>\n",
       "      <th>marital_status_Unknown</th>\n",
       "      <th>marital_status_Widowed</th>\n",
       "      <th>is_recid</th>\n",
       "      <th>is_violent_recid</th>\n",
       "      <th>age</th>\n",
       "      <th>juv_fel_count</th>\n",
       "      <th>juv_misd_count</th>\n",
       "      <th>juv_other_count</th>\n",
       "      <th>highest_degree_charged</th>\n",
       "      <th>count_deg_0</th>\n",
       "      <th>count_deg_1</th>\n",
       "      <th>count_deg_2</th>\n",
       "      <th>count_deg_3</th>\n",
       "      <th>count_deg_4</th>\n",
       "      <th>count_deg_5</th>\n",
       "      <th>total_prior_charges</th>\n",
       "      <th>max_charge_incid</th>\n",
       "      <th>ear_charge_age</th>\n",
       "      <th>two_year_recid</th>\n",
       "    </tr>\n",
       "  </thead>\n",
       "  <tbody>\n",
       "    <tr>\n",
       "      <th>0</th>\n",
       "      <td>1</td>\n",
       "      <td>0</td>\n",
       "      <td>0</td>\n",
       "      <td>0</td>\n",
       "      <td>0</td>\n",
       "      <td>1</td>\n",
       "      <td>0</td>\n",
       "      <td>0</td>\n",
       "      <td>0</td>\n",
       "      <td>1</td>\n",
       "      <td>0</td>\n",
       "      <td>0</td>\n",
       "      <td>0</td>\n",
       "      <td>0</td>\n",
       "      <td>69</td>\n",
       "      <td>0</td>\n",
       "      <td>0</td>\n",
       "      <td>0</td>\n",
       "      <td>3</td>\n",
       "      <td>4</td>\n",
       "      <td>0</td>\n",
       "      <td>1</td>\n",
       "      <td>1</td>\n",
       "      <td>0</td>\n",
       "      <td>0</td>\n",
       "      <td>6</td>\n",
       "      <td>2</td>\n",
       "      <td>62.0</td>\n",
       "      <td>0</td>\n",
       "    </tr>\n",
       "    <tr>\n",
       "      <th>1</th>\n",
       "      <td>1</td>\n",
       "      <td>0</td>\n",
       "      <td>0</td>\n",
       "      <td>0</td>\n",
       "      <td>0</td>\n",
       "      <td>0</td>\n",
       "      <td>0</td>\n",
       "      <td>0</td>\n",
       "      <td>0</td>\n",
       "      <td>1</td>\n",
       "      <td>0</td>\n",
       "      <td>0</td>\n",
       "      <td>1</td>\n",
       "      <td>1</td>\n",
       "      <td>34</td>\n",
       "      <td>0</td>\n",
       "      <td>0</td>\n",
       "      <td>0</td>\n",
       "      <td>3</td>\n",
       "      <td>0</td>\n",
       "      <td>0</td>\n",
       "      <td>0</td>\n",
       "      <td>1</td>\n",
       "      <td>0</td>\n",
       "      <td>0</td>\n",
       "      <td>1</td>\n",
       "      <td>1</td>\n",
       "      <td>31.0</td>\n",
       "      <td>1</td>\n",
       "    </tr>\n",
       "    <tr>\n",
       "      <th>2</th>\n",
       "      <td>1</td>\n",
       "      <td>0</td>\n",
       "      <td>0</td>\n",
       "      <td>0</td>\n",
       "      <td>0</td>\n",
       "      <td>0</td>\n",
       "      <td>0</td>\n",
       "      <td>0</td>\n",
       "      <td>0</td>\n",
       "      <td>1</td>\n",
       "      <td>0</td>\n",
       "      <td>0</td>\n",
       "      <td>1</td>\n",
       "      <td>0</td>\n",
       "      <td>24</td>\n",
       "      <td>0</td>\n",
       "      <td>0</td>\n",
       "      <td>1</td>\n",
       "      <td>3</td>\n",
       "      <td>6</td>\n",
       "      <td>3</td>\n",
       "      <td>6</td>\n",
       "      <td>4</td>\n",
       "      <td>0</td>\n",
       "      <td>0</td>\n",
       "      <td>19</td>\n",
       "      <td>5</td>\n",
       "      <td>17.0</td>\n",
       "      <td>1</td>\n",
       "    </tr>\n",
       "    <tr>\n",
       "      <th>5</th>\n",
       "      <td>1</td>\n",
       "      <td>0</td>\n",
       "      <td>0</td>\n",
       "      <td>0</td>\n",
       "      <td>0</td>\n",
       "      <td>1</td>\n",
       "      <td>0</td>\n",
       "      <td>1</td>\n",
       "      <td>0</td>\n",
       "      <td>0</td>\n",
       "      <td>0</td>\n",
       "      <td>0</td>\n",
       "      <td>0</td>\n",
       "      <td>0</td>\n",
       "      <td>44</td>\n",
       "      <td>0</td>\n",
       "      <td>0</td>\n",
       "      <td>0</td>\n",
       "      <td>2</td>\n",
       "      <td>0</td>\n",
       "      <td>0</td>\n",
       "      <td>1</td>\n",
       "      <td>0</td>\n",
       "      <td>0</td>\n",
       "      <td>0</td>\n",
       "      <td>1</td>\n",
       "      <td>1</td>\n",
       "      <td>42.0</td>\n",
       "      <td>0</td>\n",
       "    </tr>\n",
       "    <tr>\n",
       "      <th>6</th>\n",
       "      <td>1</td>\n",
       "      <td>0</td>\n",
       "      <td>1</td>\n",
       "      <td>0</td>\n",
       "      <td>0</td>\n",
       "      <td>0</td>\n",
       "      <td>0</td>\n",
       "      <td>0</td>\n",
       "      <td>0</td>\n",
       "      <td>1</td>\n",
       "      <td>0</td>\n",
       "      <td>0</td>\n",
       "      <td>1</td>\n",
       "      <td>0</td>\n",
       "      <td>41</td>\n",
       "      <td>0</td>\n",
       "      <td>0</td>\n",
       "      <td>0</td>\n",
       "      <td>4</td>\n",
       "      <td>4</td>\n",
       "      <td>3</td>\n",
       "      <td>4</td>\n",
       "      <td>13</td>\n",
       "      <td>3</td>\n",
       "      <td>0</td>\n",
       "      <td>27</td>\n",
       "      <td>4</td>\n",
       "      <td>19.0</td>\n",
       "      <td>1</td>\n",
       "    </tr>\n",
       "  </tbody>\n",
       "</table>\n",
       "</div>"
      ],
      "text/plain": [
       "   sex_Male  race_Asian  race_Caucasian  race_Hispanic  race_Native American  \\\n",
       "0         1           0               0              0                     0   \n",
       "1         1           0               0              0                     0   \n",
       "2         1           0               0              0                     0   \n",
       "5         1           0               0              0                     0   \n",
       "6         1           0               1              0                     0   \n",
       "\n",
       "   race_Other  marital_status_Married  marital_status_Separated  \\\n",
       "0           1                       0                         0   \n",
       "1           0                       0                         0   \n",
       "2           0                       0                         0   \n",
       "5           1                       0                         1   \n",
       "6           0                       0                         0   \n",
       "\n",
       "   marital_status_Significant Other  marital_status_Single  \\\n",
       "0                                 0                      1   \n",
       "1                                 0                      1   \n",
       "2                                 0                      1   \n",
       "5                                 0                      0   \n",
       "6                                 0                      1   \n",
       "\n",
       "   marital_status_Unknown  marital_status_Widowed  is_recid  is_violent_recid  \\\n",
       "0                       0                       0         0                 0   \n",
       "1                       0                       0         1                 1   \n",
       "2                       0                       0         1                 0   \n",
       "5                       0                       0         0                 0   \n",
       "6                       0                       0         1                 0   \n",
       "\n",
       "   age  juv_fel_count  juv_misd_count  juv_other_count  \\\n",
       "0   69              0               0                0   \n",
       "1   34              0               0                0   \n",
       "2   24              0               0                1   \n",
       "5   44              0               0                0   \n",
       "6   41              0               0                0   \n",
       "\n",
       "   highest_degree_charged  count_deg_0  count_deg_1  count_deg_2  count_deg_3  \\\n",
       "0                       3            4            0            1            1   \n",
       "1                       3            0            0            0            1   \n",
       "2                       3            6            3            6            4   \n",
       "5                       2            0            0            1            0   \n",
       "6                       4            4            3            4           13   \n",
       "\n",
       "   count_deg_4  count_deg_5  total_prior_charges  max_charge_incid  \\\n",
       "0            0            0                    6                 2   \n",
       "1            0            0                    1                 1   \n",
       "2            0            0                   19                 5   \n",
       "5            0            0                    1                 1   \n",
       "6            3            0                   27                 4   \n",
       "\n",
       "   ear_charge_age  two_year_recid  \n",
       "0            62.0               0  \n",
       "1            31.0               1  \n",
       "2            17.0               1  \n",
       "5            42.0               0  \n",
       "6            19.0               1  "
      ]
     },
     "execution_count": 290,
     "metadata": {},
     "output_type": "execute_result"
    }
   ],
   "source": [
    "   \n",
    "df = pd.concat([df_dummy, df], axis = 1)\n",
    "\n",
    "df.head(5)"
   ]
  },
  {
   "cell_type": "code",
   "execution_count": 291,
   "id": "a1594b52-19f3-402a-9d30-f34059db8763",
   "metadata": {},
   "outputs": [],
   "source": [
    "# we convert the last float data type as an integer\n",
    "\n",
    "df[\"ear_charge_age\"] = df[\"ear_charge_age\"].astype(\"int64\")\n",
    "df_no_dummies[\"ear_charge_age\"] = df_no_dummies[\"ear_charge_age\"].astype(\"int64\")"
   ]
  },
  {
   "cell_type": "markdown",
   "id": "e1f54ae4-2ab8-4a9d-a534-00fe1423e913",
   "metadata": {},
   "source": [
    "One last check using pandas builtin info function tells us, that the data is now ready for modeling!"
   ]
  },
  {
   "cell_type": "code",
   "execution_count": 292,
   "id": "ee5dd04e-2fc9-4d26-8dc5-9563c4b21a63",
   "metadata": {},
   "outputs": [
    {
     "name": "stdout",
     "output_type": "stream",
     "text": [
      "<class 'pandas.core.frame.DataFrame'>\n",
      "Int64Index: 6221 entries, 0 to 7255\n",
      "Data columns (total 29 columns):\n",
      " #   Column                            Non-Null Count  Dtype\n",
      "---  ------                            --------------  -----\n",
      " 0   sex_Male                          6221 non-null   uint8\n",
      " 1   race_Asian                        6221 non-null   uint8\n",
      " 2   race_Caucasian                    6221 non-null   uint8\n",
      " 3   race_Hispanic                     6221 non-null   uint8\n",
      " 4   race_Native American              6221 non-null   uint8\n",
      " 5   race_Other                        6221 non-null   uint8\n",
      " 6   marital_status_Married            6221 non-null   uint8\n",
      " 7   marital_status_Separated          6221 non-null   uint8\n",
      " 8   marital_status_Significant Other  6221 non-null   uint8\n",
      " 9   marital_status_Single             6221 non-null   uint8\n",
      " 10  marital_status_Unknown            6221 non-null   uint8\n",
      " 11  marital_status_Widowed            6221 non-null   uint8\n",
      " 12  is_recid                          6221 non-null   int64\n",
      " 13  is_violent_recid                  6221 non-null   int64\n",
      " 14  age                               6221 non-null   int64\n",
      " 15  juv_fel_count                     6221 non-null   int64\n",
      " 16  juv_misd_count                    6221 non-null   int64\n",
      " 17  juv_other_count                   6221 non-null   int64\n",
      " 18  highest_degree_charged            6221 non-null   int64\n",
      " 19  count_deg_0                       6221 non-null   int64\n",
      " 20  count_deg_1                       6221 non-null   int64\n",
      " 21  count_deg_2                       6221 non-null   int64\n",
      " 22  count_deg_3                       6221 non-null   int64\n",
      " 23  count_deg_4                       6221 non-null   int64\n",
      " 24  count_deg_5                       6221 non-null   int64\n",
      " 25  total_prior_charges               6221 non-null   int64\n",
      " 26  max_charge_incid                  6221 non-null   int64\n",
      " 27  ear_charge_age                    6221 non-null   int64\n",
      " 28  two_year_recid                    6221 non-null   int64\n",
      "dtypes: int64(17), uint8(12)\n",
      "memory usage: 1.1 MB\n"
     ]
    }
   ],
   "source": [
    "df.info()"
   ]
  },
  {
   "cell_type": "code",
   "execution_count": 293,
   "id": "dce62ff3-7d7d-4714-80d4-75aa936a0b58",
   "metadata": {},
   "outputs": [
    {
     "name": "stdout",
     "output_type": "stream",
     "text": [
      "<class 'pandas.core.frame.DataFrame'>\n",
      "Int64Index: 6221 entries, 0 to 7255\n",
      "Data columns (total 20 columns):\n",
      " #   Column                  Non-Null Count  Dtype \n",
      "---  ------                  --------------  ----- \n",
      " 0   is_recid                6221 non-null   int64 \n",
      " 1   is_violent_recid        6221 non-null   int64 \n",
      " 2   sex                     6221 non-null   object\n",
      " 3   race                    6221 non-null   object\n",
      " 4   age                     6221 non-null   int64 \n",
      " 5   juv_fel_count           6221 non-null   int64 \n",
      " 6   juv_misd_count          6221 non-null   int64 \n",
      " 7   juv_other_count         6221 non-null   int64 \n",
      " 8   marital_status          6221 non-null   object\n",
      " 9   highest_degree_charged  6221 non-null   int64 \n",
      " 10  count_deg_0             6221 non-null   int64 \n",
      " 11  count_deg_1             6221 non-null   int64 \n",
      " 12  count_deg_2             6221 non-null   int64 \n",
      " 13  count_deg_3             6221 non-null   int64 \n",
      " 14  count_deg_4             6221 non-null   int64 \n",
      " 15  count_deg_5             6221 non-null   int64 \n",
      " 16  total_prior_charges     6221 non-null   int64 \n",
      " 17  max_charge_incid        6221 non-null   int64 \n",
      " 18  ear_charge_age          6221 non-null   int64 \n",
      " 19  two_year_recid          6221 non-null   int64 \n",
      "dtypes: int64(17), object(3)\n",
      "memory usage: 1.1+ MB\n"
     ]
    }
   ],
   "source": [
    "df_no_dummies.info()"
   ]
  },
  {
   "cell_type": "markdown",
   "id": "bf4b47b9-390a-42b4-9b23-94a0b899d9f3",
   "metadata": {},
   "source": [
    "The modeling will continue in a seperate notebook, hence we will now export the data to a csv. "
   ]
  },
  {
   "cell_type": "code",
   "execution_count": 294,
   "id": "27c165e0-8663-4187-b704-a9f7fb04aa09",
   "metadata": {},
   "outputs": [],
   "source": [
    "df_no_dummies.to_csv(\"df_for_modeling_no_dummies.csv\", header = True)\n",
    "df.to_csv('df_for_modeling_ds.csv', header=True)"
   ]
  },
  {
   "cell_type": "code",
   "execution_count": null,
   "id": "60e84f4c-2cb2-47b1-a9ec-2e56d0b75324",
   "metadata": {},
   "outputs": [],
   "source": []
  }
 ],
 "metadata": {
  "kernelspec": {
   "display_name": "Python 3 (ipykernel)",
   "language": "python",
   "name": "python3"
  },
  "language_info": {
   "codemirror_mode": {
    "name": "ipython",
    "version": 3
   },
   "file_extension": ".py",
   "mimetype": "text/x-python",
   "name": "python",
   "nbconvert_exporter": "python",
   "pygments_lexer": "ipython3",
   "version": "3.9.7"
  }
 },
 "nbformat": 4,
 "nbformat_minor": 5
}
